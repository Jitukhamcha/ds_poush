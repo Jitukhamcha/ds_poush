{
 "cells": [
  {
   "cell_type": "markdown",
   "metadata": {},
   "source": [
    "# Python Programming Assignment: List\n",
    "### Task 1: Given a list of numbers. write a program to turn every item of a list into its square. Also create a dictionary for that\n",
    "\n",
    "\n",
    "numbers = [1, 2, 3, 4, 5, 6, 7]\n"
   ]
  },
  {
   "cell_type": "code",
   "execution_count": 11,
   "id": "0988cef4",
   "metadata": {},
   "outputs": [
    {
     "name": "stdout",
     "output_type": "stream",
     "text": [
      "{1: 1, 2: 4, 3: 9, 4: 16, 5: 25, 6: 36, 7: 49}\n"
     ]
    }
   ],
   "source": [
    "numbers = [1, 2, 3, 4, 5, 6, 7]\n",
    "dict_sq = {}\n",
    "\n",
    "for i in numbers:\n",
    "    sq = i**2\n",
    "    \n",
    "    \n",
    "    # dict_sq[i] = sq \n",
    "    \n",
    "    \n",
    "    dict_sq.update({\n",
    "        i : sq\n",
    "    })\n",
    "\n",
    "print(dict_sq)"
   ]
  },
  {
   "cell_type": "code",
   "execution_count": null,
   "id": "9672005d",
   "metadata": {},
   "outputs": [],
   "source": []
  },
  {
   "cell_type": "markdown",
   "id": "85b7cc26",
   "metadata": {},
   "source": [
    "### Task 2: Add new item to list after a specified item\n",
    "\n",
    "Write a program to add item 7000 after 6000 in the following Python List\n",
    "\n",
    "list1 = [10, 20, 300, 400, 5000, 6000, 500, 30, 40]\n"
   ]
  },
  {
   "cell_type": "code",
   "execution_count": null,
   "id": "7fcdf4e5",
   "metadata": {},
   "outputs": [],
   "source": [
    "\n"
   ]
  },
  {
   "cell_type": "code",
   "execution_count": 20,
   "id": "9ae9e249",
   "metadata": {},
   "outputs": [
    {
     "data": {
      "text/plain": [
       "[10, 20, 30, 40, 'hello']"
      ]
     },
     "execution_count": 20,
     "metadata": {},
     "output_type": "execute_result"
    }
   ],
   "source": [
    "a = [10,20,30,40]\n",
    "\n",
    "# a[1] = \"hello\"\n",
    "a.insert(4, \"hello\")\n",
    "a"
   ]
  },
  {
   "cell_type": "code",
   "execution_count": 40,
   "id": "82155a97",
   "metadata": {},
   "outputs": [
    {
     "name": "stdout",
     "output_type": "stream",
     "text": [
      "3\n",
      "[10, 20, 300, 400, 'helo', 5000, 6000, 500, 30, 40]\n",
      "[10, 20, 300, 'bye', 'helo', 5000, 6000, 500, 30, 40]\n"
     ]
    }
   ],
   "source": [
    "# need to find index \n",
    "# list.index(value)\n",
    "list1 = [10, 20, 300, 400, 5000, 6000, 500, 30, 40]\n",
    "\n",
    "index = list1.index(400)\n",
    "print(index)\n",
    "\n",
    "list1.insert(index+1, \"helo\") # insert\n",
    "print(list1)\n",
    "\n",
    "list1[index] = \"bye\" # replace \n",
    "print(list1)"
   ]
  },
  {
   "cell_type": "code",
   "execution_count": null,
   "id": "56999e42",
   "metadata": {},
   "outputs": [],
   "source": []
  },
  {
   "cell_type": "markdown",
   "id": "f0832a71",
   "metadata": {},
   "source": [
    "### Task 3: Add new item to list after a specified item\n",
    "\n",
    "Write a program to add item 7000 after 6000 in the following Python List\n",
    "\n",
    "list2 = [10, 20, [300, 400, [5000, 6000], 500], 30, 40]\n"
   ]
  },
  {
   "cell_type": "code",
   "execution_count": 42,
   "id": "a5c51824",
   "metadata": {},
   "outputs": [],
   "source": []
  },
  {
   "cell_type": "code",
   "execution_count": 49,
   "id": "4f82d243",
   "metadata": {},
   "outputs": [
    {
     "data": {
      "text/plain": [
       "[10, 20, [300, 400, 500, [5000, 6000, 7000], 500], 30, 40]"
      ]
     },
     "execution_count": 49,
     "metadata": {},
     "output_type": "execute_result"
    }
   ],
   "source": [
    "list2 = [10, 20, [300, 400, 500, [5000, 6000], 500], 30, 40]\n",
    "\n",
    "list2[2][3].insert(1+1, 7000)\n",
    "list2"
   ]
  },
  {
   "cell_type": "markdown",
   "id": "4733f6a7",
   "metadata": {},
   "source": []
  },
  {
   "cell_type": "markdown",
   "id": "d082ef80",
   "metadata": {},
   "source": [
    "\n",
    "### Task 4: Replace list’s item with new value if found\n",
    "You have given a Python list. Write a program to find value 20 in the list, and if it is present, replace it with 200. Only update the first occurrence of an item.\n",
    "\n",
    "list_1 = [5, 10, 15, 20, 25, 50, 20]"
   ]
  },
  {
   "cell_type": "code",
   "execution_count": 53,
   "id": "cef4a4a8",
   "metadata": {},
   "outputs": [
    {
     "name": "stdout",
     "output_type": "stream",
     "text": [
      "3\n"
     ]
    },
    {
     "data": {
      "text/plain": [
       "[5, 10, 15, 200, 25, 50, 20]"
      ]
     },
     "execution_count": 53,
     "metadata": {},
     "output_type": "execute_result"
    }
   ],
   "source": [
    "list_1 = [5, 10, 15, 20, 25, 50, 20]\n",
    "\n",
    "desired_no = 20\n",
    "\n",
    "# if desired_no in list_1:\n",
    "index = list_1.index(desired_no)\n",
    "print(index)\n",
    "list_1[index] = 200\n",
    "\n",
    "list_1"
   ]
  },
  {
   "cell_type": "markdown",
   "id": "043f8657",
   "metadata": {},
   "source": [
    "### Task 5: Calculate sum of all numbers from 1 to a given number\n",
    "Write a Python program to accept a number from a user and calculate the sum of all numbers from 1 to a given number\n",
    "\n",
    "For example, if the user entered 10, the output should be 55 (1+2+3+4+5+6+7+8+9+10)\n"
   ]
  },
  {
   "cell_type": "code",
   "execution_count": 59,
   "id": "7dbf1921",
   "metadata": {},
   "outputs": [
    {
     "data": {
      "text/plain": [
       "55"
      ]
     },
     "execution_count": 59,
     "metadata": {},
     "output_type": "execute_result"
    }
   ],
   "source": [
    "n = 10\n",
    "\n",
    "numbers = list(range(1,n+1))\n",
    "numbers\n",
    "\n",
    "\n",
    "sum(numbers)"
   ]
  },
  {
   "cell_type": "code",
   "execution_count": 60,
   "id": "6dbeb00b",
   "metadata": {},
   "outputs": [
    {
     "name": "stdout",
     "output_type": "stream",
     "text": [
      "55\n"
     ]
    }
   ],
   "source": [
    "total = 0\n",
    "for i in numbers:\n",
    "    total = total + i\n",
    "print(total)"
   ]
  },
  {
   "cell_type": "markdown",
   "id": "28d671ac",
   "metadata": {},
   "source": [
    "### Task 6: print positive numbers in a list\n",
    "Given a list of numbers, write a Python program to count positive and negative numbers in a List. \n",
    "\n",
    "list1 = [12, -7, 5, 64, -14]"
   ]
  },
  {
   "cell_type": "code",
   "execution_count": 68,
   "id": "aa0e9333",
   "metadata": {},
   "outputs": [
    {
     "name": "stdout",
     "output_type": "stream",
     "text": [
      "12 positive\n",
      "-7 negative\n",
      "5 positive\n",
      "64 positive\n",
      "-14 negative\n",
      "1 positive\n",
      "2 positive\n",
      "3 positive\n",
      "-4 negative\n",
      "-5 negative\n",
      "-1 negative\n",
      "-20 negative\n",
      "-3 negative\n",
      "-40 negative\n"
     ]
    }
   ],
   "source": [
    "list1 = [12, -7, 5, 64, -14,1,2,3,-4,-5,-1,-20,-3,-40]\n",
    "\n",
    "pos_count = 0\n",
    "neg_count = 0\n",
    "\n",
    "for i in list1:\n",
    "    if i >= 0:\n",
    "        print(i, \"positive\")\n",
    "        pos_count = pos_count + 1\n",
    "    else:\n",
    "        print(i, \"negative\")\n",
    "        neg_count = neg_count + 1"
   ]
  },
  {
   "cell_type": "code",
   "execution_count": 69,
   "id": "90487515",
   "metadata": {},
   "outputs": [
    {
     "name": "stdout",
     "output_type": "stream",
     "text": [
      "6 8\n"
     ]
    }
   ],
   "source": [
    "print(pos_count, neg_count)"
   ]
  },
  {
   "cell_type": "markdown",
   "id": "703f2046",
   "metadata": {},
   "source": [
    "<!-- ### Task 6: Get the Difference\n",
    "\n",
    "Write a program to find the range (difference between the largest and smallest element) of the list.\n",
    "\n",
    "lst = [5, 10, 15, 200, 25, 50, 20]\n",
    "\n",
    "Output: 195 -->"
   ]
  },
  {
   "cell_type": "code",
   "execution_count": null,
   "id": "bea2061e",
   "metadata": {},
   "outputs": [],
   "source": []
  }
 ],
 "metadata": {
  "kernelspec": {
   "display_name": "base",
   "language": "python",
   "name": "python3"
  },
  "language_info": {
   "codemirror_mode": {
    "name": "ipython",
    "version": 3
   },
   "file_extension": ".py",
   "mimetype": "text/x-python",
   "name": "python",
   "nbconvert_exporter": "python",
   "pygments_lexer": "ipython3",
   "version": "3.11.4"
  }
 },
 "nbformat": 4,
 "nbformat_minor": 5
}
