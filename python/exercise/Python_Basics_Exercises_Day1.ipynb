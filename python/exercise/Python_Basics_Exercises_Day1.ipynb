{
 "cells": [
  {
   "cell_type": "markdown",
   "id": "2b6c8f91",
   "metadata": {},
   "source": [
    "# Python Basics Exercises"
   ]
  },
  {
   "cell_type": "markdown",
   "id": "79c0d437",
   "metadata": {},
   "source": [
    "## Exercise 1: Variable Naming\n",
    "- **Task**: Create variables using Camel Case, Pascal Case, and Snake Case naming conventions to store your favorite fruit and print them.\n",
    "\n",
    "**Example**:\n",
    "```python\n",
    "favoriteFruitCamelCase = \"Apple\"\n",
    "FavoriteFruitPascalCase = \"Banana\"\n",
    "favorite_fruit_snake_case = \"Cherry\"\n",
    "\n",
    "print(favoriteFruitCamelCase)\n",
    "print(FavoriteFruitPascalCase)\n",
    "print(favorite_fruit_snake_case)\n",
    "```"
   ]
  },
  {
   "cell_type": "code",
   "execution_count": 4,
   "id": "f8e83017",
   "metadata": {},
   "outputs": [],
   "source": [
    "# Your code here"
   ]
  },
  {
   "cell_type": "markdown",
   "id": "f08afc8e",
   "metadata": {},
   "source": [
    "## Exercise 2: Variable Assignment\n",
    "- **Task**: Assign the values \"Red\", 3, and \"Car\" to variables `x`, `y`, and `z` in a single line, and then print each variable."
   ]
  },
  {
   "cell_type": "code",
   "execution_count": 5,
   "id": "f63fa748",
   "metadata": {},
   "outputs": [],
   "source": [
    "# Your code here"
   ]
  },
  {
   "cell_type": "markdown",
   "id": "e3ccfb87",
   "metadata": {},
   "source": [
    "## Exercise 3: Changing Variable Types\n",
    "- **Task**: Create a variable `number` with an integer value, then change it to a string, and finally to a float. Print the data type at each step using `type()`."
   ]
  },
  {
   "cell_type": "code",
   "execution_count": 6,
   "id": "323cbce6",
   "metadata": {},
   "outputs": [],
   "source": [
    "# Your code here\n"
   ]
  },
  {
   "cell_type": "markdown",
   "id": "4bc1fb11",
   "metadata": {},
   "source": [
    "## Exercise 4: Multiple Variables\n",
    "- **Task**: Assign the same value \"Python\" to three variables: `a`, `b`, and `c`. Then, print each variable."
   ]
  },
  {
   "cell_type": "code",
   "execution_count": 7,
   "id": "01bf5bc5",
   "metadata": {},
   "outputs": [],
   "source": [
    "# Your code here\n"
   ]
  },
  {
   "cell_type": "markdown",
   "id": "c25a6527",
   "metadata": {},
   "source": [
    "## Exercise 5: Unpacking a Collection\n",
    "- **Task**: Unpack the following list into three variables and print them: `fruits = [\"Mango\", \"Grapes\", \"Peach\"]`."
   ]
  },
  {
   "cell_type": "code",
   "execution_count": 8,
   "id": "e4299270",
   "metadata": {},
   "outputs": [],
   "source": [
    "# Your code here\n"
   ]
  },
  {
   "cell_type": "markdown",
   "id": "75af8381",
   "metadata": {},
   "source": [
    "## Exercise 6: String Concatenation\n",
    "- **Task**: Create three string variables: `part1 = \"Python\"`, `part2 = \" is\"`, and `part3 = \" fun!\"`. Concatenate them and print the result."
   ]
  },
  {
   "cell_type": "code",
   "execution_count": 9,
   "id": "362cfe9b",
   "metadata": {},
   "outputs": [],
   "source": [
    "# Your code here\n"
   ]
  },
  {
   "cell_type": "markdown",
   "id": "bd695f4b",
   "metadata": {},
   "source": [
    "# Data Type Exercises"
   ]
  },
  {
   "cell_type": "markdown",
   "id": "fbf34497",
   "metadata": {},
   "source": [
    "## Exercise 7: Checking Data Types\n",
    "- **Task**: Create variables with different data types: `string`, `integer`, `float`, and `boolean`. Use `type()` to print the type of each variable."
   ]
  },
  {
   "cell_type": "code",
   "execution_count": 10,
   "id": "c5258fdc",
   "metadata": {},
   "outputs": [],
   "source": [
    "# Your code here\n"
   ]
  },
  {
   "cell_type": "markdown",
   "id": "32326c73",
   "metadata": {},
   "source": [
    "## Exercise 8: Numeric Types\n",
    "- **Task**: Create an integer `a`, a float `b`, and a complex number `c`. Print the data type of each."
   ]
  },
  {
   "cell_type": "code",
   "execution_count": 11,
   "id": "4bdedeb4",
   "metadata": {},
   "outputs": [],
   "source": [
    "# Your code here\n"
   ]
  },
  {
   "cell_type": "markdown",
   "id": "f3f9e400",
   "metadata": {},
   "source": [
    "## Exercise 9: Type Conversion\n",
    "- **Task**: Convert the integer `10` to a float, the float `8.5` to an integer. Print the converted values and their types."
   ]
  },
  {
   "cell_type": "code",
   "execution_count": 12,
   "id": "7a62e628",
   "metadata": {},
   "outputs": [],
   "source": [
    "# Your code here\n"
   ]
  }
 ],
 "metadata": {
  "kernelspec": {
   "display_name": "Python 3",
   "language": "python",
   "name": "python3"
  },
  "language_info": {
   "codemirror_mode": {
    "name": "ipython",
    "version": 3
   },
   "file_extension": ".py",
   "mimetype": "text/x-python",
   "name": "python",
   "nbconvert_exporter": "python",
   "pygments_lexer": "ipython3",
   "version": "3.10.12"
  }
 },
 "nbformat": 4,
 "nbformat_minor": 5
}
