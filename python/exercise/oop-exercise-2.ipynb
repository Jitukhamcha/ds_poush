{
 "cells": [
  {
   "cell_type": "markdown",
   "id": "ac8ab648",
   "metadata": {},
   "source": [
    "# Python exercise"
   ]
  },
  {
   "cell_type": "markdown",
   "id": "62b1aaf7",
   "metadata": {},
   "source": [
    "### Task 1: Create a function called Rectange which takes length and width and operation as a parameter. In opeation you can pass either 'area' or 'perimeter', based on the condition return the result as area or perimeter.\n",
    "\n",
    "def Rectange(length, width, operation):\n",
    "\n",
    "    # code here "
   ]
  },
  {
   "cell_type": "code",
   "execution_count": null,
   "id": "0a56b969",
   "metadata": {},
   "outputs": [],
   "source": []
  },
  {
   "cell_type": "markdown",
   "id": "bcdf841e",
   "metadata": {},
   "source": [
    "# Python Programming Assignment: OOP\n",
    "### Task 1: Write a Python program to create a calculator class. Include methods for basic arithmetic operations i.e addition, substraction, mulitplication, divison. Also handle exception case for division by zero.\n",
    "\n"
   ]
  },
  {
   "cell_type": "code",
   "execution_count": null,
   "id": "d782a505",
   "metadata": {},
   "outputs": [],
   "source": []
  },
  {
   "cell_type": "code",
   "execution_count": null,
   "id": "82f6d519",
   "metadata": {},
   "outputs": [],
   "source": []
  }
 ],
 "metadata": {
  "kernelspec": {
   "display_name": "Python 3",
   "language": "python",
   "name": "python3"
  },
  "language_info": {
   "codemirror_mode": {
    "name": "ipython",
    "version": 3
   },
   "file_extension": ".py",
   "mimetype": "text/x-python",
   "name": "python",
   "nbconvert_exporter": "python",
   "pygments_lexer": "ipython3",
   "version": "3.10.12"
  }
 },
 "nbformat": 4,
 "nbformat_minor": 5
}
