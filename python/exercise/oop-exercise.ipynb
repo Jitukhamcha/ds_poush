{
 "cells": [
  {
   "cell_type": "markdown",
   "metadata": {},
   "source": [
    "# Python Programming Assignment: OOP\n",
    "### Task 1: Write a generic class program concept having three attributes and two methods assuming name of your choices "
   ]
  },
  {
   "cell_type": "code",
   "execution_count": null,
   "id": "d782a505",
   "metadata": {},
   "outputs": [],
   "source": []
  },
  {
   "cell_type": "markdown",
   "id": "85b7cc26",
   "metadata": {},
   "source": [
    "### Task 2: Write a Python program to create a class representing a Rectangle. Include methods to calculate its area and perimeter."
   ]
  },
  {
   "cell_type": "code",
   "execution_count": null,
   "id": "ecf4fd05",
   "metadata": {},
   "outputs": [],
   "source": []
  },
  {
   "cell_type": "markdown",
   "id": "d082ef80",
   "metadata": {},
   "source": [
    "### Task 3: Write a Python program to create a person class. Include attributes like name, country and birth year. Implement a method to determine the person's age."
   ]
  },
  {
   "cell_type": "code",
   "execution_count": 26,
   "id": "9923c013",
   "metadata": {},
   "outputs": [],
   "source": [
    "from datetime import datetime\n",
    "# print(datetime.now().year)\n",
    "\n",
    "class Persondetail:\n",
    "    # constructor\n",
    "    def __init__(self, name, country, year):\n",
    "        self.name = name\n",
    "        self.country = country\n",
    "        self.year = year\n",
    "        \n",
    "    # methods \n",
    "    def get_age(self):\n",
    "        current_year = datetime.now().year\n",
    "        age = current_year - self.year\n",
    "        return age\n",
    "\n",
    "    def descripiton(self):\n",
    "        return \"Name :\" + self.name + \" Country: \" + self.country"
   ]
  },
  {
   "cell_type": "code",
   "execution_count": 27,
   "id": "d273e373",
   "metadata": {},
   "outputs": [
    {
     "name": "stdout",
     "output_type": "stream",
     "text": [
      "24\n",
      "Name :apple Country: USA\n"
     ]
    },
    {
     "data": {
      "text/plain": [
       "25"
      ]
     },
     "execution_count": 27,
     "metadata": {},
     "output_type": "execute_result"
    }
   ],
   "source": [
    "# object creation 1\n",
    "person1 = Persondetail(\"apple\", \"USA\", 2000)\n",
    "\n",
    "# method call\n",
    "print(person1.get_age())\n",
    "print(person1.descripiton()) # method call\n",
    "\n",
    "person1.name # attribute\n",
    "\n",
    "# obejct 2 \n",
    "person2 = Persondetail(\"ball\", \"nepal\", 1999)\n",
    "person2.get_age()"
   ]
  },
  {
   "cell_type": "markdown",
   "id": "043f8657",
   "metadata": {},
   "source": [
    "### Task 4: Design a simple Python program to manage bank accounts using OOP principles. The program should allow users to create accounts, deposit money, withdraw money, and check the balance.\n",
    "\n"
   ]
  },
  {
   "cell_type": "code",
   "execution_count": null,
   "id": "d11c86df",
   "metadata": {},
   "outputs": [],
   "source": [
    "class Bank_account:\n",
    "    # constructor\n",
    "    def __init__(self, name, account):\n",
    "        self.name = name\n",
    "        self.account = account\n",
    "    \n",
    "    # methods \n",
    "    def create_account(self, balance):\n",
    "        self.balance = balance\n",
    "        return \"Name: \" + self.name + \" Balance: \" + str(balance)\n",
    "\n",
    "    def deposit(self, amount):\n",
    "        self.new_balance = self.balance + amount\n",
    "        return self.new_balance\n",
    "    \n",
    "    def withdraw(self, amount):\n",
    "        if self.new_balance < amount:\n",
    "            return \"your current balance is less than the withdrawn amount\"\n",
    "        self.new_balance = self.new_balance - amount\n",
    "        return self.new_balance\n",
    "    \n",
    "    def check_balance(self):\n",
    "        return self.new_balance\n",
    "    "
   ]
  },
  {
   "cell_type": "code",
   "execution_count": 90,
   "id": "3935c427",
   "metadata": {},
   "outputs": [],
   "source": [
    "b1 = Bank_account(\"apple\", 343867598)"
   ]
  },
  {
   "cell_type": "code",
   "execution_count": 91,
   "id": "fd456f45",
   "metadata": {},
   "outputs": [
    {
     "name": "stdout",
     "output_type": "stream",
     "text": [
      "Name: apple Balance: 5000\n"
     ]
    },
    {
     "data": {
      "text/plain": [
       "6000"
      ]
     },
     "execution_count": 91,
     "metadata": {},
     "output_type": "execute_result"
    }
   ],
   "source": [
    "print(b1.create_account(5000))\n",
    "b1.deposit(1000)"
   ]
  },
  {
   "cell_type": "code",
   "execution_count": 92,
   "id": "7b40d1d0",
   "metadata": {},
   "outputs": [
    {
     "data": {
      "text/plain": [
       "'your current balance is less than the withdrawn amount'"
      ]
     },
     "execution_count": 92,
     "metadata": {},
     "output_type": "execute_result"
    }
   ],
   "source": [
    "b1.withdraw(300)"
   ]
  },
  {
   "cell_type": "code",
   "execution_count": 88,
   "id": "ed65e28e",
   "metadata": {},
   "outputs": [
    {
     "data": {
      "text/plain": [
       "5700"
      ]
     },
     "execution_count": 88,
     "metadata": {},
     "output_type": "execute_result"
    }
   ],
   "source": [
    "b1.check_balance()"
   ]
  },
  {
   "cell_type": "code",
   "execution_count": null,
   "id": "82f6d519",
   "metadata": {},
   "outputs": [],
   "source": []
  }
 ],
 "metadata": {
  "kernelspec": {
   "display_name": "Python 3",
   "language": "python",
   "name": "python3"
  },
  "language_info": {
   "codemirror_mode": {
    "name": "ipython",
    "version": 3
   },
   "file_extension": ".py",
   "mimetype": "text/x-python",
   "name": "python",
   "nbconvert_exporter": "python",
   "pygments_lexer": "ipython3",
   "version": "3.10.12"
  }
 },
 "nbformat": 4,
 "nbformat_minor": 5
}
