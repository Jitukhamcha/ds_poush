{
 "cells": [
  {
   "cell_type": "markdown",
   "metadata": {},
   "source": [
    "# Python Programming Assignment: List\n",
    "### Task 1: Get the length of each item in list\n",
    "animals = [\"Elephant\", \"Tiger\", \"Giraffe\", \"Kangaroo\", \"Dolphin\", \n",
    "           \"Panda\", \"Zebra\", \"Lion\", \"Penguin\", \"Cheetah\"]\n",
    "\n",
    "Output format:\n",
    "\n",
    "\"Elephant has length 8\"\n",
    "\n",
    "\"Tiger has length 5\"\n"
   ]
  },
  {
   "cell_type": "code",
   "execution_count": 13,
   "id": "0988cef4",
   "metadata": {},
   "outputs": [],
   "source": []
  },
  {
   "cell_type": "code",
   "execution_count": null,
   "id": "8430ea8e",
   "metadata": {},
   "outputs": [],
   "source": []
  },
  {
   "cell_type": "markdown",
   "id": "85b7cc26",
   "metadata": {},
   "source": [
    "### Task 2: Separate list based on item length\n",
    "animals = [\"Elephant\", \"Tiger\", \"Giraffe\", \"Kangaroo\", \"Dolphin\", \n",
    "           \"Panda\", \"Zebra\", \"Lion\", \"Penguin\", \"Cheetah\"]\n",
    "\n",
    "Create two list a1 and a2, where a1 should store animals name with length <= 5 and a2 with length > 5"
   ]
  },
  {
   "cell_type": "code",
   "execution_count": null,
   "id": "a5c51824",
   "metadata": {},
   "outputs": [],
   "source": []
  },
  {
   "cell_type": "markdown",
   "id": "3fdc8b60",
   "metadata": {},
   "source": [
    "\n",
    "### Task 3: Find common item between two list\n",
    "Write a program that print the common item between the given two list. Also handle for case sensitive case.\n",
    "\n",
    "animals_1 = [\"Elephant\", \"Tiger\", \"Giraffe\", \"Kangaroo\", \"Dolphin\", \n",
    "           \"Panda\", \"Zebra\", \"Lion\", \"Penguin\", \"Cheetah\"]\n",
    "           \n",
    "animals_2 = [\"Jackal\", \"tiger\",  \"LION\", \"Penguin\", \"Monkey\", \"Cheetah\"]"
   ]
  },
  {
   "cell_type": "code",
   "execution_count": null,
   "id": "6113d301",
   "metadata": {},
   "outputs": [],
   "source": []
  },
  {
   "cell_type": "markdown",
   "id": "d082ef80",
   "metadata": {},
   "source": [
    "\n",
    "### Task 4: Item remvoal\n",
    "Write a program that removes the even number from the list \n",
    "\n",
    "list_1 = [4,2,52,81,816,66,238,386,23,33,11,78789]"
   ]
  },
  {
   "cell_type": "code",
   "execution_count": null,
   "id": "b230ac76",
   "metadata": {},
   "outputs": [],
   "source": []
  },
  {
   "cell_type": "markdown",
   "id": "043f8657",
   "metadata": {},
   "source": [
    "### Task 5: Swap values given the indexes \n",
    "Write a program to swap values in a given list\n",
    "\n",
    "animals_2 = [\"Jackal\", \"tiger\",  \"LION\", \"Penguin\", \"Monkey\", \"Cheetah\"]\n",
    "\n",
    "Tasks:\n",
    "\n",
    "a. Swap first and last item in animals_2\n",
    "\n",
    "b. Swap second and second last item\n"
   ]
  },
  {
   "cell_type": "code",
   "execution_count": null,
   "id": "0d309b7f",
   "metadata": {},
   "outputs": [],
   "source": []
  },
  {
   "cell_type": "code",
   "execution_count": null,
   "id": "d1451462",
   "metadata": {},
   "outputs": [],
   "source": []
  },
  {
   "cell_type": "markdown",
   "id": "28d671ac",
   "metadata": {},
   "source": [
    "### Task 6: Casing of item \n",
    "Write a program to create three list (ANIMALS, animals, Animals) from following list with the property as given in output list name \n",
    "\n",
    "animals_names = [\"Elephant\", \"tiger\", \"GirafFe\", \"KangarOO\", \"Dolphin\", \n",
    "           \"panda\", \"ZEBRA\", \"Lion\", \"penguin\", \"Cheetah\"]\n",
    "\n",
    "#### Hint:\n",
    "ANIMALS = this should have all item in capital casing\n",
    "\n",
    "animals = this should have all item in small casing\n",
    "\n",
    "Animals = this should have all item in title casing\n"
   ]
  },
  {
   "cell_type": "code",
   "execution_count": 40,
   "id": "41e5ee19",
   "metadata": {},
   "outputs": [],
   "source": []
  },
  {
   "cell_type": "code",
   "execution_count": 49,
   "id": "30516d91",
   "metadata": {},
   "outputs": [],
   "source": []
  },
  {
   "cell_type": "code",
   "execution_count": null,
   "id": "5e3479d4",
   "metadata": {},
   "outputs": [],
   "source": []
  },
  {
   "cell_type": "code",
   "execution_count": null,
   "id": "65235bce",
   "metadata": {},
   "outputs": [],
   "source": []
  },
  {
   "cell_type": "code",
   "execution_count": null,
   "id": "aa0e9333",
   "metadata": {},
   "outputs": [],
   "source": []
  }
 ],
 "metadata": {
  "kernelspec": {
   "display_name": "Python 3",
   "language": "python",
   "name": "python3"
  },
  "language_info": {
   "codemirror_mode": {
    "name": "ipython",
    "version": 3
   },
   "file_extension": ".py",
   "mimetype": "text/x-python",
   "name": "python",
   "nbconvert_exporter": "python",
   "pygments_lexer": "ipython3",
   "version": "3.10.12"
  }
 },
 "nbformat": 4,
 "nbformat_minor": 5
}
