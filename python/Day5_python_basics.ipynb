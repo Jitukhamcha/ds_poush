{
 "cells": [
  {
   "cell_type": "markdown",
   "id": "26dccae9-7669-4c83-8407-80189e364df7",
   "metadata": {},
   "source": [
    "<h2>Exception Handling</h2> <br>\n",
    "When an error occurs, Python will normally stop and generate an error message. <br>\n",
    "\n",
    "* Errors are the problems in a program due to which the program will stop the execution.<br>\n",
    "* There are two types of Error occurs in python. <br>\n",
    "      1. <b>Syntax errors <br>\n",
    "      2. Logical errors (Exceptions)</b> "
   ]
  },
  {
   "cell_type": "code",
   "execution_count": null,
   "id": "3e5b7af7",
   "metadata": {},
   "outputs": [],
   "source": []
  },
  {
   "cell_type": "code",
   "execution_count": null,
   "id": "5e375ce2",
   "metadata": {},
   "outputs": [],
   "source": []
  },
  {
   "cell_type": "code",
   "execution_count": null,
   "id": "75552f3e",
   "metadata": {},
   "outputs": [],
   "source": []
  },
  {
   "cell_type": "code",
   "execution_count": 3,
   "id": "45fccfc0-5e9a-4b44-a9c0-90d9add19648",
   "metadata": {},
   "outputs": [
    {
     "ename": "ZeroDivisionError",
     "evalue": "division by zero",
     "output_type": "error",
     "traceback": [
      "\u001b[0;31m---------------------------------------------------------------------------\u001b[0m",
      "\u001b[0;31mZeroDivisionError\u001b[0m                         Traceback (most recent call last)",
      "Cell \u001b[0;32mIn[3], line 4\u001b[0m\n\u001b[1;32m      1\u001b[0m a \u001b[38;5;241m=\u001b[39m \u001b[38;5;241m1\u001b[39m\n\u001b[1;32m      2\u001b[0m b \u001b[38;5;241m=\u001b[39m \u001b[38;5;241m0\u001b[39m\n\u001b[0;32m----> 4\u001b[0m c \u001b[38;5;241m=\u001b[39m \u001b[38;5;241;43m1\u001b[39;49m\u001b[38;5;241;43m/\u001b[39;49m\u001b[38;5;241;43m0\u001b[39;49m \u001b[38;5;66;03m# as 1/0 is undefined \u001b[39;00m\n\u001b[1;32m      6\u001b[0m \u001b[38;5;28mprint\u001b[39m(c)\n",
      "\u001b[0;31mZeroDivisionError\u001b[0m: division by zero"
     ]
    }
   ],
   "source": [
    "a = 1\n",
    "b = 0\n",
    "\n",
    "c = 1/0 # as 1/0 is undefined \n",
    "\n",
    "print(c)"
   ]
  },
  {
   "cell_type": "markdown",
   "id": "144b15d1-6096-4056-8209-d7bd9b8e01ad",
   "metadata": {},
   "source": [
    "<h3><b>Syntax errors </b></h3><br>\n",
    "When the proper syntax of the language is not followed then a syntax error is thrown."
   ]
  },
  {
   "cell_type": "code",
   "execution_count": null,
   "id": "d4d2abf1-588e-4dad-aa28-de1bb8cbc1b8",
   "metadata": {},
   "outputs": [
    {
     "ename": "SyntaxError",
     "evalue": "invalid syntax (549833291.py, line 8)",
     "output_type": "error",
     "traceback": [
      "\u001b[0;36m  Cell \u001b[0;32mIn[7], line 8\u001b[0;36m\u001b[0m\n\u001b[0;31m    if(number>2999)\u001b[0m\n\u001b[0m                   ^\u001b[0m\n\u001b[0;31mSyntaxError\u001b[0m\u001b[0;31m:\u001b[0m invalid syntax\n"
     ]
    }
   ],
   "source": [
    "#program to show syntax error\n",
    "\n",
    "# initialize the amount variable \n",
    "number = 10000\n",
    "  \n",
    "# check that You are eligible to \n",
    "#  purchase Dsa Self Paced or not \n",
    "if (number>2999)\n",
    "    print(\"You are eligible to purchase Dsa Self Paced\") "
   ]
  },
  {
   "cell_type": "markdown",
   "id": "dc8c5adf-8f7e-4571-b011-456c7ec222c4",
   "metadata": {},
   "source": [
    "<h3><b>logical errors(Exception) </b></h3><br>\n",
    "When in the runtime an error that occurs after passing the syntax test is called exception or logical type."
   ]
  },
  {
   "cell_type": "code",
   "execution_count": 9,
   "id": "a41f9ed7-952e-430c-8a08-4128263568fd",
   "metadata": {},
   "outputs": [
    {
     "ename": "ZeroDivisionError",
     "evalue": "division by zero",
     "output_type": "error",
     "traceback": [
      "\u001b[0;31m---------------------------------------------------------------------------\u001b[0m",
      "\u001b[0;31mZeroDivisionError\u001b[0m                         Traceback (most recent call last)",
      "Cell \u001b[0;32mIn[9], line 5\u001b[0m\n\u001b[1;32m      2\u001b[0m marks \u001b[38;5;241m=\u001b[39m \u001b[38;5;241m90\u001b[39m\n\u001b[1;32m      4\u001b[0m \u001b[38;5;66;03m# perform division with 0 \u001b[39;00m\n\u001b[0;32m----> 5\u001b[0m a \u001b[38;5;241m=\u001b[39m \u001b[43mmarks\u001b[49m\u001b[43m \u001b[49m\u001b[38;5;241;43m/\u001b[39;49m\u001b[43m \u001b[49m\u001b[38;5;241;43m0\u001b[39;49m\n\u001b[1;32m      6\u001b[0m \u001b[38;5;28mprint\u001b[39m(a) \n",
      "\u001b[0;31mZeroDivisionError\u001b[0m: division by zero"
     ]
    }
   ],
   "source": [
    "# initialize the amount variable \n",
    "marks = 90\n",
    "  \n",
    "# perform division with 0 \n",
    "a = marks / 0\n",
    "print(a) "
   ]
  },
  {
   "cell_type": "markdown",
   "id": "949bb76b-1905-4de2-88ad-72109808220f",
   "metadata": {},
   "source": [
    "<!DOCTYPE html>\n",
    "<html>\n",
    "<head>\n",
    "    <title>Two-Column Table</title>\n",
    "</head>\n",
    "<body>\n",
    "    <table border=\"1\">\n",
    "        <tr>\n",
    "            <th>Exception</th>\n",
    "            <th>Description</th>\n",
    "        </tr>\n",
    "        <tr>\n",
    "            <td>IndexError</td>\n",
    "            <td>When the wrong index of a list is retrieved.</td>\n",
    "        </tr>\n",
    "        <tr>\n",
    "            <td>AssertionError</td>\n",
    "            <td>It occurs when the assert statement fails</td>\n",
    "        </tr>\n",
    "        <tr>\n",
    "            <td>AttributeError</td>\n",
    "            <td>It occurs when an attribute assignment is failed.</td>\n",
    "        </tr>\n",
    "        <tr>\n",
    "            <td>ImportError\t</td>\n",
    "            <td>It occurs when an imported module is not found.</td>\n",
    "        </tr>\n",
    "        <tr>\n",
    "            <td>KeyError</td>\n",
    "            <td>It occurs when the key of the dictionary is not found.</td>\n",
    "        </tr>\n",
    "        <tr>\n",
    "            <td>NameError</td>\n",
    "            <td>It occurs when the variable is not defined.</td>\n",
    "        </tr>\n",
    "        <tr>\n",
    "            <td>MemoryError\t</td>\n",
    "            <td>It occurs when a program runs out of memory.</td>\n",
    "        </tr>\n",
    "        <tr>\n",
    "            <td>TypeError</td>\n",
    "            <td>It occurs when a function and operation are applied in an incorrect type.</td>\n",
    "        </tr>\n",
    "    </table>\n",
    "</body>\n",
    "</html>\n"
   ]
  },
  {
   "cell_type": "code",
   "execution_count": null,
   "id": "c663cda5-0403-4f16-85e2-831226773ca8",
   "metadata": {},
   "outputs": [],
   "source": []
  },
  {
   "cell_type": "markdown",
   "id": "1525dbbb-f2ef-4c4e-bbdb-e1155dcc425d",
   "metadata": {},
   "source": [
    "<h2>Error Handling with Try Catch</h2> <br>\n",
    "\n",
    "* Handling Exceptions with <b>Try/Except/Finally</b>\n",
    "* The <b>try</b> block lets you test a block of code for errors.\n",
    "\n",
    "* The <b>except</b> block lets you handle the error.\n",
    "\n",
    "* The <b>else</b> block lets you execute code when there is no error.\n",
    "\n",
    "* The <b>finally</b> block lets you execute code, regardless of the result of the try- and except blocks."
   ]
  },
  {
   "cell_type": "markdown",
   "id": "46b00d1d-5147-4857-8458-88128f718c70",
   "metadata": {},
   "source": [
    "<b>Try and Except Statement</b>"
   ]
  },
  {
   "cell_type": "code",
   "execution_count": 10,
   "id": "3709616e-0c0d-40a6-9aec-5cef00609cad",
   "metadata": {},
   "outputs": [
    {
     "name": "stdout",
     "output_type": "stream",
     "text": [
      "It is not divisible\n"
     ]
    }
   ],
   "source": [
    "# initialize the amount variable \n",
    "marks = 90\n",
    "  \n",
    "# perform division with 0 \n",
    "try:\n",
    "    a = marks / 0\n",
    "    print(a) \n",
    "except:\n",
    "    print(\"It is not divisible\")"
   ]
  },
  {
   "cell_type": "code",
   "execution_count": 4,
   "id": "bb53ab5b",
   "metadata": {},
   "outputs": [
    {
     "name": "stdout",
     "output_type": "stream",
     "text": [
      "no divisible by zero\n"
     ]
    }
   ],
   "source": [
    "try:\n",
    "    a = 6/0\n",
    "except:\n",
    "    print(\"no divisible by zero\")"
   ]
  },
  {
   "cell_type": "code",
   "execution_count": 17,
   "id": "0be9655d",
   "metadata": {},
   "outputs": [
    {
     "data": {
      "text/plain": [
       "'no divisible'"
      ]
     },
     "execution_count": 17,
     "metadata": {},
     "output_type": "execute_result"
    }
   ],
   "source": [
    "## Exercise \n",
    "### Create a function div(a,b) which takes two argument and handle the case when b is zero.\n",
    "\n",
    "def div(a,b):\n",
    "    try:\n",
    "        result = a/b\n",
    "    except:\n",
    "        result = \"no divisible\"\n",
    "    return result\n",
    "div(4,0)"
   ]
  },
  {
   "cell_type": "code",
   "execution_count": 26,
   "id": "11bcb96d",
   "metadata": {},
   "outputs": [
    {
     "data": {
      "text/plain": [
       "'jit 7876'"
      ]
     },
     "execution_count": 26,
     "metadata": {},
     "output_type": "execute_result"
    }
   ],
   "source": [
    "## write a function that takes two parameter a, b and return the concat result. handle condition \n",
    "## arguments are mismatched types\n",
    "def name(a,b):\n",
    "    try:\n",
    "        fullName = a + \" \" + b\n",
    "    except:\n",
    "        return \"Cannot add two different data types\"\n",
    "    return fullName\n",
    "\n",
    "name(\"jit\", '7876')"
   ]
  },
  {
   "cell_type": "markdown",
   "id": "b606ca46-6ed0-45f1-a7f4-fed19df1674c",
   "metadata": {},
   "source": [
    "<b>Try with Else Clause</b>"
   ]
  },
  {
   "cell_type": "code",
   "execution_count": 18,
   "id": "f1042987-af5a-46a8-a4f1-f322ea820391",
   "metadata": {},
   "outputs": [
    {
     "name": "stdout",
     "output_type": "stream",
     "text": [
      "Yeah ! Your answer is : 1\n"
     ]
    }
   ],
   "source": [
    "# Python code to illustrate working of try()  \n",
    "def divide(x, y): \n",
    "    try: \n",
    "        # Floor Division : Gives only Fractional\n",
    "        # Part as Answer \n",
    "        result = x // y \n",
    "    except ZeroDivisionError: \n",
    "        print(\"Sorry ! You are dividing by zero \") \n",
    "    else:\n",
    "        print(\"Yeah ! Your answer is :\", result) \n",
    "   \n",
    "# Look at parameters and note the working of Program \n",
    "divide(3, 2) \n",
    "# divide(3, 0)"
   ]
  },
  {
   "cell_type": "markdown",
   "id": "1038bf6e-b748-44bc-afe2-9b9ca9e53777",
   "metadata": {},
   "source": [
    "<b>Python finally Keyword</b>"
   ]
  },
  {
   "cell_type": "code",
   "execution_count": 27,
   "id": "2a59beae-93e0-45a3-ba09-3a83ba681f50",
   "metadata": {},
   "outputs": [
    {
     "name": "stdout",
     "output_type": "stream",
     "text": [
      "Sorry ! You are dividing by zero \n",
      "This is always executed\n"
     ]
    }
   ],
   "source": [
    "# Python code to illustrate \n",
    "# working of try()  \n",
    "def divide(x, y): \n",
    "    try: \n",
    "        # Floor Division : Gives only Fractional \n",
    "        # Part as Answer \n",
    "        result = x // y \n",
    "    except ZeroDivisionError: \n",
    "        print(\"Sorry ! You are dividing by zero \") \n",
    "    else:\n",
    "        print(\"Yeah ! Your answer is :\", result) \n",
    "    finally:  \n",
    "        # this block is always executed   \n",
    "        # regardless of exception generation.  \n",
    "        print('This is always executed')   \n",
    " \n",
    "# Look at parameters and note the working of Program \n",
    "# divide(3, 2) \n",
    "divide(3, 0)"
   ]
  },
  {
   "cell_type": "code",
   "execution_count": null,
   "id": "e9818bd8-95ac-485b-b9cb-14d98ff557a1",
   "metadata": {},
   "outputs": [],
   "source": []
  },
  {
   "cell_type": "code",
   "execution_count": 34,
   "id": "a4a10809",
   "metadata": {},
   "outputs": [
    {
     "name": "stdout",
     "output_type": "stream",
     "text": [
      "{'pet': ['dog', 'cat'], 'domestic': ['cow', 'horse'], 'wild': ['tiger', 'fox']}\n"
     ]
    }
   ],
   "source": [
    "animals = {\n",
    "    \"pet\": ['dog', 'cat'],\n",
    "    \"domestic\": [\"cow\", \"horse\"],\n",
    "    \"wild\": [\"tiger\", \"fox\"]\n",
    "}\n",
    "print(animals)\n",
    "\n",
    "## write a function that takes key as argument and provide values from above dictionary. And handle exception like KeyError\n",
    "\n",
    "def get_value(k):\n",
    "    try:\n",
    "        result = animals[k]\n",
    "        print(result)\n",
    "    except:\n",
    "        print(\"exceptions found, key not found\")\n",
    "\n"
   ]
  },
  {
   "cell_type": "code",
   "execution_count": 35,
   "id": "01214f63",
   "metadata": {},
   "outputs": [
    {
     "name": "stdout",
     "output_type": "stream",
     "text": [
      "['cow', 'horse']\n"
     ]
    }
   ],
   "source": [
    "get_value(\"domestic\")"
   ]
  },
  {
   "cell_type": "code",
   "execution_count": 36,
   "id": "33d5a067",
   "metadata": {},
   "outputs": [
    {
     "name": "stdout",
     "output_type": "stream",
     "text": [
      "['tiger', 'fox']\n"
     ]
    }
   ],
   "source": [
    "get_value('wild')"
   ]
  },
  {
   "cell_type": "code",
   "execution_count": 37,
   "id": "05ac0cc1",
   "metadata": {},
   "outputs": [
    {
     "name": "stdout",
     "output_type": "stream",
     "text": [
      "exceptions found, key not found\n"
     ]
    }
   ],
   "source": [
    "get_value('wild animal')"
   ]
  },
  {
   "cell_type": "code",
   "execution_count": null,
   "id": "234a5865",
   "metadata": {},
   "outputs": [],
   "source": []
  },
  {
   "cell_type": "code",
   "execution_count": null,
   "id": "ce33fa4d-ff61-4ff0-9605-4a31c55dd7a9",
   "metadata": {},
   "outputs": [],
   "source": []
  },
  {
   "cell_type": "markdown",
   "id": "0764f24f-44e2-429b-8454-1da8aae1f3a0",
   "metadata": {},
   "source": [
    "<h3>Global and Local Variables in Python</h3>"
   ]
  },
  {
   "cell_type": "markdown",
   "id": "6953335a-06f5-422d-9a31-f3d14e701948",
   "metadata": {},
   "source": [
    "<h3>Local variables</h3> <br>\n",
    "\n",
    "\n",
    "* Defined inside the function <br>\n",
    "* Local variables are accessible only inside the function"
   ]
  },
  {
   "cell_type": "code",
   "execution_count": 41,
   "id": "27a12b20-d522-4304-b50d-981e7b3e5052",
   "metadata": {},
   "outputs": [
    {
     "name": "stdout",
     "output_type": "stream",
     "text": [
      "This is a data science class\n"
     ]
    },
    {
     "ename": "NameError",
     "evalue": "name 'var1' is not defined",
     "output_type": "error",
     "traceback": [
      "\u001b[0;31m---------------------------------------------------------------------------\u001b[0m",
      "\u001b[0;31mNameError\u001b[0m                                 Traceback (most recent call last)",
      "Cell \u001b[0;32mIn[41], line 10\u001b[0m\n\u001b[1;32m      8\u001b[0m \u001b[38;5;66;03m# calling function\u001b[39;00m\n\u001b[1;32m      9\u001b[0m f()\n\u001b[0;32m---> 10\u001b[0m \u001b[38;5;28mprint\u001b[39m(var1)\n",
      "\u001b[0;31mNameError\u001b[0m: name 'var1' is not defined"
     ]
    }
   ],
   "source": [
    "def f():\n",
    " \n",
    "    # local variable\n",
    "    var1 = \"This is a data science class\"\n",
    "    print(var1)\n",
    " \n",
    " \n",
    "# calling function\n",
    "f()\n",
    "print(var1)"
   ]
  },
  {
   "cell_type": "code",
   "execution_count": null,
   "id": "34db8188-c40f-42b5-ad4c-193bbdf22a47",
   "metadata": {},
   "outputs": [],
   "source": []
  },
  {
   "cell_type": "code",
   "execution_count": null,
   "id": "040fff7e-d636-456a-b940-cd91ee3a178c",
   "metadata": {},
   "outputs": [],
   "source": []
  },
  {
   "cell_type": "markdown",
   "id": "522819ed-64f0-43d2-9b53-04b4f76f1ee5",
   "metadata": {},
   "source": [
    "<h3>Global variables</h3> <br>\n",
    "\n",
    "* Defined outside the function <br>\n",
    "* global variables are accessible throughout the program"
   ]
  },
  {
   "cell_type": "code",
   "execution_count": 44,
   "id": "62e76561-aadd-4494-90ae-716d6a416c34",
   "metadata": {},
   "outputs": [
    {
     "name": "stdout",
     "output_type": "stream",
     "text": [
      "56\n",
      "pass\n",
      "56\n",
      "0\n"
     ]
    }
   ],
   "source": [
    "all_marks = 56  #global variable as it is outside the function\n",
    "\n",
    "def check_marks(marks):\n",
    "    print(all_marks)\n",
    "    if marks >= 42:\n",
    "        print(\"pass\")\n",
    "    else:\n",
    "        print(\"fail\")\n",
    "\n",
    "\n",
    "check_marks(all_marks)\n",
    "result = 0\n",
    "print(all_marks)\n",
    "print(result)"
   ]
  },
  {
   "cell_type": "code",
   "execution_count": null,
   "id": "ca942c83-4741-4820-9ab5-5ae2d1813155",
   "metadata": {},
   "outputs": [],
   "source": []
  },
  {
   "cell_type": "code",
   "execution_count": 45,
   "id": "c2ab072e-5c95-40fa-abff-523871d13329",
   "metadata": {},
   "outputs": [
    {
     "name": "stdout",
     "output_type": "stream",
     "text": [
      "Inside Function: This is data science class\n",
      "Outside Function: This is data science class\n"
     ]
    }
   ],
   "source": [
    "# This function uses global variable s\n",
    "def f():\n",
    "    print(\"Inside Function:\", s)\n",
    " \n",
    "# Global scope\n",
    "s = \"This is data science class\"\n",
    "\n",
    "f()\n",
    "\n",
    "print(\"Outside Function:\", s)"
   ]
  },
  {
   "cell_type": "code",
   "execution_count": null,
   "id": "7e7f8760-ac56-48e1-b532-d96e06c9afac",
   "metadata": {},
   "outputs": [],
   "source": [
    "\n",
    "    \n"
   ]
  },
  {
   "cell_type": "code",
   "execution_count": 47,
   "id": "211c7b8d-3a17-4ea0-92f4-e1ab27d80094",
   "metadata": {},
   "outputs": [
    {
     "name": "stdout",
     "output_type": "stream",
     "text": [
      "inside:: 10\n"
     ]
    },
    {
     "ename": "NameError",
     "evalue": "name 'var2' is not defined",
     "output_type": "error",
     "traceback": [
      "\u001b[0;31m---------------------------------------------------------------------------\u001b[0m",
      "\u001b[0;31mNameError\u001b[0m                                 Traceback (most recent call last)",
      "Cell \u001b[0;32mIn[47], line 13\u001b[0m\n\u001b[1;32m      7\u001b[0m f()\n\u001b[1;32m      9\u001b[0m \u001b[38;5;66;03m# # Global scope\u001b[39;00m\n\u001b[1;32m     10\u001b[0m \u001b[38;5;66;03m# s = 30\u001b[39;00m\n\u001b[1;32m     11\u001b[0m \n\u001b[1;32m     12\u001b[0m \u001b[38;5;66;03m# f()\u001b[39;00m\n\u001b[0;32m---> 13\u001b[0m \u001b[38;5;28mprint\u001b[39m(var2)\n",
      "\u001b[0;31mNameError\u001b[0m: name 'var2' is not defined"
     ]
    }
   ],
   "source": [
    "# This function has a variable with\n",
    "# name same as s.\n",
    "def f():\n",
    "    var2 = 10\n",
    "    print(\"inside::\", var2)\n",
    "\n",
    "f()\n",
    "\n",
    "# # Global scope\n",
    "# s = 30\n",
    "\n",
    "# f()\n",
    "print(var2)"
   ]
  },
  {
   "cell_type": "code",
   "execution_count": null,
   "id": "27cf425a",
   "metadata": {},
   "outputs": [],
   "source": []
  },
  {
   "cell_type": "code",
   "execution_count": 61,
   "id": "2d60d545",
   "metadata": {},
   "outputs": [],
   "source": [
    "v = 100\n",
    "def function_1():\n",
    "    global variable_1\n",
    "    variable_1 = 10\n",
    "    print(variable_1)\n",
    "    print(v)"
   ]
  },
  {
   "cell_type": "code",
   "execution_count": 62,
   "id": "32aee5ce",
   "metadata": {},
   "outputs": [
    {
     "name": "stdout",
     "output_type": "stream",
     "text": [
      "10\n",
      "100\n"
     ]
    }
   ],
   "source": [
    "function_1()"
   ]
  },
  {
   "cell_type": "code",
   "execution_count": 63,
   "id": "744681ba",
   "metadata": {},
   "outputs": [
    {
     "name": "stdout",
     "output_type": "stream",
     "text": [
      "10\n"
     ]
    }
   ],
   "source": [
    "print(variable_1)"
   ]
  },
  {
   "cell_type": "code",
   "execution_count": 64,
   "id": "8a696ce7",
   "metadata": {},
   "outputs": [],
   "source": [
    "def function_2():\n",
    "    variable_2  = 20\n",
    "    print(variable_2)\n",
    "    print(v)\n",
    "    print(variable_1)"
   ]
  },
  {
   "cell_type": "code",
   "execution_count": 65,
   "id": "e01bce7d",
   "metadata": {},
   "outputs": [
    {
     "name": "stdout",
     "output_type": "stream",
     "text": [
      "20\n",
      "100\n",
      "10\n"
     ]
    }
   ],
   "source": [
    "function_2()"
   ]
  },
  {
   "cell_type": "code",
   "execution_count": 66,
   "id": "3830ae61",
   "metadata": {},
   "outputs": [],
   "source": [
    "def f1():\n",
    "    a = 10\n",
    "    print(a)"
   ]
  },
  {
   "cell_type": "code",
   "execution_count": 67,
   "id": "ab63d0ea",
   "metadata": {},
   "outputs": [
    {
     "name": "stdout",
     "output_type": "stream",
     "text": [
      "10\n"
     ]
    }
   ],
   "source": [
    "f1()"
   ]
  },
  {
   "cell_type": "code",
   "execution_count": 68,
   "id": "54319ecf",
   "metadata": {},
   "outputs": [],
   "source": [
    "def f2():\n",
    "    a = 20\n",
    "    print(a)"
   ]
  },
  {
   "cell_type": "code",
   "execution_count": 69,
   "id": "c4104880",
   "metadata": {},
   "outputs": [
    {
     "name": "stdout",
     "output_type": "stream",
     "text": [
      "20\n"
     ]
    }
   ],
   "source": [
    "f2()"
   ]
  },
  {
   "cell_type": "code",
   "execution_count": null,
   "id": "044e95d6",
   "metadata": {},
   "outputs": [],
   "source": []
  },
  {
   "cell_type": "code",
   "execution_count": null,
   "id": "8ac20221",
   "metadata": {},
   "outputs": [],
   "source": []
  },
  {
   "cell_type": "code",
   "execution_count": null,
   "id": "3d7847ff",
   "metadata": {},
   "outputs": [],
   "source": []
  },
  {
   "cell_type": "markdown",
   "id": "793bbe31-3de2-4b99-b8b0-b1b737f6e209",
   "metadata": {},
   "source": [
    "<b>To create a global variable inside a function, you can use the global keyword."
   ]
  },
  {
   "cell_type": "code",
   "execution_count": 3,
   "id": "fd0991b4-305c-423e-a0ec-df45dab81879",
   "metadata": {},
   "outputs": [
    {
     "name": "stdout",
     "output_type": "stream",
     "text": [
      "fantastic\n",
      "Python is  fantastic\n"
     ]
    }
   ],
   "source": [
    "def myfunc():\n",
    "    global x\n",
    "    x = \"fantastic\"\n",
    "    print(x)\n",
    "myfunc()\n",
    "\n",
    "print(\"Python is \", x)"
   ]
  },
  {
   "cell_type": "code",
   "execution_count": 4,
   "id": "0dcbee80-d068-42c8-838d-df5c670f330d",
   "metadata": {},
   "outputs": [
    {
     "name": "stdout",
     "output_type": "stream",
     "text": [
      "fantastic\n",
      "Python is fantastic\n"
     ]
    }
   ],
   "source": [
    "x = \"awesome\"\n",
    "\n",
    "def myfunc():\n",
    "  global x\n",
    "  x = \"fantastic\"\n",
    "  print(x)\n",
    "\n",
    "\n",
    "myfunc()\n",
    "\n",
    "print(\"Python is \" + x)"
   ]
  },
  {
   "cell_type": "code",
   "execution_count": null,
   "id": "143a078c-9e43-4285-b00f-fcd7cbacb723",
   "metadata": {},
   "outputs": [],
   "source": [
    "# "
   ]
  },
  {
   "cell_type": "code",
   "execution_count": null,
   "id": "30c944a3",
   "metadata": {},
   "outputs": [],
   "source": []
  },
  {
   "cell_type": "code",
   "execution_count": null,
   "id": "1fbbd631",
   "metadata": {},
   "outputs": [],
   "source": []
  },
  {
   "cell_type": "code",
   "execution_count": null,
   "id": "80d7ba36",
   "metadata": {},
   "outputs": [],
   "source": []
  },
  {
   "cell_type": "code",
   "execution_count": null,
   "id": "6b1084bb",
   "metadata": {},
   "outputs": [],
   "source": []
  },
  {
   "cell_type": "markdown",
   "id": "f0bfde59-f8fa-4e99-935f-07e6c4f7b73a",
   "metadata": {},
   "source": [
    "<h2>File Handling in Python</h2>"
   ]
  },
  {
   "cell_type": "markdown",
   "id": "008256b9-ef2f-47d5-82d2-c3439fa02046",
   "metadata": {},
   "source": [
    "* Python allows users to handle files i.e., to read and write files, update and delete files.\n",
    "*  Python treats files as either text or binary"
   ]
  },
  {
   "cell_type": "markdown",
   "id": "0f6aa4c8-fe9e-42ae-aae6-3d9c2fe53101",
   "metadata": {},
   "source": [
    "* The key function for working with files in Python is the <b>open()</b> function.<br>\n",
    "* The <b>open()</b> function takes two parameters; <b>filename </b>, and <b>mode</b>.<br>\n",
    "i.e. <b>open(filename, mode)</b>"
   ]
  },
  {
   "cell_type": "markdown",
   "id": "be8864b5-4470-4a61-bc52-5e41c540ef0f",
   "metadata": {},
   "source": [
    "There are four different methods (modes) for opening a file: <br>\n",
    "\n",
    "\n",
    "<b>\"r\"</b> - Read - Default value. Opens a file for reading, error if the file does not exist\n",
    "\n",
    "<b>\"a\"</b> - Append - Opens a file for appending, creates the file if it does not exist\n",
    "\n",
    "<b>\"w\"</b> - Write - Opens a file for writing, creates the file if it does not exist\n",
    "\n",
    "<b>\"x\"</b> - Create - Creates the specified file, returns an error if the file exists"
   ]
  },
  {
   "cell_type": "markdown",
   "id": "9e0d8218-8889-4bd3-9610-e4a13f769dc8",
   "metadata": {},
   "source": [
    "You can specify if the file should be handled as binary or text mode <br>\n",
    "\n",
    "<b>\"t\"</b> - Text - Default value. Text mode\n",
    "\n",
    "<b>\"b\"</b>- Binary - Binary mode (e.g. images)"
   ]
  },
  {
   "cell_type": "code",
   "execution_count": 16,
   "id": "026204f5-b031-49df-a499-a6ee39c46b1e",
   "metadata": {},
   "outputs": [
    {
     "data": {
      "text/plain": [
       "<_io.TextIOWrapper name='files/demo2.txt' mode='a' encoding='UTF-8'>"
      ]
     },
     "execution_count": 16,
     "metadata": {},
     "output_type": "execute_result"
    }
   ],
   "source": [
    "# f = open(\"demofile2.txt\", mode=\"w\")\n",
    "\n",
    "open(file=\"files/demofile.txt\", mode=\"r\").read()\n",
    "open(file=\"files/demo2.txt\", mode=\"a\")\n",
    "\n",
    "# open(\"files/demofile.txt\", mode=\"r\").read()\n",
    "#     f.close()\n",
    "    \n",
    "# with open(\"demofile.txt\", 'r') as f:\n",
    "    "
   ]
  },
  {
   "cell_type": "code",
   "execution_count": 17,
   "id": "f00879fd",
   "metadata": {},
   "outputs": [],
   "source": [
    "def get_result(a,b):\n",
    "    percentage = (a+b)/200*100\n",
    "    return percentage"
   ]
  },
  {
   "cell_type": "code",
   "execution_count": 18,
   "id": "1d120509",
   "metadata": {},
   "outputs": [
    {
     "name": "stdout",
     "output_type": "stream",
     "text": [
      "25.0\n"
     ]
    }
   ],
   "source": [
    "print(get_result(20,30))"
   ]
  },
  {
   "cell_type": "code",
   "execution_count": null,
   "id": "75d0ab96",
   "metadata": {},
   "outputs": [],
   "source": []
  },
  {
   "cell_type": "markdown",
   "id": "50d34b0c-4e50-4d4c-9f73-be1972365fae",
   "metadata": {},
   "source": [
    "<h4>Working in Read mode</h4>\n"
   ]
  },
  {
   "cell_type": "code",
   "execution_count": 30,
   "id": "9b65fb03-3bf2-4852-a129-ad357a026577",
   "metadata": {},
   "outputs": [
    {
     "name": "stdout",
     "output_type": "stream",
     "text": [
      "this is my first demo file \n",
      "i am on second line\n",
      "this is the third line \n",
      "manual addition\n"
     ]
    }
   ],
   "source": [
    "f = open('files/demofile.txt', \"r\")\n",
    "print(f.read())\n",
    "f.close()"
   ]
  },
  {
   "cell_type": "code",
   "execution_count": 42,
   "id": "0e26b47a",
   "metadata": {},
   "outputs": [
    {
     "name": "stdout",
     "output_type": "stream",
     "text": [
      "['this is my first demo file \\n', 'i am on second line\\n', 'this is the third line \\n', 'manual addition']\n",
      "this is my first demo file \n",
      " False\n",
      "i am on second line\n",
      " False\n",
      "this is the third line \n",
      " False\n",
      "manual addition True\n"
     ]
    }
   ],
   "source": [
    "f = open('files/demofile.txt', \"r\")\n",
    "content = f.readlines()\n",
    "print(content)\n",
    "for i in content:\n",
    "    print(i, \"addition\" in i)"
   ]
  },
  {
   "cell_type": "code",
   "execution_count": 43,
   "id": "ffb531a2",
   "metadata": {},
   "outputs": [
    {
     "name": "stdout",
     "output_type": "stream",
     "text": [
      "/home/jitu/Desktop/ai-python-course/upskills_2/python\n"
     ]
    }
   ],
   "source": [
    "!pwd"
   ]
  },
  {
   "cell_type": "code",
   "execution_count": null,
   "id": "cc8baa97",
   "metadata": {},
   "outputs": [],
   "source": []
  },
  {
   "cell_type": "code",
   "execution_count": null,
   "id": "4f9ca31e",
   "metadata": {},
   "outputs": [],
   "source": []
  },
  {
   "cell_type": "markdown",
   "id": "a245db9e-41a4-4585-9e24-f59ed14e4724",
   "metadata": {},
   "source": [
    "<b>Read Lines</b> <br>\n",
    "You can return one line by using the <b>readline()</b> method."
   ]
  },
  {
   "cell_type": "code",
   "execution_count": 49,
   "id": "6b3cb9da-9c15-42b9-89da-9a6766fa5bd8",
   "metadata": {},
   "outputs": [
    {
     "name": "stdout",
     "output_type": "stream",
     "text": [
      "this is second line\n",
      "\n"
     ]
    }
   ],
   "source": [
    "f = open(f\"{file_dir}/demofile.txt\")#you can also specify how many characters you want to return\n",
    "# print(f.readlines())\n",
    "print(f.readlines()[1])"
   ]
  },
  {
   "cell_type": "code",
   "execution_count": 50,
   "id": "db3e0fa2-f6e3-4968-801a-1c819958d56e",
   "metadata": {},
   "outputs": [
    {
     "name": "stdout",
     "output_type": "stream",
     "text": [
      "this is the demo file.\n",
      "\n",
      "this is second line\n",
      "\n",
      "this is third\n"
     ]
    }
   ],
   "source": [
    "f = open(f\"{file_dir}/demofile.txt\")#you can also specify how many characters you want to return\n",
    "for x in f:\n",
    "    print(x)\n",
    "  # print(x.split())"
   ]
  },
  {
   "cell_type": "code",
   "execution_count": 47,
   "id": "666d969b-1316-477c-a4e9-dd8d1c2107cb",
   "metadata": {},
   "outputs": [
    {
     "name": "stdout",
     "output_type": "stream",
     "text": [
      "This is a file.\n",
      "\n"
     ]
    }
   ],
   "source": [
    "f = open(\"file.txt\", \"r\")\n",
    "print(f.readline())\n",
    "f.close() #closes the file # The close() command terminates all the resources in use"
   ]
  },
  {
   "cell_type": "code",
   "execution_count": null,
   "id": "24d46da4",
   "metadata": {},
   "outputs": [],
   "source": [
    "/home/jitu/Desktop/ai-python-course/upskills/python/files"
   ]
  },
  {
   "cell_type": "code",
   "execution_count": 39,
   "id": "2e064591",
   "metadata": {},
   "outputs": [
    {
     "name": "stdout",
     "output_type": "stream",
     "text": [
      "['This is a test file This is a test file\\n']\n"
     ]
    }
   ],
   "source": [
    "with open(file=\"files/demofile.txt\", mode=\"r\") as f:\n",
    "    data = f.readlines()\n",
    "    print(data)"
   ]
  },
  {
   "cell_type": "markdown",
   "id": "bdfd473a-937e-40c7-9bf7-6b8f69059764",
   "metadata": {},
   "source": [
    "<h4>Working in Write Mode</h4>\n",
    "using write() method"
   ]
  },
  {
   "cell_type": "code",
   "execution_count": 64,
   "id": "e8f9d1b4-be3d-4a7e-81d9-fb34878c8f4b",
   "metadata": {},
   "outputs": [],
   "source": [
    "# Python code to create a file\n",
    "\n",
    "# file = open(file = \"files/demofile.txt\", mode=\"w\")\n",
    "f = open(file = \"files/demofile3.txt\", mode=\"a\")\n",
    "\n",
    "f.writelines(\"This is a test for appeding\\n this i also here \") \n",
    "f.close()"
   ]
  },
  {
   "cell_type": "code",
   "execution_count": 50,
   "id": "81bd1d6e",
   "metadata": {},
   "outputs": [
    {
     "data": {
      "text/plain": [
       "'C:\\\\Users\\\\us\\\\Documents\\\\python_tutorials'"
      ]
     },
     "execution_count": 50,
     "metadata": {},
     "output_type": "execute_result"
    }
   ],
   "source": [
    "%pwd"
   ]
  },
  {
   "cell_type": "markdown",
   "id": "ebb723d8-8983-4318-9a3a-ac74cc2ec0aa",
   "metadata": {},
   "source": [
    "using append() method"
   ]
  },
  {
   "cell_type": "code",
   "execution_count": 40,
   "id": "9aaac576-9f2f-4f4b-a6a3-e1f81fd2bee7",
   "metadata": {},
   "outputs": [],
   "source": [
    "# Python code to illustrate append() mode\n",
    "file = open('new_file.txt', 'a')\n",
    "file.write(\"This will add this line \\n\")\n",
    "file.close()"
   ]
  },
  {
   "cell_type": "code",
   "execution_count": 72,
   "id": "45f3f07a-65aa-4ad5-a9c0-9411abff83fe",
   "metadata": {},
   "outputs": [],
   "source": [
    "# with open('test.txt', 'a') as file:\n",
    "#     file.write(\"This will add this line\")"
   ]
  },
  {
   "cell_type": "code",
   "execution_count": 42,
   "id": "bc05c0b7",
   "metadata": {},
   "outputs": [
    {
     "name": "stdout",
     "output_type": "stream",
     "text": [
      "/home/jitu/Desktop/ai-python-course/upskills/python\n"
     ]
    }
   ],
   "source": [
    "!pwd"
   ]
  },
  {
   "cell_type": "code",
   "execution_count": 69,
   "id": "88e21a93",
   "metadata": {},
   "outputs": [
    {
     "name": "stdout",
     "output_type": "stream",
     "text": [
      "['This is a test for appeding\\n', 'This is a test for appeding\\n', 'This is a test for appeding\\n', 'This is a test for appeding\\n', 'This is a test for appeding\\n', 'This is a test for appeding\\n', ' this i also here ']\n"
     ]
    }
   ],
   "source": [
    "# read\n",
    "\n",
    "f = open(file=\"files/demofile3.txt\", mode = \"r\")\n",
    "# print(f.read())\n",
    "print(f.readlines())"
   ]
  },
  {
   "cell_type": "code",
   "execution_count": 78,
   "id": "e28fb1f9",
   "metadata": {},
   "outputs": [],
   "source": [
    "# write : w, a, x \n",
    "f = open(file=\"files/demo2.txt\", mode=\"a\")\n",
    "f.writelines(\"this is appedn\\n\")"
   ]
  },
  {
   "cell_type": "code",
   "execution_count": null,
   "id": "47152e89",
   "metadata": {},
   "outputs": [],
   "source": []
  },
  {
   "cell_type": "code",
   "execution_count": null,
   "id": "e65df941",
   "metadata": {},
   "outputs": [],
   "source": []
  },
  {
   "cell_type": "markdown",
   "id": "38707b78-c944-40c9-863f-f26bfdd52889",
   "metadata": {},
   "source": [
    "<h4>Delete a File</h4>\n",
    "To delete a file, you must import the OS module, and run its <b>os.remove()</b> function"
   ]
  },
  {
   "cell_type": "code",
   "execution_count": 79,
   "id": "18c3b934",
   "metadata": {},
   "outputs": [],
   "source": [
    "import os "
   ]
  },
  {
   "cell_type": "code",
   "execution_count": 80,
   "id": "e9210196",
   "metadata": {},
   "outputs": [
    {
     "data": {
      "text/plain": [
       "['files',\n",
       " 'Day4_python_basics.ipynb',\n",
       " 'Day3_python_basics.ipynb',\n",
       " 'Day_1_python_basics.ipynb',\n",
       " 'Day5_python_basics.ipynb',\n",
       " 'Day2_python_basics.ipynb']"
      ]
     },
     "execution_count": 80,
     "metadata": {},
     "output_type": "execute_result"
    }
   ],
   "source": [
    "os.listdir()"
   ]
  },
  {
   "cell_type": "code",
   "execution_count": 81,
   "id": "41ce6ba3",
   "metadata": {},
   "outputs": [],
   "source": [
    "os.remove(\"files/demo2.txt\")"
   ]
  },
  {
   "cell_type": "code",
   "execution_count": 90,
   "id": "b1aaea04",
   "metadata": {},
   "outputs": [
    {
     "ename": "FileExistsError",
     "evalue": "[Errno 17] File exists: 'files2'",
     "output_type": "error",
     "traceback": [
      "\u001b[0;31m---------------------------------------------------------------------------\u001b[0m",
      "\u001b[0;31mFileExistsError\u001b[0m                           Traceback (most recent call last)",
      "Cell \u001b[0;32mIn[90], line 1\u001b[0m\n\u001b[0;32m----> 1\u001b[0m os\u001b[38;5;241m.\u001b[39mmakedirs(\u001b[38;5;124m\"\u001b[39m\u001b[38;5;124mfiles2\u001b[39m\u001b[38;5;124m\"\u001b[39m)\n\u001b[1;32m      2\u001b[0m os\u001b[38;5;241m.\u001b[39mpath\u001b[38;5;241m.\u001b[39mexists(\u001b[38;5;124m\"\u001b[39m\u001b[38;5;124mfiles2\u001b[39m\u001b[38;5;124m\"\u001b[39m)\n",
      "File \u001b[0;32m<frozen os>:225\u001b[0m, in \u001b[0;36mmakedirs\u001b[0;34m(name, mode, exist_ok)\u001b[0m\n",
      "\u001b[0;31mFileExistsError\u001b[0m: [Errno 17] File exists: 'files2'"
     ]
    }
   ],
   "source": [
    "os.makedirs(\"files2\")\n",
    "os.path.exists(\"files2\")"
   ]
  },
  {
   "cell_type": "code",
   "execution_count": 93,
   "id": "402296f8-c4b1-4165-bec2-f724b7155098",
   "metadata": {},
   "outputs": [],
   "source": [
    "import os\n",
    "path = \"/home/jitu/Desktop/ai-python-course/upskills_2/python/ff\"\n",
    "if not os.path.exists(path):\n",
    "    os.makedirs(path)\n",
    "# os.remove(\"files/demofile.txt\")"
   ]
  },
  {
   "cell_type": "code",
   "execution_count": 85,
   "id": "e7855768",
   "metadata": {},
   "outputs": [],
   "source": [
    "os.rmdir(\"files2\")"
   ]
  },
  {
   "cell_type": "code",
   "execution_count": 64,
   "id": "7e1981fd-5021-4fbd-b6fd-e271454f8fa8",
   "metadata": {},
   "outputs": [
    {
     "ename": "FileNotFoundError",
     "evalue": "[WinError 2] The system cannot find the file specified: 'file.txt'",
     "output_type": "error",
     "traceback": [
      "\u001b[1;31m---------------------------------------------------------------------------\u001b[0m",
      "\u001b[1;31mFileNotFoundError\u001b[0m                         Traceback (most recent call last)",
      "\u001b[1;32m~\\AppData\\Local\\Temp\\ipykernel_10200\\1011931249.py\u001b[0m in \u001b[0;36m<module>\u001b[1;34m\u001b[0m\n\u001b[0;32m      3\u001b[0m \u001b[1;33m\u001b[0m\u001b[0m\n\u001b[0;32m      4\u001b[0m \u001b[1;32mif\u001b[0m \u001b[0mos\u001b[0m\u001b[1;33m.\u001b[0m\u001b[0mpath\u001b[0m\u001b[1;33m.\u001b[0m\u001b[0mexists\u001b[0m\u001b[1;33m(\u001b[0m\u001b[1;34m\"new_file.txt\"\u001b[0m\u001b[1;33m)\u001b[0m\u001b[1;33m:\u001b[0m\u001b[1;33m\u001b[0m\u001b[1;33m\u001b[0m\u001b[0m\n\u001b[1;32m----> 5\u001b[1;33m   \u001b[0mos\u001b[0m\u001b[1;33m.\u001b[0m\u001b[0mremove\u001b[0m\u001b[1;33m(\u001b[0m\u001b[1;34m\"file.txt\"\u001b[0m\u001b[1;33m)\u001b[0m\u001b[1;33m\u001b[0m\u001b[1;33m\u001b[0m\u001b[0m\n\u001b[0m\u001b[0;32m      6\u001b[0m \u001b[1;32melse\u001b[0m\u001b[1;33m:\u001b[0m\u001b[1;33m\u001b[0m\u001b[1;33m\u001b[0m\u001b[0m\n\u001b[0;32m      7\u001b[0m   \u001b[0mprint\u001b[0m\u001b[1;33m(\u001b[0m\u001b[1;34m\"The file does not exist\"\u001b[0m\u001b[1;33m)\u001b[0m\u001b[1;33m\u001b[0m\u001b[1;33m\u001b[0m\u001b[0m\n",
      "\u001b[1;31mFileNotFoundError\u001b[0m: [WinError 2] The system cannot find the file specified: 'file.txt'"
     ]
    }
   ],
   "source": [
    "#check if file exists\n",
    "import os\n",
    "\n",
    "if os.path.exists(\"new_file.txt\"):\n",
    "  os.remove(\"file.txt\")\n",
    "else:\n",
    "  print(\"The file does not exist\")"
   ]
  },
  {
   "cell_type": "markdown",
   "id": "4e7d83a4-8886-46ec-a856-ff57c82963c3",
   "metadata": {},
   "source": [
    "<h4>Delete Folder</h4>\n",
    "To delete an entire folder, use the <b>os.rmdir()</b> method."
   ]
  },
  {
   "cell_type": "code",
   "execution_count": null,
   "id": "894eea33-2b2e-4e63-b50b-686a35fe1b70",
   "metadata": {},
   "outputs": [],
   "source": [
    "import os\n",
    "os.rmdir(\"name\")"
   ]
  },
  {
   "cell_type": "code",
   "execution_count": 105,
   "id": "14ab3107",
   "metadata": {},
   "outputs": [],
   "source": [
    "## exercise \n",
    "import os \n",
    "namelist = [\"jit\", \"ashim\", \"siddhi\", \"bhola\", \"rajan\", \"ishwor\"]\n",
    "\n",
    "\n",
    "for i in namelist:\n",
    "    if not os.path.exists(i):\n",
    "        os.makedirs(i)\n",
    "    \n",
    "    f = open(file=f\"{i}/{i}-file.txt\", mode=\"a\")\n",
    "    f.write(str(i))\n",
    "    "
   ]
  },
  {
   "cell_type": "code",
   "execution_count": null,
   "id": "a7ae9b76",
   "metadata": {},
   "outputs": [],
   "source": []
  },
  {
   "cell_type": "code",
   "execution_count": null,
   "id": "3c4e2711",
   "metadata": {},
   "outputs": [],
   "source": []
  },
  {
   "cell_type": "code",
   "execution_count": null,
   "id": "96f6fa51",
   "metadata": {},
   "outputs": [],
   "source": []
  },
  {
   "cell_type": "code",
   "execution_count": null,
   "id": "e4f00e08",
   "metadata": {},
   "outputs": [],
   "source": []
  },
  {
   "cell_type": "code",
   "execution_count": null,
   "id": "983af55a",
   "metadata": {},
   "outputs": [],
   "source": []
  },
  {
   "cell_type": "markdown",
   "id": "9815eaf0-aded-442e-b566-e96e363ab5fd",
   "metadata": {},
   "source": [
    "<h3> Python RegEx </h3> <br> \n",
    "\n",
    "* A RegEx, or Regular Expression, is a sequence of characters that forms a search pattern.\n",
    "* Python has a built-in package called re, which can be used to work with Regular Expressions.\n",
    "\n"
   ]
  },
  {
   "cell_type": "markdown",
   "id": "aadf7d6d-cac0-4d9c-bdfc-04f9f5f8acbb",
   "metadata": {},
   "source": [
    "<h4> RegEx Module</h4> \n",
    "Python has a built-in package called <b>re</b>, which can be used to work with Regular Expressions."
   ]
  },
  {
   "cell_type": "code",
   "execution_count": 107,
   "id": "aec794f6-537e-4d38-ab8c-d9866254cde3",
   "metadata": {},
   "outputs": [],
   "source": [
    "import re"
   ]
  },
  {
   "cell_type": "code",
   "execution_count": 108,
   "id": "1ea92893-6245-4b0a-a0a4-f41399932bd9",
   "metadata": {},
   "outputs": [
    {
     "name": "stdout",
     "output_type": "stream",
     "text": [
      "YES! We have a match!\n"
     ]
    }
   ],
   "source": [
    "import re\n",
    "\n",
    "#Check if the string starts with \"I\" and ends with \"Ashim\":\n",
    "\n",
    "txt = \"I am a data science student Ashim\"\n",
    "\n",
    "x = re.search(\"^I.*Ashim$\", txt)\n",
    "\n",
    "if x:\n",
    "  print(\"YES! We have a match!\")\n",
    "else:\n",
    "  print(\"No match\")\n"
   ]
  },
  {
   "cell_type": "code",
   "execution_count": 111,
   "id": "b24f561e-b369-44e0-914b-5cff16b4feaa",
   "metadata": {},
   "outputs": [
    {
     "name": "stdout",
     "output_type": "stream",
     "text": [
      "['123456789', '67', '987654321']\n"
     ]
    }
   ],
   "source": [
    "# A Python program to demonstrate working of  \n",
    "# findall()  \n",
    "import re  \n",
    "    \n",
    "# A sample text string where regular expression   \n",
    "# is searched.  \n",
    "string = \"\"\"Hello my Number is 123456789 and  \n",
    "             my friend's 67 number is 987654321\"\"\"\n",
    "    \n",
    "# A sample regular expression to find digits.  \n",
    "regex = '\\d+'             \n",
    "    \n",
    "match = re.findall(regex, string)  \n",
    "print(match)"
   ]
  },
  {
   "cell_type": "code",
   "execution_count": 110,
   "id": "e0258d3c-93f6-43d5-8bf1-393ef891e052",
   "metadata": {},
   "outputs": [
    {
     "name": "stdout",
     "output_type": "stream",
     "text": [
      "['+977 9849240444', '+977 9812345678']\n"
     ]
    }
   ],
   "source": [
    "import re\n",
    "\n",
    "text = \"Sample text with a Nepali phone number: +977 9849240444. Another number: +977 9812345678.\"\n",
    "\n",
    "nepali_phone_numbers = re.findall(r'\\+977\\s?\\d{10}', text)\n",
    "print(nepali_phone_numbers)\n"
   ]
  },
  {
   "cell_type": "markdown",
   "id": "9cf5ec1b-de42-4480-bf91-3525bee1fb81",
   "metadata": {},
   "source": [
    "<h4>Why RegEx? </h4> <br>\n",
    "\n",
    "* Data Mining (best tool for data mining) <br>\n",
    "      - phone no, url, email etc.<br>\n",
    "  \n",
    "* Data Validation (perfectly validate data)<br>\n",
    "      - validating phone numbers, emails<br>"
   ]
  },
  {
   "cell_type": "markdown",
   "id": "5dc2cb51-1a88-4a14-9c33-db8873f39881",
   "metadata": {},
   "source": [
    "<!DOCTYPE html>\n",
    "<html>\n",
    "<head>\n",
    "  <title>Metacharacters</title>\n",
    "</head>\n",
    "<body>\n",
    "\n",
    "<table border=\"1\">\n",
    "  <tr>\n",
    "    <th>Character</th>\n",
    "    <th>Description</th>\n",
    "    <th>Example</th>\n",
    "  </tr>\n",
    "  <tr>\n",
    "    <td>[]</td>\n",
    "    <td>A set of characters</td>\n",
    "    <td>\"[a-m]\"</td>\n",
    "  </tr>\n",
    "  <tr>\n",
    "    <td>\\</td>\n",
    "    <td>Signals a special sequence</td>\n",
    "    <td>\"\\d\"</td>\n",
    "  </tr>\n",
    "    <td>^</td>\n",
    "    <td>Starts with</td>\n",
    "    <td>\"^hello\"</td>\n",
    "  <tr>\n",
    "\n",
    "  </tr>\n",
    "    <td>.</td>\n",
    "    <td>Any character</td>\n",
    "    <td>\"he..o\"\t</td>\n",
    "  <tr>\n",
    "\n",
    "\n",
    "  </tr>\n",
    "    <td>*</td>\n",
    "    <td>Zero or more occurrences</td>\n",
    "    <td>\"he.*o\"</td>\n",
    "  <tr>\n",
    "\n",
    "  </tr>\n",
    "    <td>+</td>\n",
    "    <td>One or more occurrences</td>\n",
    "    <td>\"he.+o\"</td>\n",
    "  <tr>\n",
    "\n",
    "  </tr>\n",
    "    <td>?</td>\n",
    "    <td>Zero or more occurrences</td>\n",
    "    <td>\"he?o\"</td>\n",
    "  <tr>\n",
    "\n",
    "  </tr>\n",
    "    <td>{}</td>\n",
    "    <td>Exactly the specified number of occurrences\t</td>\n",
    "    <td>\"he.{2}o\"</td>\n",
    "  <tr>\n",
    "\n",
    "  </tr>\n",
    "    <td>|</td>\n",
    "    <td>Either or</td>\n",
    "    <td>\"falls|stays\"</td>\n",
    "  <tr>\n",
    "\n",
    "  </tr>\n",
    "    <td> dollar sign</td>\n",
    "    <td>Ends with\t</td>\n",
    "    <td>  \"planet$\"  </td>\n",
    "  <tr>\n",
    "      \n",
    "  </tr>\n",
    "</table>\n",
    "\n",
    "</body>\n",
    "</html>\n"
   ]
  },
  {
   "cell_type": "code",
   "execution_count": 9,
   "id": "b5c5137e",
   "metadata": {},
   "outputs": [
    {
     "data": {
      "text/plain": [
       "[]"
      ]
     },
     "execution_count": 9,
     "metadata": {},
     "output_type": "execute_result"
    }
   ],
   "source": [
    "re.findall(\"^h?o$\", \"hyyyo\")"
   ]
  },
  {
   "cell_type": "code",
   "execution_count": 40,
   "id": "4a508d1e-583b-4155-ad3b-929ed0f6659b",
   "metadata": {},
   "outputs": [
    {
     "name": "stdout",
     "output_type": "stream",
     "text": [
      "['1', '0', '5']\n"
     ]
    }
   ],
   "source": [
    "import re\n",
    "\n",
    "txt = \"The cost of a pen is Rs 10 and pencil is Rs 5.\"\n",
    "\n",
    "#Find all lower case characters alphabetically between \"a\" and \"m\":\n",
    "\n",
    "x = re.findall(\"[0-9]\", txt)  # 0-9\n",
    "print(x)"
   ]
  },
  {
   "cell_type": "code",
   "execution_count": 43,
   "id": "8ecc7d8d-5169-4e55-a187-0f89da7110e1",
   "metadata": {},
   "outputs": [
    {
     "name": "stdout",
     "output_type": "stream",
     "text": [
      "['10', '5']\n"
     ]
    }
   ],
   "source": [
    "import re\n",
    "\n",
    "txt = \"The cost of a pen is Rs 10 and pencil is Rs 5.\"\n",
    "\n",
    "#Find all digit characters:\n",
    "\n",
    "x = re.findall(\"\\d+\", txt)\n",
    "print(x)\n"
   ]
  },
  {
   "cell_type": "code",
   "execution_count": 44,
   "id": "1b10f55f-fb41-487c-979e-4caad4fd0f2a",
   "metadata": {},
   "outputs": [
    {
     "name": "stdout",
     "output_type": "stream",
     "text": [
      "<re.Match object; span=(7, 12), match='hello'>\n"
     ]
    }
   ],
   "source": [
    "import re\n",
    "\n",
    "txt = \"python hello\"\n",
    "\n",
    "#Search for a sequence that starts with \"he\", followed by two (any) characters, and an \"o\":\n",
    "\n",
    "x = re.search(\"he..o\", txt)\n",
    "print(x)"
   ]
  },
  {
   "cell_type": "code",
   "execution_count": 46,
   "id": "c7cea5aa-5274-4960-aefc-86d7b22e3681",
   "metadata": {},
   "outputs": [
    {
     "name": "stdout",
     "output_type": "stream",
     "text": [
      "Yes, the string starts with 'hello'\n"
     ]
    }
   ],
   "source": [
    "import re\n",
    "\n",
    "txt = \"hello python\"\n",
    "\n",
    "#Check if the string starts with 'hello':\n",
    "\n",
    "x = re.findall(\"^hello\", txt)\n",
    "if x:\n",
    "  print(\"Yes, the string starts with 'hello'\")\n",
    "else:\n",
    "  print(\"No match\")"
   ]
  },
  {
   "cell_type": "code",
   "execution_count": 90,
   "id": "84a2a89f-1200-45c7-b626-9d90a49550e9",
   "metadata": {},
   "outputs": [
    {
     "name": "stdout",
     "output_type": "stream",
     "text": [
      "Yes, the string ends with 'planet'\n"
     ]
    }
   ],
   "source": [
    "import re\n",
    "\n",
    "txt = \"hello python\"\n",
    "\n",
    "#Check if the string ends with 'planet':\n",
    "\n",
    "x = re.findall(\"python$\", txt)\n",
    "if x:\n",
    "  print(\"Yes, the string ends with 'planet'\")\n",
    "else:\n",
    "  print(\"No match\")"
   ]
  },
  {
   "cell_type": "code",
   "execution_count": null,
   "id": "428570fa-f499-405d-9eb6-1b5f5d7555f2",
   "metadata": {},
   "outputs": [],
   "source": []
  },
  {
   "cell_type": "markdown",
   "id": "6491d449-cc8b-4aaa-a963-3a58551ff24b",
   "metadata": {},
   "source": [
    "<h4> RegEx Functions</h4>\n",
    " "
   ]
  },
  {
   "cell_type": "markdown",
   "id": "c90eb1e8-8b57-44db-81f1-172cf8d8e63a",
   "metadata": {},
   "source": [
    "<!DOCTYPE html>\n",
    "<html>\n",
    "<head>\n",
    "  <title>Table Example</title>\n",
    "</head>\n",
    "<body>\n",
    "\n",
    "<table border=\"1\">\n",
    "  <tr>\n",
    "    <th>Function</th>\n",
    "    <th>Description</th>\n",
    "  </tr>\n",
    "  <tr>\n",
    "    <td>findall</td>\n",
    "    <td>Returns a list containing all matches</td>\n",
    "  </tr>\n",
    "  <tr>\n",
    "    <td>search</td>\n",
    "    <td>Returns a Match object if there is a match anywhere in the string</td>\n",
    "  </tr>\n",
    "  <tr>\n",
    "    <td>split</td>\n",
    "    <td>Returns a list where the string has been split at each match</td>\n",
    "  </tr>\n",
    "  <tr>\n",
    "    <td>sub</td>\n",
    "    <td>Replaces one or many matches with a string</td>\n",
    "  </tr>\n",
    "</table>\n",
    "\n",
    "</body>\n",
    "</html>\n"
   ]
  },
  {
   "cell_type": "markdown",
   "id": "309e09b8-1069-467f-9bb6-dcbacb18218c",
   "metadata": {},
   "source": [
    "<h4> The findall() Function </h4><br>\n",
    "The <b>findall()</b> function returns a list containing all matches"
   ]
  },
  {
   "cell_type": "code",
   "execution_count": 118,
   "id": "bba8c3ff-e0f8-43ac-8820-3278e44299f5",
   "metadata": {},
   "outputs": [
    {
     "name": "stdout",
     "output_type": "stream",
     "text": [
      "<re.Match object; span=(12, 16), match='port'>\n",
      "Yes, there is at least one match!\n"
     ]
    }
   ],
   "source": [
    "import re\n",
    "\n",
    "txt = \"The rain in portugal, spain\"\n",
    "\n",
    "#Check if \"Portugal\" is in the string:\n",
    "\n",
    "x = re.search(\"port\", txt)\n",
    "print(x)\n",
    "\n",
    "if (x):\n",
    "  print(\"Yes, there is at least one match!\")\n",
    "else:\n",
    "  print(\"No match\")"
   ]
  },
  {
   "cell_type": "code",
   "execution_count": 122,
   "id": "6c104387-5801-4e71-88a5-bf088251e179",
   "metadata": {},
   "outputs": [
    {
     "name": "stdout",
     "output_type": "stream",
     "text": [
      "[]\n"
     ]
    }
   ],
   "source": [
    "import re\n",
    "\n",
    "text = \"The catt fs\"\n",
    "matches = re.findall(r'\\b\\w{3}\\b', text)  # Matches four-letter words\n",
    "print(matches)  # Output: ['cat', 'and', 'the', 'hat', 'sat', 'the', 'mat']\n"
   ]
  },
  {
   "cell_type": "markdown",
   "id": "59e467cc-5a41-4198-87d9-2c2a1f867385",
   "metadata": {},
   "source": [
    "If no matches are found, an empty list is returned"
   ]
  },
  {
   "cell_type": "markdown",
   "id": "bd3ab520-f834-42d2-8616-30adb3c76d6b",
   "metadata": {},
   "source": [
    "<h4>The <b>search()</b> Function</h4> <br>\n",
    "The search() function searches the string for a match, and returns a Match object if there is a match."
   ]
  },
  {
   "cell_type": "code",
   "execution_count": 123,
   "id": "891112f0-41c8-4cee-83d4-76da4c2dc9e5",
   "metadata": {},
   "outputs": [
    {
     "name": "stdout",
     "output_type": "stream",
     "text": [
      "<re.Match object; span=(12, 17), match='Spain'>\n"
     ]
    }
   ],
   "source": [
    "import re\n",
    "\n",
    "txt = \"The rain in Spain\"\n",
    "x = re.search(\"Spain\", txt)\n",
    "print(x)"
   ]
  },
  {
   "cell_type": "code",
   "execution_count": 132,
   "id": "65546637-9f14-4549-9cff-e6810b1072c9",
   "metadata": {},
   "outputs": [
    {
     "name": "stdout",
     "output_type": "stream",
     "text": [
      "The\n"
     ]
    }
   ],
   "source": [
    "import re\n",
    "\n",
    "text = \"The cat and the hat sat on the mat.\"\n",
    "\n",
    "match = re.search(r'\\b\\w{3}\\b', text)  # Searches for the first three-letter word\n",
    "\n",
    "if match:\n",
    "    print(match.group())  # Output: 'cat'\n"
   ]
  },
  {
   "cell_type": "code",
   "execution_count": 134,
   "id": "52560f7a",
   "metadata": {},
   "outputs": [
    {
     "data": {
      "text/plain": [
       "['The', 'cat', 'and', 'the', 'hat', 'sat', 'the', 'mat']"
      ]
     },
     "execution_count": 134,
     "metadata": {},
     "output_type": "execute_result"
    }
   ],
   "source": [
    "re.findall(r\"\\b\\w{3}\\b\", text)\n"
   ]
  },
  {
   "cell_type": "code",
   "execution_count": 174,
   "id": "91b78d37",
   "metadata": {},
   "outputs": [
    {
     "name": "stdout",
     "output_type": "stream",
     "text": [
      "None\n"
     ]
    }
   ],
   "source": [
    "text = \"The cat and the hat sat on the mat catch.\"\n",
    "\n",
    "res = re.search(r\"^t.*e$\", text)\n",
    "print(res)"
   ]
  },
  {
   "cell_type": "code",
   "execution_count": 178,
   "id": "3d3f810a",
   "metadata": {},
   "outputs": [
    {
     "data": {
      "text/plain": [
       "['cat', 'hat', 'sat', 'mat']"
      ]
     },
     "execution_count": 178,
     "metadata": {},
     "output_type": "execute_result"
    }
   ],
   "source": [
    "text = \"The cat and the hat sat on the mat catch.\"\n",
    "re.findall(r\"\\b[chsm].[t]\\b\", text)"
   ]
  },
  {
   "cell_type": "code",
   "execution_count": null,
   "id": "7d6777ec",
   "metadata": {},
   "outputs": [],
   "source": []
  },
  {
   "cell_type": "code",
   "execution_count": null,
   "id": "bdac2417",
   "metadata": {},
   "outputs": [],
   "source": []
  },
  {
   "cell_type": "markdown",
   "id": "8360fc7f-d0ca-4715-b8e8-4b7e77e0c2fd",
   "metadata": {},
   "source": [
    "This method stops after the first match"
   ]
  },
  {
   "cell_type": "markdown",
   "id": "c9e6dc42-2b8c-4577-ae34-f881200c71ac",
   "metadata": {},
   "source": [
    "<h4>The <b>split()</b> Function </h4> <br>\n",
    "The split() function returns a list where the string has been split at each match"
   ]
  },
  {
   "cell_type": "code",
   "execution_count": 54,
   "id": "c09dfaf3-3e29-4b50-9380-6d6eed683c87",
   "metadata": {},
   "outputs": [
    {
     "name": "stdout",
     "output_type": "stream",
     "text": [
      "['The rain', '  in Spain']\n"
     ]
    },
    {
     "data": {
      "text/plain": [
       "['The rain', '  in Spain']"
      ]
     },
     "execution_count": 54,
     "metadata": {},
     "output_type": "execute_result"
    }
   ],
   "source": [
    "import re\n",
    "\n",
    "#Split the string at every white-space character:\n",
    "\n",
    "txt = \"The rain,  in Spain\"\n",
    "x = re.split(\",\", txt)\n",
    "print(x)\n",
    "txt.split(',')"
   ]
  },
  {
   "cell_type": "markdown",
   "id": "7ac7bf9d-26ef-420b-94c2-5962b6caa608",
   "metadata": {},
   "source": [
    "<h4> The <b>sub()</b> Function </h4> <br>\n",
    "The sub() function replaces the matches with the text of your choice"
   ]
  },
  {
   "cell_type": "code",
   "execution_count": 59,
   "id": "a1acaa82-cc96-4327-ab18-7133dc53840d",
   "metadata": {},
   "outputs": [
    {
     "name": "stdout",
     "output_type": "stream",
     "text": [
      "The rain in smoke\n"
     ]
    }
   ],
   "source": [
    "import re\n",
    "\n",
    "txt = \"The rain in Spain\"\n",
    "x = re.sub(\"Spain\", \"smoke\", txt)\n",
    "print(x)"
   ]
  },
  {
   "cell_type": "code",
   "execution_count": null,
   "id": "62ea0b93-91de-490c-ad79-139cafeff853",
   "metadata": {},
   "outputs": [],
   "source": []
  },
  {
   "cell_type": "code",
   "execution_count": null,
   "id": "ccd827ad-9e14-4f9d-95a9-4d05909c764a",
   "metadata": {},
   "outputs": [],
   "source": []
  },
  {
   "cell_type": "code",
   "execution_count": 96,
   "id": "4633962c-7ecd-4318-a5bb-03eb9880c5d4",
   "metadata": {},
   "outputs": [],
   "source": [
    "https://www.geeksforgeeks.org/python-cheat-sheet/"
   ]
  },
  {
   "cell_type": "code",
   "execution_count": null,
   "id": "e46cf3ae-f82a-4a59-8920-ab37f3329835",
   "metadata": {},
   "outputs": [],
   "source": []
  }
 ],
 "metadata": {
  "kernelspec": {
   "display_name": "base",
   "language": "python",
   "name": "python3"
  },
  "language_info": {
   "codemirror_mode": {
    "name": "ipython",
    "version": 3
   },
   "file_extension": ".py",
   "mimetype": "text/x-python",
   "name": "python",
   "nbconvert_exporter": "python",
   "pygments_lexer": "ipython3",
   "version": "3.11.4"
  }
 },
 "nbformat": 4,
 "nbformat_minor": 5
}
