{
 "cells": [
  {
   "cell_type": "markdown",
   "id": "bb61cea7",
   "metadata": {},
   "source": [
    "# Python OOP (Object-Oriented Programming) Concepts"
   ]
  },
  {
   "cell_type": "markdown",
   "id": "fc7205ba",
   "metadata": {},
   "source": [
    "\n",
    "This notebook will guide you through the fundamentals of Object-Oriented Programming (OOP) in Python. \n",
    "We'll cover the basic concepts such as:\n",
    "\n",
    "- Classes and Objects\n",
    "- Attributes and Methods\n",
    "- Constructors (`__init__` method)\n",
    "- Inheritance\n",
    "- Encapsulation\n",
    "- Polymorphism\n",
    "- Magic Methods\n",
    "\n",
    "Each section will include examples to help you understand how OOP is implemented in Python.\n"
   ]
  },
  {
   "cell_type": "markdown",
   "id": "b2c060ac",
   "metadata": {},
   "source": [
    "\n",
    "## 1. Classes and Objects\n",
    "\n",
    "A **class** is a blueprint for creating objects (a particular data structure), and an **object** is an instance of a class. \n",
    "In Python, everything is an object, including integers, strings, lists, and functions.\n",
    "\n",
    "Let's start by defining a simple class in Python.\n"
   ]
  },
  {
   "cell_type": "code",
   "execution_count": 33,
   "id": "d8612e77",
   "metadata": {},
   "outputs": [],
   "source": [
    "#1 class and object\n",
    "\n",
    "# class syntax \n",
    "\n",
    "class Classname:\n",
    "    \n",
    "    # constructor \n",
    "    def __init__(self, parameter1, parameter2, parameter3):\n",
    "        self.parameter1 = parameter1\n",
    "        self.parameter2 = parameter2\n",
    "        self.parameter3 = parameter3\n",
    "        \n",
    "    # method or function \n",
    "    def display_name(self):\n",
    "        print(\"Name \", self.parameter1, self.parameter2, self.parameter3)\n",
    "    \n",
    "    # method2\n",
    "    def display_another_name(self, another_name):\n",
    "        print(self.parameter1)\n",
    "        print(another_name)\n",
    "        \n",
    "        "
   ]
  },
  {
   "cell_type": "code",
   "execution_count": 37,
   "id": "edc69a3c",
   "metadata": {},
   "outputs": [],
   "source": [
    "# object syntax \n",
    "object1 = Classname(\"jit\", \"ashim\", \"ishwor\")"
   ]
  },
  {
   "cell_type": "code",
   "execution_count": 40,
   "id": "ce409c60",
   "metadata": {},
   "outputs": [
    {
     "data": {
      "text/plain": [
       "'ishwor'"
      ]
     },
     "execution_count": 40,
     "metadata": {},
     "output_type": "execute_result"
    }
   ],
   "source": [
    "# attribute access \n",
    "object1.parameter3"
   ]
  },
  {
   "cell_type": "code",
   "execution_count": 41,
   "id": "b1cd2bb6",
   "metadata": {},
   "outputs": [
    {
     "name": "stdout",
     "output_type": "stream",
     "text": [
      "Name  jit ashim ishwor\n"
     ]
    }
   ],
   "source": [
    "# method call \n",
    "object1.display_name()"
   ]
  },
  {
   "cell_type": "code",
   "execution_count": 42,
   "id": "a8373f40",
   "metadata": {},
   "outputs": [
    {
     "name": "stdout",
     "output_type": "stream",
     "text": [
      "jit\n",
      "upskills\n"
     ]
    }
   ],
   "source": [
    "object1.display_another_name(\"upskills\")"
   ]
  },
  {
   "cell_type": "code",
   "execution_count": 17,
   "id": "3e577c0d",
   "metadata": {},
   "outputs": [],
   "source": [
    "object2 = Classname(\"sidhi\", \"rajan\", \"bhola\")"
   ]
  },
  {
   "cell_type": "code",
   "execution_count": 9,
   "id": "bdbb8a41",
   "metadata": {},
   "outputs": [
    {
     "data": {
      "text/plain": [
       "'rajan'"
      ]
     },
     "execution_count": 9,
     "metadata": {},
     "output_type": "execute_result"
    }
   ],
   "source": [
    "object2.parameter2"
   ]
  },
  {
   "cell_type": "code",
   "execution_count": 18,
   "id": "911b1a54",
   "metadata": {},
   "outputs": [
    {
     "name": "stdout",
     "output_type": "stream",
     "text": [
      "Name  sidhi rajan bhola\n"
     ]
    }
   ],
   "source": [
    "object2.display_name()"
   ]
  },
  {
   "cell_type": "code",
   "execution_count": null,
   "id": "8808ddf0",
   "metadata": {},
   "outputs": [],
   "source": []
  },
  {
   "cell_type": "code",
   "execution_count": 49,
   "id": "054ce4b1",
   "metadata": {},
   "outputs": [],
   "source": [
    "# creating a class to find greater of two number \n",
    "class ClassName:\n",
    "    # constructor\n",
    "    def __init__(self, par1, par2):\n",
    "        self.par1 = par1\n",
    "        self.par2 = par2\n",
    "    \n",
    "    # methods..... also known as functions\n",
    "    def find_greater(self):\n",
    "        if self.par1 >= self.par2:\n",
    "            return self.par1\n",
    "        else:\n",
    "            return self.par2\n",
    "    \n",
    "    def find_smallest(self, par3, par4):\n",
    "        if self.par1 <= par3:\n",
    "            return self.par1\n",
    "        else:\n",
    "            return par3\n",
    "    \n"
   ]
  },
  {
   "cell_type": "code",
   "execution_count": 51,
   "id": "fc5e3e09",
   "metadata": {},
   "outputs": [
    {
     "name": "stdout",
     "output_type": "stream",
     "text": [
      "gratest: 100\n",
      "smallest: 100\n"
     ]
    }
   ],
   "source": [
    "dog = ClassName(100,20)\n",
    "greater_number = dog.find_greater()\n",
    "print(\"gratest:\", greater_number)\n",
    "smallest = dog.find_smallest(400,7)\n",
    "print(\"smallest:\", smallest)"
   ]
  },
  {
   "cell_type": "code",
   "execution_count": 88,
   "id": "d60cc35d",
   "metadata": {},
   "outputs": [],
   "source": [
    "def func1(name, gender):\n",
    "    description = \"Name: \" + name + \" Gender: \" + gender\n",
    "    return description\n",
    "\n",
    "# Method 2\n",
    "description = func1(\"jit\", \"Male\")\n",
    "def func2(address):\n",
    "    description2 = description + \" address: \" + address\n",
    "    return description2"
   ]
  },
  {
   "cell_type": "code",
   "execution_count": 89,
   "id": "4c650f93",
   "metadata": {},
   "outputs": [
    {
     "data": {
      "text/plain": [
       "'Name: jit Gender: Male'"
      ]
     },
     "execution_count": 89,
     "metadata": {},
     "output_type": "execute_result"
    }
   ],
   "source": [
    "func1(\"jit\", \"Male\")"
   ]
  },
  {
   "cell_type": "code",
   "execution_count": 90,
   "id": "66099f42",
   "metadata": {},
   "outputs": [
    {
     "data": {
      "text/plain": [
       "'Name: jit Gender: Male address: ktm'"
      ]
     },
     "execution_count": 90,
     "metadata": {},
     "output_type": "execute_result"
    }
   ],
   "source": [
    "func2(\"ktm\")"
   ]
  },
  {
   "cell_type": "code",
   "execution_count": null,
   "id": "e7ae9433",
   "metadata": {},
   "outputs": [],
   "source": []
  },
  {
   "cell_type": "code",
   "execution_count": 84,
   "id": "4ce2481b",
   "metadata": {},
   "outputs": [
    {
     "data": {
      "text/plain": [
       "'Name: jit Gender: Male'"
      ]
     },
     "execution_count": 84,
     "metadata": {},
     "output_type": "execute_result"
    }
   ],
   "source": []
  },
  {
   "cell_type": "code",
   "execution_count": 95,
   "id": "d8b597a6",
   "metadata": {},
   "outputs": [],
   "source": [
    "class Datascience:\n",
    "    # constructor \n",
    "    def __init__(self, name, gender):\n",
    "        self.name = name\n",
    "        self.gender = gender\n",
    "    \n",
    "    # methods 1\n",
    "    def func1(self):\n",
    "        self.description = \"Name: \" + self.name + \" Gender: \" + self.gender\n",
    "        return self.description\n",
    "    \n",
    "    # Method 2\n",
    "    def func2(self, address):\n",
    "        self.description2 = self.description + \" address: \" + address\n",
    "        return self.description2\n",
    "    \n",
    "    # method 3: create method that provide age given the birth year\n",
    "    def func3(self, birth_year):\n",
    "        age = 2025 - birth_year\n",
    "        description3 = self.description2 + \" age: \" + str(age)\n",
    "        return description3"
   ]
  },
  {
   "cell_type": "code",
   "execution_count": 96,
   "id": "16182fb1",
   "metadata": {},
   "outputs": [
    {
     "name": "stdout",
     "output_type": "stream",
     "text": [
      "Name: jit Gender: Male\n",
      "jit\n",
      "Male\n"
     ]
    }
   ],
   "source": [
    "obj1 = Datascience(\"jit\", \"Male\")\n",
    "print(obj1.func1())\n",
    "print(obj1.name)\n",
    "print(obj1.gender)"
   ]
  },
  {
   "cell_type": "code",
   "execution_count": 97,
   "id": "7bbf7c10",
   "metadata": {},
   "outputs": [
    {
     "data": {
      "text/plain": [
       "'Name: jit Gender: Male address: Lalitpur'"
      ]
     },
     "execution_count": 97,
     "metadata": {},
     "output_type": "execute_result"
    }
   ],
   "source": [
    "obj1.func2(\"Lalitpur\")"
   ]
  },
  {
   "cell_type": "code",
   "execution_count": 80,
   "id": "8b7eca92",
   "metadata": {},
   "outputs": [
    {
     "data": {
      "text/plain": [
       "'Name: jit Gender: Male address: Lalitpur age: 25'"
      ]
     },
     "execution_count": 80,
     "metadata": {},
     "output_type": "execute_result"
    }
   ],
   "source": [
    "obj1.func3(2000)"
   ]
  },
  {
   "cell_type": "code",
   "execution_count": null,
   "id": "93431f84",
   "metadata": {},
   "outputs": [],
   "source": []
  },
  {
   "cell_type": "code",
   "execution_count": 59,
   "id": "1539cfba",
   "metadata": {},
   "outputs": [
    {
     "data": {
      "text/plain": [
       "['__class__',\n",
       " '__delattr__',\n",
       " '__dict__',\n",
       " '__dir__',\n",
       " '__doc__',\n",
       " '__eq__',\n",
       " '__format__',\n",
       " '__ge__',\n",
       " '__getattribute__',\n",
       " '__getstate__',\n",
       " '__gt__',\n",
       " '__hash__',\n",
       " '__init__',\n",
       " '__init_subclass__',\n",
       " '__le__',\n",
       " '__lt__',\n",
       " '__module__',\n",
       " '__ne__',\n",
       " '__new__',\n",
       " '__reduce__',\n",
       " '__reduce_ex__',\n",
       " '__repr__',\n",
       " '__setattr__',\n",
       " '__sizeof__',\n",
       " '__str__',\n",
       " '__subclasshook__',\n",
       " '__weakref__',\n",
       " 'description',\n",
       " 'func1',\n",
       " 'func2',\n",
       " 'gender',\n",
       " 'name']"
      ]
     },
     "execution_count": 59,
     "metadata": {},
     "output_type": "execute_result"
    }
   ],
   "source": [
    "dir(obj1)"
   ]
  },
  {
   "cell_type": "code",
   "execution_count": 35,
   "id": "5f8343dc",
   "metadata": {},
   "outputs": [
    {
     "name": "stdout",
     "output_type": "stream",
     "text": [
      "Name: jit Gender: Male address: Kathmandu\n"
     ]
    }
   ],
   "source": [
    "print(obj1.func2(\"Kathmandu\"))"
   ]
  },
  {
   "cell_type": "code",
   "execution_count": null,
   "id": "2ea8e5f5",
   "metadata": {},
   "outputs": [],
   "source": []
  },
  {
   "cell_type": "code",
   "execution_count": 106,
   "id": "d152430d",
   "metadata": {},
   "outputs": [
    {
     "name": "stdout",
     "output_type": "stream",
     "text": [
      "Tommy is a Golden Retriever of age 2\n",
      "Tommy is a Golden Retriever of age 2\n",
      "jack is a local of age 10\n",
      "Tommy is a Golden Retriever of age 5\n",
      "Tommy is a Golden Retriever of age 5\n"
     ]
    },
    {
     "ename": "TypeError",
     "evalue": "Dog.describe() missing 1 required positional argument: 'age'",
     "output_type": "error",
     "traceback": [
      "\u001b[0;31m---------------------------------------------------------------------------\u001b[0m",
      "\u001b[0;31mTypeError\u001b[0m                                 Traceback (most recent call last)",
      "Cell \u001b[0;32mIn[106], line 31\u001b[0m\n\u001b[1;32m     29\u001b[0m \u001b[38;5;28mprint\u001b[39m(dog1\u001b[38;5;241m.\u001b[39mdescribe2())\n\u001b[1;32m     30\u001b[0m \u001b[38;5;66;03m# Accessing methods and attributes of the object\u001b[39;00m\n\u001b[0;32m---> 31\u001b[0m \u001b[38;5;28mprint\u001b[39m(dog1\u001b[38;5;241m.\u001b[39mdescribe())\n",
      "\u001b[0;31mTypeError\u001b[0m: Dog.describe() missing 1 required positional argument: 'age'"
     ]
    }
   ],
   "source": [
    "\n",
    "# Defining a class called 'Dog'\n",
    "# pascal case for class name\n",
    "class Dog:\n",
    "    # This is the constructor method\n",
    "    \n",
    "    def __init__(self, name, breed):\n",
    "        self.name = name  # instance variable\n",
    "        self.breed = breed  # instance variable\n",
    "\n",
    "    # Method to describe the dog\n",
    "    def describe(self, age):\n",
    "        self.description = self.name + \" is a \" + self.breed + \" of age \"  + str(age)\n",
    "        return self.description\n",
    "\n",
    "    def describe2(self):\n",
    "        return self.description\n",
    "\n",
    "\n",
    "# Creating an object (instance) of the class\n",
    "# dog1 = Dog(\"Buddy\", \"Golden Retriever\")\n",
    "dog1 = Dog(\"Tommy\", \"Golden Retriever\")\n",
    "print(dog1.describe(2))\n",
    "print(dog1.describe2())\n",
    "\n",
    "\n",
    "dog2 = Dog(\"jack\", \"local\")\n",
    "print(dog2.describe(10))\n",
    "print(dog1.describe(5))\n",
    "print(dog1.describe2())\n",
    "# Accessing methods and attributes of the object\n",
    "# print(dog1.describe())\n"
   ]
  },
  {
   "cell_type": "code",
   "execution_count": 107,
   "id": "3e5ea905",
   "metadata": {},
   "outputs": [],
   "source": [
    "object_name = Dog(\"tommy\", \"something\")"
   ]
  },
  {
   "cell_type": "code",
   "execution_count": 108,
   "id": "1983dfaf",
   "metadata": {},
   "outputs": [
    {
     "data": {
      "text/plain": [
       "'tommy is a something of age 12'"
      ]
     },
     "execution_count": 108,
     "metadata": {},
     "output_type": "execute_result"
    }
   ],
   "source": [
    "object_name.describe(12)"
   ]
  },
  {
   "cell_type": "code",
   "execution_count": 109,
   "id": "37c19a67",
   "metadata": {},
   "outputs": [
    {
     "data": {
      "text/plain": [
       "'tommy is a something of age 12'"
      ]
     },
     "execution_count": 109,
     "metadata": {},
     "output_type": "execute_result"
    }
   ],
   "source": [
    "object_name.describe2()"
   ]
  },
  {
   "cell_type": "code",
   "execution_count": 39,
   "id": "a5acbf02",
   "metadata": {},
   "outputs": [],
   "source": [
    "## Create class with name Fullname that takes two attributes name and last name \n",
    "\n",
    "class Fullname:\n",
    "    def __init__(self, firstName, lastName):\n",
    "        self.firstName = firstName\n",
    "        self.lastName = lastName\n",
    "    \n",
    "    def get_full_name(self):\n",
    "        self.full_name = self.firstName +  ' ' + self.lastName\n",
    "        return self.full_name\n",
    "    \n",
    "    def get_full_name_with_address(self, address):\n",
    "        return self.full_name + \" \" + address"
   ]
  },
  {
   "cell_type": "code",
   "execution_count": 40,
   "id": "9f38ddd8",
   "metadata": {},
   "outputs": [],
   "source": [
    "# creating an object\n",
    "obj1 = Fullname(\"ram\", \"nepal\")"
   ]
  },
  {
   "cell_type": "code",
   "execution_count": 41,
   "id": "72ad2047",
   "metadata": {},
   "outputs": [
    {
     "name": "stdout",
     "output_type": "stream",
     "text": [
      "ram nepal\n",
      "ram nepal kathmandu\n"
     ]
    }
   ],
   "source": [
    "print(obj1.get_full_name())\n",
    "print(obj1.get_full_name_with_address(\"kathmandu\"))"
   ]
  },
  {
   "cell_type": "code",
   "execution_count": 29,
   "id": "2d249544",
   "metadata": {},
   "outputs": [],
   "source": [
    "def get_full_name(firstName, lastName ):\n",
    "    full_name = firstName + \" \" + lastName \n",
    "    return full_name"
   ]
  },
  {
   "cell_type": "code",
   "execution_count": 30,
   "id": "7a11d0c3",
   "metadata": {},
   "outputs": [
    {
     "data": {
      "text/plain": [
       "'ram nepal'"
      ]
     },
     "execution_count": 30,
     "metadata": {},
     "output_type": "execute_result"
    }
   ],
   "source": [
    "get_full_name(\"ram\", \"nepal\")"
   ]
  },
  {
   "cell_type": "code",
   "execution_count": null,
   "id": "f04d0348",
   "metadata": {},
   "outputs": [],
   "source": [
    "## create a class with name Calculation, that takes two attributes num1 annd num2. Define two method/function for addition and multiplication\n",
    "class Calculation:\n",
    "    def __init__(self, num1, num2): # constructor\n",
    "        self.num1 = num1\n",
    "        self.num2 = num2\n",
    "\n",
    "    def addition(self):\n",
    "        self.sum1 = self.num1 + self.num2 \n",
    "        return self.sum1\n",
    "\n",
    "    def multiplication(self):\n",
    "        self.mul = self.num1 * self.num2\n",
    "    \n",
    "    def final_result(self):\n",
    "        print(\"sum: \", self.sum, \"multiplication: \", self.mul)"
   ]
  },
  {
   "cell_type": "code",
   "execution_count": null,
   "id": "0ef862bd",
   "metadata": {},
   "outputs": [],
   "source": []
  },
  {
   "cell_type": "code",
   "execution_count": null,
   "id": "c97debfc",
   "metadata": {},
   "outputs": [],
   "source": []
  },
  {
   "cell_type": "code",
   "execution_count": null,
   "id": "5e1c3087",
   "metadata": {},
   "outputs": [],
   "source": []
  },
  {
   "cell_type": "code",
   "execution_count": 94,
   "id": "e0ddf87b",
   "metadata": {},
   "outputs": [],
   "source": [
    "obj1 = Calculation(5,10)"
   ]
  },
  {
   "cell_type": "code",
   "execution_count": 95,
   "id": "48315bf7",
   "metadata": {},
   "outputs": [
    {
     "data": {
      "text/plain": [
       "15"
      ]
     },
     "execution_count": 95,
     "metadata": {},
     "output_type": "execute_result"
    }
   ],
   "source": [
    "obj1.addition()"
   ]
  },
  {
   "cell_type": "code",
   "execution_count": 89,
   "id": "09098ec1",
   "metadata": {},
   "outputs": [],
   "source": [
    "obj1.multiplication()"
   ]
  },
  {
   "cell_type": "code",
   "execution_count": 81,
   "id": "d2bb411f",
   "metadata": {},
   "outputs": [
    {
     "name": "stdout",
     "output_type": "stream",
     "text": [
      "sum:  75 multiplication:  50\n"
     ]
    }
   ],
   "source": [
    "obj1.final_result()"
   ]
  },
  {
   "cell_type": "code",
   "execution_count": null,
   "id": "65c86ad9",
   "metadata": {},
   "outputs": [],
   "source": []
  },
  {
   "cell_type": "markdown",
   "id": "a6443efe",
   "metadata": {},
   "source": [
    "\n",
    "## 2. Attributes and Methods\n",
    "\n",
    "**Attributes** are variables that belong to an object, and **methods** are functions that belong to an object. \n",
    "We access attributes and methods using the dot (`.`) notation.\n",
    "\n",
    "In the example above, `name` and `breed` are attributes, and `describe` is a method.\n",
    "\n",
    "You can also define class attributes (shared by all instances) in addition to instance attributes.\n"
   ]
  },
  {
   "cell_type": "markdown",
   "id": "fdc45aa3",
   "metadata": {},
   "source": [
    "\n",
    "## 3. The Constructor (`__init__` Method)\n",
    "\n",
    "The `__init__` method is a special method called a constructor. It is used to initialize the object's state when it is created.\n",
    "The `self` parameter represents the instance of the class and allows you to access its attributes and methods.\n"
   ]
  },
  {
   "cell_type": "markdown",
   "id": "5c7979ad",
   "metadata": {},
   "source": [
    "\n",
    "## 4. Inheritance\n",
    "\n",
    "**Inheritance** allows one class to inherit attributes and methods from another class. This helps in reusing code and creating a hierarchy of classes.\n",
    "\n",
    "In the example below, the class `Puppy` inherits from the class `Dog`.\n"
   ]
  },
  {
   "cell_type": "code",
   "execution_count": 110,
   "id": "90b43359",
   "metadata": {},
   "outputs": [],
   "source": [
    "class Dog:\n",
    "    # This is the constructor method\n",
    "    \n",
    "    def __init__(self, name, breed):\n",
    "        self.name = name  # instance variable\n",
    "        self.breed = breed  # instance variable\n",
    "\n",
    "    # Method to describe the dog\n",
    "    def describe(self, age):\n",
    "        self.description = self.name + \" is a \" + self.breed + \" of age \"  + str(age)\n",
    "        return self.description\n",
    "\n",
    "    def describe2(self):\n",
    "        return self.description"
   ]
  },
  {
   "cell_type": "code",
   "execution_count": 111,
   "id": "df39f6e0",
   "metadata": {},
   "outputs": [
    {
     "name": "stdout",
     "output_type": "stream",
     "text": [
      "tommy is a golden of age 5\n",
      "tommy is a golden of age 5\n"
     ]
    }
   ],
   "source": [
    "dog1 = Dog(\"tommy\", \"golden\")\n",
    "print(dog1.describe(5))\n",
    "print(dog1.describe2())"
   ]
  },
  {
   "cell_type": "code",
   "execution_count": 112,
   "id": "87a0bc25",
   "metadata": {},
   "outputs": [
    {
     "name": "stdout",
     "output_type": "stream",
     "text": [
      "Max is a Beagle and is 1 years old of color black\n"
     ]
    }
   ],
   "source": [
    "\n",
    "# Defining a subclass 'Puppy' which inherits from 'Dog'\n",
    "class Puppy(Dog):\n",
    "    def __init__(self, name, breed, age):\n",
    "        # Call the parent class's constructor\n",
    "        super().__init__(name, breed)\n",
    "        self.age = age  # Additional attribute for Puppy\n",
    "\n",
    "    # Overriding the describe method to include age\n",
    "    def describe(self, color):\n",
    "        return f\"{self.name} is a {self.breed} and is {self.age} years old of color {color}\"\n",
    "\n",
    "# Creating an instance of Puppy\n",
    "puppy1 = Puppy(\"Max\", \"Beagle\", 1)\n",
    "print(puppy1.describe(\"black\"))\n"
   ]
  },
  {
   "cell_type": "markdown",
   "id": "fbebad51",
   "metadata": {},
   "source": [
    "\n",
    "## 5. Encapsulation\n",
    "\n",
    "**Encapsulation** is the mechanism of restricting direct access to some attributes and methods and can prevent accidental modification of data.\n",
    "\n",
    "In Python, this can be achieved using private attributes (denoted by an underscore `_` or double underscore `__`).\n"
   ]
  },
  {
   "cell_type": "code",
   "execution_count": 114,
   "id": "d6126594",
   "metadata": {},
   "outputs": [
    {
     "name": "stdout",
     "output_type": "stream",
     "text": [
      "1400\n"
     ]
    }
   ],
   "source": [
    "\n",
    "# Defining a class with encapsulation\n",
    "class BankAccount:\n",
    "    def __init__(self, owner, balance):\n",
    "        self.owner = owner\n",
    "        self.__balance = balance  # Private attribute\n",
    "\n",
    "    def deposit(self, amount):\n",
    "        self.__balance += amount\n",
    "\n",
    "    def withdraw(self, amount):\n",
    "        if amount <= self.__balance:\n",
    "            self.__balance -= amount\n",
    "        else:\n",
    "            print(\"Insufficient funds.\")\n",
    "\n",
    "    def get_balance(self):\n",
    "        return self.__balance\n",
    "\n",
    "# Creating an instance of BankAccount\n",
    "account = BankAccount(\"Alice\", 1000)\n",
    "account.deposit(500)\n",
    "account.withdraw(100)\n",
    "print(account.get_balance())  # Accessing private attribute through a method"
   ]
  },
  {
   "cell_type": "code",
   "execution_count": 115,
   "id": "0e57162f",
   "metadata": {},
   "outputs": [
    {
     "data": {
      "text/plain": [
       "'Alice'"
      ]
     },
     "execution_count": 115,
     "metadata": {},
     "output_type": "execute_result"
    }
   ],
   "source": [
    "account.owner"
   ]
  },
  {
   "cell_type": "code",
   "execution_count": 120,
   "id": "fbecbbb2",
   "metadata": {},
   "outputs": [],
   "source": [
    "account.owner = \"Shyam\""
   ]
  },
  {
   "cell_type": "code",
   "execution_count": 121,
   "id": "c1af22d4",
   "metadata": {},
   "outputs": [
    {
     "data": {
      "text/plain": [
       "'Shyam'"
      ]
     },
     "execution_count": 121,
     "metadata": {},
     "output_type": "execute_result"
    }
   ],
   "source": [
    "account.owner"
   ]
  },
  {
   "cell_type": "code",
   "execution_count": 122,
   "id": "d3c52a80",
   "metadata": {},
   "outputs": [
    {
     "ename": "AttributeError",
     "evalue": "'BankAccount' object has no attribute '__balance'",
     "output_type": "error",
     "traceback": [
      "\u001b[0;31m---------------------------------------------------------------------------\u001b[0m",
      "\u001b[0;31mAttributeError\u001b[0m                            Traceback (most recent call last)",
      "Cell \u001b[0;32mIn[122], line 1\u001b[0m\n\u001b[0;32m----> 1\u001b[0m \u001b[38;5;28mprint\u001b[39m(account\u001b[38;5;241m.\u001b[39m__balance)\n",
      "\u001b[0;31mAttributeError\u001b[0m: 'BankAccount' object has no attribute '__balance'"
     ]
    }
   ],
   "source": [
    "print(account.__balance)  # This will raise an AttributeError"
   ]
  },
  {
   "cell_type": "markdown",
   "id": "47d82d7e",
   "metadata": {},
   "source": [
    "\n",
    "## 6. Polymorphism\n",
    "\n",
    "**Polymorphism** allows the same method to take on different behaviors depending on the object it is acting upon.\n",
    "\n",
    "In the example below, both `Dog` and `Cat` classes have a `speak` method, but their behavior differs.\n"
   ]
  },
  {
   "cell_type": "code",
   "execution_count": 2,
   "id": "2d45d585",
   "metadata": {},
   "outputs": [
    {
     "name": "stdout",
     "output_type": "stream",
     "text": [
      "Meow! Woof!\n"
     ]
    }
   ],
   "source": [
    "\n",
    "class Dog:\n",
    "    def speak(self):\n",
    "        return \"Woof!\"\n",
    "\n",
    "class Cat:\n",
    "    def speak(self):\n",
    "        return \"Meow!\"\n",
    "\n",
    "# Creating instances\n",
    "dog = Dog()\n",
    "cat = Cat()\n",
    "\n",
    "# Demonstrating polymorphism\n",
    "# for animal in (dog, cat):\n",
    "#     print(animal.speak())\n",
    "print(cat.speak(), dog.speak())\n"
   ]
  },
  {
   "cell_type": "markdown",
   "id": "01f975a2",
   "metadata": {},
   "source": [
    "\n",
    "## 7. Magic Methods\n",
    "\n",
    "**Magic methods** (also called dunder methods) in Python are special methods that start and end with double underscores.\n",
    "They allow you to define the behavior of objects for built-in operations.\n",
    "\n",
    "For example, `__str__` is a magic method that is used to define the string representation of an object.\n"
   ]
  },
  {
   "cell_type": "code",
   "execution_count": 8,
   "id": "9509ae53",
   "metadata": {},
   "outputs": [
    {
     "name": "stdout",
     "output_type": "stream",
     "text": [
      "this is the example for magic method\n"
     ]
    }
   ],
   "source": [
    "class Book:\n",
    "    def __init__(self, title, author):\n",
    "        self.title = title\n",
    "        self.author = author\n",
    "\n",
    "    # Defining the string representation of the object\n",
    "    def __str__(self):\n",
    "        # return f\"'{self.title}' by {self.author}\"\n",
    "        return \"this is the example for magic method\"\n",
    "\n",
    "# Creating an instance of Book\n",
    "book = Book(\"1984\", \"George Orwell\")\n",
    "print(book)  # This will call the __str__ method\n"
   ]
  },
  {
   "cell_type": "code",
   "execution_count": null,
   "id": "a0ba5bbf",
   "metadata": {},
   "outputs": [],
   "source": []
  },
  {
   "cell_type": "code",
   "execution_count": 11,
   "id": "4e11e879",
   "metadata": {},
   "outputs": [
    {
     "name": "stdout",
     "output_type": "stream",
     "text": [
      "Vector(6, 4)\n"
     ]
    }
   ],
   "source": [
    "## addition representation \n",
    "class Vector:\n",
    "    def __init__(self, x, y):\n",
    "        self.x = x\n",
    "        self.y = y\n",
    "\n",
    "    def addition(self, other):\n",
    "        return Vector(self.x + other.x, self.y + other.y)\n",
    "\n",
    "    # Define custom addition behavior\n",
    "    def __add__(self, other):\n",
    "        return Vector(self.x + other.x, self.y + other.y)\n",
    "\n",
    "    def __repr__(self):\n",
    "        return f\"Vector({self.x}, {self.y})\"\n",
    "\n",
    "# Create two Vector objects\n",
    "v1 = Vector(2, 3)\n",
    "v2 = Vector(4, 1)\n",
    "\n",
    "# Add two vectors\n",
    "v3 = v1 + v2  # Calls __add__\n",
    "\n",
    "print(v3)  # Output: Vector(6, 4)"
   ]
  },
  {
   "cell_type": "code",
   "execution_count": 12,
   "id": "23e23f26",
   "metadata": {},
   "outputs": [
    {
     "data": {
      "text/plain": [
       "['__add__',\n",
       " '__class__',\n",
       " '__delattr__',\n",
       " '__dict__',\n",
       " '__dir__',\n",
       " '__doc__',\n",
       " '__eq__',\n",
       " '__format__',\n",
       " '__ge__',\n",
       " '__getattribute__',\n",
       " '__getstate__',\n",
       " '__gt__',\n",
       " '__hash__',\n",
       " '__init__',\n",
       " '__init_subclass__',\n",
       " '__le__',\n",
       " '__lt__',\n",
       " '__module__',\n",
       " '__ne__',\n",
       " '__new__',\n",
       " '__reduce__',\n",
       " '__reduce_ex__',\n",
       " '__repr__',\n",
       " '__setattr__',\n",
       " '__sizeof__',\n",
       " '__str__',\n",
       " '__subclasshook__',\n",
       " '__weakref__',\n",
       " 'addition',\n",
       " 'x',\n",
       " 'y']"
      ]
     },
     "execution_count": 12,
     "metadata": {},
     "output_type": "execute_result"
    }
   ],
   "source": [
    "dir(v1)"
   ]
  },
  {
   "cell_type": "markdown",
   "id": "a6c8b29e",
   "metadata": {},
   "source": [
    "# Defining and Using a Static Method\n",
    "In Python, a static method is a method that belongs to a class but does not require access to the instance (self) or class (cls) variables. Static methods are defined using the @staticmethod decorator.\n",
    "\n",
    "They are useful for defining utility methods that perform a task in isolation, without needing any instance-specific data."
   ]
  },
  {
   "cell_type": "code",
   "execution_count": 25,
   "id": "eb3ed307",
   "metadata": {},
   "outputs": [],
   "source": [
    "class BankAccount:\n",
    "    def __init__(self, owner, balance):\n",
    "        self.owner = owner\n",
    "        self.__balance = balance  # Private attribute\n",
    "\n",
    "    def deposit(self, amount):\n",
    "        self.__balance += amount\n",
    "\n",
    "    def withdraw(self, amount):\n",
    "        if amount <= self.__balance:\n",
    "            self.__balance -= amount\n",
    "        else:\n",
    "            print(\"Insufficient funds.\")\n",
    "    \n",
    "    @staticmethod\n",
    "    def find_sum(a,b):\n",
    "        return a + b\n",
    "\n",
    "    def get_balance(self):\n",
    "        return self.__balance"
   ]
  },
  {
   "cell_type": "code",
   "execution_count": 26,
   "id": "e6decf02",
   "metadata": {},
   "outputs": [
    {
     "data": {
      "text/plain": [
       "18"
      ]
     },
     "execution_count": 26,
     "metadata": {},
     "output_type": "execute_result"
    }
   ],
   "source": [
    "obj = BankAccount(\"aero\", 7000)\n",
    "obj.find_sum(10,8)"
   ]
  },
  {
   "cell_type": "code",
   "execution_count": 28,
   "id": "79a1bf58",
   "metadata": {},
   "outputs": [],
   "source": [
    "# write a class with name Attendance and with class name and number of student, display name and number of student with a display method\n",
    "## and write a static method which compare marks between two student "
   ]
  },
  {
   "cell_type": "code",
   "execution_count": 43,
   "id": "9902873f",
   "metadata": {},
   "outputs": [],
   "source": [
    "class Attendance:\n",
    "    def __init__(self, class_name, students_count):\n",
    "        self.clas_name = class_name\n",
    "        self.students_count = students_count\n",
    "    \n",
    "    def __str__(self):\n",
    "        return f\"{self.clas_name} have {self.students_count} students\" \n",
    "    \n",
    "    def display_additional_detail(self,class_teacher):\n",
    "        return f\"{self.clas_name} have {self.students_count} students. {class_teacher} is the class teacher\" \n",
    "    \n",
    "    @staticmethod\n",
    "    def compare(mark1, mark2):\n",
    "        if mark1 >= mark2:\n",
    "            return mark1\n",
    "        else:\n",
    "            return mark2"
   ]
  },
  {
   "cell_type": "code",
   "execution_count": 44,
   "id": "5afb44be",
   "metadata": {},
   "outputs": [
    {
     "name": "stdout",
     "output_type": "stream",
     "text": [
      "class 5 have 100 students\n",
      "20\n",
      "class 5 have 100 students. jit is the class teacher\n"
     ]
    }
   ],
   "source": [
    "att = Attendance(\"class 5\", 100)\n",
    "print(att)\n",
    "print(att.compare(10,20))\n",
    "print(att.display_additional_detail(\"jit\"))"
   ]
  },
  {
   "cell_type": "code",
   "execution_count": null,
   "id": "c7892aa0",
   "metadata": {},
   "outputs": [],
   "source": []
  },
  {
   "cell_type": "code",
   "execution_count": null,
   "id": "8ed65bc4",
   "metadata": {},
   "outputs": [],
   "source": []
  },
  {
   "cell_type": "markdown",
   "id": "4bf1b83c",
   "metadata": {},
   "source": [
    "# Built-in Functions for OOP in Python"
   ]
  },
  {
   "cell_type": "markdown",
   "id": "cac5adf0",
   "metadata": {},
   "source": [
    "\n",
    "This notebook explores some of the built-in functions in Python that are particularly useful when working with object-oriented programming (OOP). These functions allow you to inspect and interact with objects and their attributes.\n",
    "\n",
    "We will cover the following built-in functions:\n",
    "- `type()`\n",
    "- `isinstance()`\n",
    "- `issubclass()`\n",
    "- `getattr()`\n",
    "- `setattr()`\n",
    "- `hasattr()`\n",
    "- `delattr()`\n",
    "- `dir()`\n",
    "- `vars()`\n",
    "- `callable()`\n",
    "\n",
    "Each section provides examples to demonstrate the usage of these functions.\n"
   ]
  },
  {
   "cell_type": "markdown",
   "id": "320a6de9",
   "metadata": {},
   "source": [
    "\n",
    "## 1. `type()`\n",
    "\n",
    "The `type()` function returns the type (or class) of an object.\n"
   ]
  },
  {
   "cell_type": "code",
   "execution_count": 46,
   "id": "96898c36",
   "metadata": {},
   "outputs": [
    {
     "name": "stdout",
     "output_type": "stream",
     "text": [
      "<class '__main__.Dog'>\n",
      "<class 'float'>\n"
     ]
    }
   ],
   "source": [
    "class Dog:\n",
    "    pass\n",
    "\n",
    "dog = Dog()\n",
    "print(type(dog))  # Output: <class '__main__.Dog'>\n",
    "\n",
    "a = 1.0\n",
    "print(type(a))"
   ]
  },
  {
   "cell_type": "markdown",
   "id": "b76e4f14",
   "metadata": {},
   "source": [
    "\n",
    "## 2. `isinstance()`\n",
    "\n",
    "The `isinstance()` function checks if an object is an instance of a particular class or a tuple of classes.\n"
   ]
  },
  {
   "cell_type": "code",
   "execution_count": 52,
   "id": "784e5c25",
   "metadata": {},
   "outputs": [
    {
     "name": "stdout",
     "output_type": "stream",
     "text": [
      "True\n",
      "False\n"
     ]
    }
   ],
   "source": [
    "\n",
    "class Dog:\n",
    "    pass\n",
    "\n",
    "dog1 = Dog()\n",
    "print(isinstance(dog1, Dog)) # Output: True\n",
    "print(isinstance(att, Dog))  # Output: False\n"
   ]
  },
  {
   "cell_type": "markdown",
   "id": "2e8fd7ca",
   "metadata": {},
   "source": [
    "\n",
    "## 3. `issubclass()`\n",
    "\n",
    "The `issubclass()` function checks if a class is a subclass of another class.\n"
   ]
  },
  {
   "cell_type": "code",
   "execution_count": 58,
   "id": "851f330d",
   "metadata": {},
   "outputs": [
    {
     "name": "stdout",
     "output_type": "stream",
     "text": [
      "False\n",
      "True\n"
     ]
    },
    {
     "data": {
      "text/plain": [
       "['__class__',\n",
       " '__delattr__',\n",
       " '__dict__',\n",
       " '__dir__',\n",
       " '__doc__',\n",
       " '__eq__',\n",
       " '__format__',\n",
       " '__ge__',\n",
       " '__getattribute__',\n",
       " '__getstate__',\n",
       " '__gt__',\n",
       " '__hash__',\n",
       " '__init__',\n",
       " '__init_subclass__',\n",
       " '__le__',\n",
       " '__lt__',\n",
       " '__module__',\n",
       " '__ne__',\n",
       " '__new__',\n",
       " '__reduce__',\n",
       " '__reduce_ex__',\n",
       " '__repr__',\n",
       " '__setattr__',\n",
       " '__sizeof__',\n",
       " '__str__',\n",
       " '__subclasshook__',\n",
       " '__weakref__']"
      ]
     },
     "execution_count": 58,
     "metadata": {},
     "output_type": "execute_result"
    }
   ],
   "source": [
    "\n",
    "class Animal:\n",
    "    pass\n",
    "\n",
    "class Dog(Animal):\n",
    "    pass\n",
    "\n",
    "print(issubclass(Animal, Dog))\n",
    "print(issubclass(Dog, Animal))  # Output: True\n",
    "\n",
    "\n",
    "dir(Animal)"
   ]
  },
  {
   "cell_type": "markdown",
   "id": "5f5376c8",
   "metadata": {},
   "source": [
    "\n",
    "## 4. `getattr()`\n",
    "\n",
    "The `getattr()` function returns the value of a named attribute of an object. If the attribute doesn’t exist, it can return a default value.\n"
   ]
  },
  {
   "cell_type": "code",
   "execution_count": 65,
   "id": "6e708d42",
   "metadata": {},
   "outputs": [
    {
     "name": "stdout",
     "output_type": "stream",
     "text": [
      "Buddy\n",
      "Buddy\n"
     ]
    }
   ],
   "source": [
    "\n",
    "class Dog:\n",
    "    def __init__(self, name):\n",
    "        self.name = name\n",
    "\n",
    "dog = Dog(\"Buddy\")\n",
    "print(dog.name)\n",
    "print(getattr(dog, \"name\"))  # Output: Buddy\n"
   ]
  },
  {
   "cell_type": "code",
   "execution_count": 66,
   "id": "0e15887a",
   "metadata": {},
   "outputs": [
    {
     "data": {
      "text/plain": [
       "'Buddy'"
      ]
     },
     "execution_count": 66,
     "metadata": {},
     "output_type": "execute_result"
    }
   ],
   "source": [
    "getattr(dog, \"name\")"
   ]
  },
  {
   "cell_type": "code",
   "execution_count": 67,
   "id": "29a4fab6",
   "metadata": {},
   "outputs": [],
   "source": [
    "setattr(dog, \"name\", \"Max\")"
   ]
  },
  {
   "cell_type": "markdown",
   "id": "67e4cce1",
   "metadata": {},
   "source": [
    "\n",
    "## 5. `setattr()`\n",
    "\n",
    "The `setattr()` function sets the value of a named attribute on an object.\n"
   ]
  },
  {
   "cell_type": "code",
   "execution_count": 74,
   "id": "0fd42620",
   "metadata": {},
   "outputs": [
    {
     "name": "stdout",
     "output_type": "stream",
     "text": [
      "Buddy\n",
      "Max\n",
      "tyson\n"
     ]
    }
   ],
   "source": [
    "\n",
    "class Dog:\n",
    "    def __init__(self, name):\n",
    "        self.name = name\n",
    "\n",
    "dog = Dog(\"Buddy\")\n",
    "\n",
    "print(getattr(dog, \"name\"))\n",
    "setattr(dog, \"name\", \"Max\")\n",
    "print(getattr(dog, \"name\"))\n",
    "# print(dog.name)  # Output: Max\n",
    "\n",
    "dog.name = \"tyson\"\n",
    "\n",
    "print(getattr(dog, \"name\"))"
   ]
  },
  {
   "cell_type": "markdown",
   "id": "29a931c5",
   "metadata": {},
   "source": [
    "\n",
    "## 6. `hasattr()`\n",
    "\n",
    "The `hasattr()` function checks if an object has a particular attribute.\n"
   ]
  },
  {
   "cell_type": "code",
   "execution_count": 79,
   "id": "4e9054d4",
   "metadata": {},
   "outputs": [
    {
     "name": "stdout",
     "output_type": "stream",
     "text": [
      "False\n"
     ]
    }
   ],
   "source": [
    "\n",
    "class Dog:\n",
    "    def __init__(self, name):\n",
    "        self.name = name\n",
    "\n",
    "dog = Dog(\"Buddy\")\n",
    "print(hasattr(dog, \"breed\"))  # Output: True\n",
    "\n",
    "if hasattr(dog, \"breed\"):\n",
    "    print(getattr(dog, \"breed\"))"
   ]
  },
  {
   "cell_type": "markdown",
   "id": "3199ab87",
   "metadata": {},
   "source": [
    "\n",
    "## 7. `delattr()`\n",
    "\n",
    "The `delattr()` function deletes an attribute from an object.\n"
   ]
  },
  {
   "cell_type": "code",
   "execution_count": 90,
   "id": "204502b2",
   "metadata": {},
   "outputs": [
    {
     "name": "stdout",
     "output_type": "stream",
     "text": [
      "True\n",
      "False True\n"
     ]
    },
    {
     "data": {
      "text/plain": [
       "'golden'"
      ]
     },
     "execution_count": 90,
     "metadata": {},
     "output_type": "execute_result"
    }
   ],
   "source": [
    "\n",
    "class Dog:\n",
    "    def __init__(self, name, breed):\n",
    "        self.name = name\n",
    "        self.breed = breed\n",
    "\n",
    "dog = Dog(\"Buddy\", \"golden\")\n",
    "print(hasattr(dog, \"name\"))\n",
    "\n",
    "delattr(dog, \"name\")  # Deletes the 'name' attribute\n",
    "\n",
    "print(hasattr(dog, \"name\"), hasattr(dog, \"breed\"))\n",
    "\n",
    "dog.breed"
   ]
  },
  {
   "cell_type": "markdown",
   "id": "adad6351",
   "metadata": {},
   "source": [
    "\n",
    "## 8. `dir()`\n",
    "\n",
    "The `dir()` function returns a list of attributes and methods of an object. It can be useful for introspection.\n"
   ]
  },
  {
   "cell_type": "code",
   "execution_count": 94,
   "id": "e5a2dcdf",
   "metadata": {},
   "outputs": [
    {
     "name": "stdout",
     "output_type": "stream",
     "text": [
      "Buddy\n"
     ]
    }
   ],
   "source": [
    "\n",
    "class Dog:\n",
    "    \n",
    "    def __init__(self, name):\n",
    "        self.name = name\n",
    "    \n",
    "    def speak(self):\n",
    "        return self.name\n",
    "    \n",
    "    def speak_again(self):\n",
    "        return self.name\n",
    "\n",
    "dog = Dog(\"Buddy\")\n",
    "print(dog.speak())  # Lists all attributes and methods of 'dog'\n"
   ]
  },
  {
   "cell_type": "code",
   "execution_count": null,
   "id": "f7a76521",
   "metadata": {},
   "outputs": [],
   "source": []
  },
  {
   "cell_type": "code",
   "execution_count": 95,
   "id": "460c1546",
   "metadata": {},
   "outputs": [
    {
     "data": {
      "text/plain": [
       "['__class__',\n",
       " '__delattr__',\n",
       " '__dict__',\n",
       " '__dir__',\n",
       " '__doc__',\n",
       " '__eq__',\n",
       " '__format__',\n",
       " '__ge__',\n",
       " '__getattribute__',\n",
       " '__getstate__',\n",
       " '__gt__',\n",
       " '__hash__',\n",
       " '__init__',\n",
       " '__init_subclass__',\n",
       " '__le__',\n",
       " '__lt__',\n",
       " '__module__',\n",
       " '__ne__',\n",
       " '__new__',\n",
       " '__reduce__',\n",
       " '__reduce_ex__',\n",
       " '__repr__',\n",
       " '__setattr__',\n",
       " '__sizeof__',\n",
       " '__str__',\n",
       " '__subclasshook__',\n",
       " '__weakref__',\n",
       " 'name',\n",
       " 'speak',\n",
       " 'speak_again']"
      ]
     },
     "execution_count": 95,
     "metadata": {},
     "output_type": "execute_result"
    }
   ],
   "source": [
    "dir(dog)"
   ]
  },
  {
   "cell_type": "code",
   "execution_count": 98,
   "id": "0af47293",
   "metadata": {},
   "outputs": [],
   "source": [
    "import os"
   ]
  },
  {
   "cell_type": "code",
   "execution_count": 99,
   "id": "1c9a7b9a",
   "metadata": {},
   "outputs": [
    {
     "data": {
      "text/plain": [
       "['CLD_CONTINUED',\n",
       " 'CLD_DUMPED',\n",
       " 'CLD_EXITED',\n",
       " 'CLD_KILLED',\n",
       " 'CLD_STOPPED',\n",
       " 'CLD_TRAPPED',\n",
       " 'DirEntry',\n",
       " 'EFD_CLOEXEC',\n",
       " 'EFD_NONBLOCK',\n",
       " 'EFD_SEMAPHORE',\n",
       " 'EX_CANTCREAT',\n",
       " 'EX_CONFIG',\n",
       " 'EX_DATAERR',\n",
       " 'EX_IOERR',\n",
       " 'EX_NOHOST',\n",
       " 'EX_NOINPUT',\n",
       " 'EX_NOPERM',\n",
       " 'EX_NOUSER',\n",
       " 'EX_OK',\n",
       " 'EX_OSERR',\n",
       " 'EX_OSFILE',\n",
       " 'EX_PROTOCOL',\n",
       " 'EX_SOFTWARE',\n",
       " 'EX_TEMPFAIL',\n",
       " 'EX_UNAVAILABLE',\n",
       " 'EX_USAGE',\n",
       " 'F_LOCK',\n",
       " 'F_OK',\n",
       " 'F_TEST',\n",
       " 'F_TLOCK',\n",
       " 'F_ULOCK',\n",
       " 'GRND_NONBLOCK',\n",
       " 'GRND_RANDOM',\n",
       " 'GenericAlias',\n",
       " 'Mapping',\n",
       " 'MutableMapping',\n",
       " 'NGROUPS_MAX',\n",
       " 'O_ACCMODE',\n",
       " 'O_APPEND',\n",
       " 'O_ASYNC',\n",
       " 'O_CLOEXEC',\n",
       " 'O_CREAT',\n",
       " 'O_DIRECT',\n",
       " 'O_DIRECTORY',\n",
       " 'O_DSYNC',\n",
       " 'O_EXCL',\n",
       " 'O_FSYNC',\n",
       " 'O_LARGEFILE',\n",
       " 'O_NDELAY',\n",
       " 'O_NOATIME',\n",
       " 'O_NOCTTY',\n",
       " 'O_NOFOLLOW',\n",
       " 'O_NONBLOCK',\n",
       " 'O_PATH',\n",
       " 'O_RDONLY',\n",
       " 'O_RDWR',\n",
       " 'O_RSYNC',\n",
       " 'O_SYNC',\n",
       " 'O_TMPFILE',\n",
       " 'O_TRUNC',\n",
       " 'O_WRONLY',\n",
       " 'POSIX_FADV_DONTNEED',\n",
       " 'POSIX_FADV_NOREUSE',\n",
       " 'POSIX_FADV_NORMAL',\n",
       " 'POSIX_FADV_RANDOM',\n",
       " 'POSIX_FADV_SEQUENTIAL',\n",
       " 'POSIX_FADV_WILLNEED',\n",
       " 'POSIX_SPAWN_CLOSE',\n",
       " 'POSIX_SPAWN_DUP2',\n",
       " 'POSIX_SPAWN_OPEN',\n",
       " 'PRIO_PGRP',\n",
       " 'PRIO_PROCESS',\n",
       " 'PRIO_USER',\n",
       " 'P_ALL',\n",
       " 'P_NOWAIT',\n",
       " 'P_NOWAITO',\n",
       " 'P_PGID',\n",
       " 'P_PID',\n",
       " 'P_WAIT',\n",
       " 'PathLike',\n",
       " 'RTLD_DEEPBIND',\n",
       " 'RTLD_GLOBAL',\n",
       " 'RTLD_LAZY',\n",
       " 'RTLD_LOCAL',\n",
       " 'RTLD_NODELETE',\n",
       " 'RTLD_NOLOAD',\n",
       " 'RTLD_NOW',\n",
       " 'R_OK',\n",
       " 'SCHED_BATCH',\n",
       " 'SCHED_FIFO',\n",
       " 'SCHED_IDLE',\n",
       " 'SCHED_OTHER',\n",
       " 'SCHED_RESET_ON_FORK',\n",
       " 'SCHED_RR',\n",
       " 'SEEK_CUR',\n",
       " 'SEEK_DATA',\n",
       " 'SEEK_END',\n",
       " 'SEEK_HOLE',\n",
       " 'SEEK_SET',\n",
       " 'SPLICE_F_MORE',\n",
       " 'SPLICE_F_MOVE',\n",
       " 'SPLICE_F_NONBLOCK',\n",
       " 'ST_APPEND',\n",
       " 'ST_MANDLOCK',\n",
       " 'ST_NOATIME',\n",
       " 'ST_NODEV',\n",
       " 'ST_NODIRATIME',\n",
       " 'ST_NOEXEC',\n",
       " 'ST_NOSUID',\n",
       " 'ST_RDONLY',\n",
       " 'ST_RELATIME',\n",
       " 'ST_SYNCHRONOUS',\n",
       " 'ST_WRITE',\n",
       " 'TMP_MAX',\n",
       " 'WCONTINUED',\n",
       " 'WCOREDUMP',\n",
       " 'WEXITED',\n",
       " 'WEXITSTATUS',\n",
       " 'WIFCONTINUED',\n",
       " 'WIFEXITED',\n",
       " 'WIFSIGNALED',\n",
       " 'WIFSTOPPED',\n",
       " 'WNOHANG',\n",
       " 'WNOWAIT',\n",
       " 'WSTOPPED',\n",
       " 'WSTOPSIG',\n",
       " 'WTERMSIG',\n",
       " 'WUNTRACED',\n",
       " 'W_OK',\n",
       " 'XATTR_CREATE',\n",
       " 'XATTR_REPLACE',\n",
       " 'XATTR_SIZE_MAX',\n",
       " 'X_OK',\n",
       " '_Environ',\n",
       " '__all__',\n",
       " '__builtins__',\n",
       " '__doc__',\n",
       " '__file__',\n",
       " '__loader__',\n",
       " '__name__',\n",
       " '__package__',\n",
       " '__spec__',\n",
       " '_check_methods',\n",
       " '_execvpe',\n",
       " '_exists',\n",
       " '_exit',\n",
       " '_fspath',\n",
       " '_fwalk',\n",
       " '_get_exports_list',\n",
       " '_spawnvef',\n",
       " '_walk',\n",
       " '_wrap_close',\n",
       " 'abc',\n",
       " 'abort',\n",
       " 'access',\n",
       " 'altsep',\n",
       " 'chdir',\n",
       " 'chmod',\n",
       " 'chown',\n",
       " 'chroot',\n",
       " 'close',\n",
       " 'closerange',\n",
       " 'confstr',\n",
       " 'confstr_names',\n",
       " 'cpu_count',\n",
       " 'ctermid',\n",
       " 'curdir',\n",
       " 'defpath',\n",
       " 'device_encoding',\n",
       " 'devnull',\n",
       " 'dup',\n",
       " 'dup2',\n",
       " 'environ',\n",
       " 'environb',\n",
       " 'error',\n",
       " 'eventfd',\n",
       " 'eventfd_read',\n",
       " 'eventfd_write',\n",
       " 'execl',\n",
       " 'execle',\n",
       " 'execlp',\n",
       " 'execlpe',\n",
       " 'execv',\n",
       " 'execve',\n",
       " 'execvp',\n",
       " 'execvpe',\n",
       " 'extsep',\n",
       " 'fchdir',\n",
       " 'fchmod',\n",
       " 'fchown',\n",
       " 'fdatasync',\n",
       " 'fdopen',\n",
       " 'fork',\n",
       " 'forkpty',\n",
       " 'fpathconf',\n",
       " 'fsdecode',\n",
       " 'fsencode',\n",
       " 'fspath',\n",
       " 'fstat',\n",
       " 'fstatvfs',\n",
       " 'fsync',\n",
       " 'ftruncate',\n",
       " 'fwalk',\n",
       " 'get_blocking',\n",
       " 'get_exec_path',\n",
       " 'get_inheritable',\n",
       " 'get_terminal_size',\n",
       " 'getcwd',\n",
       " 'getcwdb',\n",
       " 'getegid',\n",
       " 'getenv',\n",
       " 'getenvb',\n",
       " 'geteuid',\n",
       " 'getgid',\n",
       " 'getgrouplist',\n",
       " 'getgroups',\n",
       " 'getloadavg',\n",
       " 'getlogin',\n",
       " 'getpgid',\n",
       " 'getpgrp',\n",
       " 'getpid',\n",
       " 'getppid',\n",
       " 'getpriority',\n",
       " 'getrandom',\n",
       " 'getresgid',\n",
       " 'getresuid',\n",
       " 'getsid',\n",
       " 'getuid',\n",
       " 'getxattr',\n",
       " 'initgroups',\n",
       " 'isatty',\n",
       " 'kill',\n",
       " 'killpg',\n",
       " 'lchown',\n",
       " 'linesep',\n",
       " 'link',\n",
       " 'listdir',\n",
       " 'listxattr',\n",
       " 'lockf',\n",
       " 'login_tty',\n",
       " 'lseek',\n",
       " 'lstat',\n",
       " 'major',\n",
       " 'makedev',\n",
       " 'makedirs',\n",
       " 'minor',\n",
       " 'mkdir',\n",
       " 'mkfifo',\n",
       " 'mknod',\n",
       " 'name',\n",
       " 'nice',\n",
       " 'open',\n",
       " 'openpty',\n",
       " 'pardir',\n",
       " 'path',\n",
       " 'pathconf',\n",
       " 'pathconf_names',\n",
       " 'pathsep',\n",
       " 'pipe',\n",
       " 'pipe2',\n",
       " 'popen',\n",
       " 'posix_fadvise',\n",
       " 'posix_fallocate',\n",
       " 'posix_spawn',\n",
       " 'posix_spawnp',\n",
       " 'pread',\n",
       " 'preadv',\n",
       " 'putenv',\n",
       " 'pwrite',\n",
       " 'pwritev',\n",
       " 'read',\n",
       " 'readlink',\n",
       " 'readv',\n",
       " 'register_at_fork',\n",
       " 'remove',\n",
       " 'removedirs',\n",
       " 'removexattr',\n",
       " 'rename',\n",
       " 'renames',\n",
       " 'replace',\n",
       " 'rmdir',\n",
       " 'scandir',\n",
       " 'sched_get_priority_max',\n",
       " 'sched_get_priority_min',\n",
       " 'sched_getaffinity',\n",
       " 'sched_getparam',\n",
       " 'sched_getscheduler',\n",
       " 'sched_param',\n",
       " 'sched_rr_get_interval',\n",
       " 'sched_setaffinity',\n",
       " 'sched_setparam',\n",
       " 'sched_setscheduler',\n",
       " 'sched_yield',\n",
       " 'sendfile',\n",
       " 'sep',\n",
       " 'set_blocking',\n",
       " 'set_inheritable',\n",
       " 'setegid',\n",
       " 'seteuid',\n",
       " 'setgid',\n",
       " 'setgroups',\n",
       " 'setpgid',\n",
       " 'setpgrp',\n",
       " 'setpriority',\n",
       " 'setregid',\n",
       " 'setresgid',\n",
       " 'setresuid',\n",
       " 'setreuid',\n",
       " 'setsid',\n",
       " 'setuid',\n",
       " 'setxattr',\n",
       " 'spawnl',\n",
       " 'spawnle',\n",
       " 'spawnlp',\n",
       " 'spawnlpe',\n",
       " 'spawnv',\n",
       " 'spawnve',\n",
       " 'spawnvp',\n",
       " 'spawnvpe',\n",
       " 'splice',\n",
       " 'st',\n",
       " 'stat',\n",
       " 'stat_result',\n",
       " 'statvfs',\n",
       " 'statvfs_result',\n",
       " 'strerror',\n",
       " 'supports_bytes_environ',\n",
       " 'supports_dir_fd',\n",
       " 'supports_effective_ids',\n",
       " 'supports_fd',\n",
       " 'supports_follow_symlinks',\n",
       " 'symlink',\n",
       " 'sync',\n",
       " 'sys',\n",
       " 'sysconf',\n",
       " 'sysconf_names',\n",
       " 'system',\n",
       " 'tcgetpgrp',\n",
       " 'tcsetpgrp',\n",
       " 'terminal_size',\n",
       " 'times',\n",
       " 'times_result',\n",
       " 'truncate',\n",
       " 'ttyname',\n",
       " 'umask',\n",
       " 'uname',\n",
       " 'uname_result',\n",
       " 'unlink',\n",
       " 'unsetenv',\n",
       " 'urandom',\n",
       " 'utime',\n",
       " 'wait',\n",
       " 'wait3',\n",
       " 'wait4',\n",
       " 'waitid',\n",
       " 'waitid_result',\n",
       " 'waitpid',\n",
       " 'waitstatus_to_exitcode',\n",
       " 'walk',\n",
       " 'write',\n",
       " 'writev']"
      ]
     },
     "execution_count": 99,
     "metadata": {},
     "output_type": "execute_result"
    }
   ],
   "source": [
    "dir(os)"
   ]
  },
  {
   "cell_type": "code",
   "execution_count": 105,
   "id": "0b67669a",
   "metadata": {},
   "outputs": [
    {
     "data": {
      "text/plain": [
       "['exercise',\n",
       " 'test',\n",
       " 'test1',\n",
       " 'Day4_python_basics.ipynb',\n",
       " 'Day3_python_basics.ipynb',\n",
       " 'Day_1_python_basics.ipynb',\n",
       " 'Day5_python_basics.ipynb',\n",
       " 'Day2_python_basics.ipynb',\n",
       " 'OOP_Concepts_Python.ipynb']"
      ]
     },
     "execution_count": 105,
     "metadata": {},
     "output_type": "execute_result"
    }
   ],
   "source": [
    "os.makedirs(\"test1\")\n",
    "os.listdir()"
   ]
  },
  {
   "cell_type": "code",
   "execution_count": null,
   "id": "330db5ee",
   "metadata": {},
   "outputs": [],
   "source": []
  },
  {
   "cell_type": "code",
   "execution_count": null,
   "id": "39762ae1",
   "metadata": {},
   "outputs": [],
   "source": []
  },
  {
   "cell_type": "markdown",
   "id": "b4da8c5a",
   "metadata": {},
   "source": [
    "\n",
    "## 9. `vars()`\n",
    "\n",
    "The `vars()` function returns the `__dict__` attribute of an object, which contains all the instance attributes.\n"
   ]
  },
  {
   "cell_type": "code",
   "execution_count": 107,
   "id": "70d1ce9f",
   "metadata": {},
   "outputs": [
    {
     "name": "stdout",
     "output_type": "stream",
     "text": [
      "{'name': 'tommy', 'breed': 'Golden Retriever'}\n"
     ]
    }
   ],
   "source": [
    "\n",
    "class Dog:\n",
    "    def __init__(self, name, breed):\n",
    "        self.name = name\n",
    "        self.breed = breed\n",
    "\n",
    "dog = Dog(\"tommy\", \"Golden Retriever\")\n",
    "print(vars(dog))  # Output: {'name': 'Buddy', 'breed': 'Golden Retriever'}\n"
   ]
  },
  {
   "cell_type": "markdown",
   "id": "07aa42b3",
   "metadata": {},
   "source": [
    "\n",
    "## 10. `callable()`\n",
    "\n",
    "The `callable()` function checks if an object appears callable (i.e., if it can be called like a function, usually indicating the object has a `__call__` method).\n"
   ]
  },
  {
   "cell_type": "code",
   "execution_count": 108,
   "id": "03363f14",
   "metadata": {},
   "outputs": [
    {
     "name": "stdout",
     "output_type": "stream",
     "text": [
      "True\n"
     ]
    }
   ],
   "source": [
    "\n",
    "class Dog:\n",
    "    def __call__(self):\n",
    "        print(\"This is a callable object\")\n",
    "\n",
    "dog = Dog()\n",
    "print(callable(dog))  # Output: True\n"
   ]
  },
  {
   "cell_type": "code",
   "execution_count": null,
   "id": "c995b228",
   "metadata": {},
   "outputs": [],
   "source": [
    "## create a class with "
   ]
  },
  {
   "cell_type": "code",
   "execution_count": null,
   "id": "d8da0591",
   "metadata": {},
   "outputs": [],
   "source": []
  },
  {
   "cell_type": "code",
   "execution_count": null,
   "id": "546f7d0f",
   "metadata": {},
   "outputs": [],
   "source": []
  },
  {
   "cell_type": "code",
   "execution_count": null,
   "id": "1551b975",
   "metadata": {},
   "outputs": [],
   "source": []
  },
  {
   "cell_type": "code",
   "execution_count": null,
   "id": "84520f8e",
   "metadata": {},
   "outputs": [],
   "source": []
  },
  {
   "cell_type": "code",
   "execution_count": null,
   "id": "e75fd360",
   "metadata": {},
   "outputs": [],
   "source": []
  },
  {
   "cell_type": "code",
   "execution_count": 109,
   "id": "94ed934c",
   "metadata": {},
   "outputs": [
    {
     "name": "stdout",
     "output_type": "stream",
     "text": [
      "True\n",
      "10\n",
      "i am herer\n"
     ]
    }
   ],
   "source": [
    "class Multiplier:\n",
    "    def __init__(self, factor):\n",
    "        self.factor = factor\n",
    "\n",
    "    def __call__(self, number):\n",
    "        return number * self.factor\n",
    "    \n",
    "    def just(self):\n",
    "        print(\"i am herer\")\n",
    "\n",
    "# Creating an instance\n",
    "times_two = Multiplier(2)\n",
    "\n",
    "print(callable(times_two))\n",
    "\n",
    "# Using the object like a function\n",
    "print(times_two(5))  # Output: 10\n",
    "\n",
    "times_two.just()\n"
   ]
  },
  {
   "cell_type": "code",
   "execution_count": null,
   "id": "4cf66e9d",
   "metadata": {},
   "outputs": [],
   "source": []
  },
  {
   "cell_type": "code",
   "execution_count": null,
   "id": "a5ba2cce",
   "metadata": {},
   "outputs": [],
   "source": []
  },
  {
   "cell_type": "code",
   "execution_count": 147,
   "id": "afd7164d",
   "metadata": {},
   "outputs": [],
   "source": [
    "class ClassName:\n",
    "    # define the constructor \n",
    "    def __init__(self, attribute1, attribute2):\n",
    "        self.attribute1 = attribute1\n",
    "        self.attribute2 = attribute2\n",
    "    \n",
    "    def __str__(self):\n",
    "        return f\"this is the test method!!!\"\n",
    "    \n",
    "    def method1(self):\n",
    "        print(f\"this is the given attr {self.attribute1} and {self.attribute2}\")\n",
    "        \n",
    "    def method_with_extra_attribute(self, attribute3):\n",
    "        print(f\"Along with {self.attribute1} and {self.attribute2}, I am the extra attribute {attribute3}\")\n",
    "    \n",
    "    def addition(self):\n",
    "        sum = 0\n",
    "        if type(self.attribute1) == int and type(self.attribute2) == int: \n",
    "            sum = self.attribute1 + self.attribute2\n",
    "        elif type(self.attribute1) == str and type(self.attribute2) == str: \n",
    "            sum = self.attribute1 + ' ' + self.attribute2\n",
    "        return sum \n",
    "    \n",
    "    def add_another(self, alien_value):\n",
    "        return self.addition() + alien_value"
   ]
  },
  {
   "cell_type": "code",
   "execution_count": 148,
   "id": "ee55b503",
   "metadata": {},
   "outputs": [],
   "source": [
    "# instrance creationg\n",
    "object_name = ClassName(10, 3)"
   ]
  },
  {
   "cell_type": "code",
   "execution_count": 149,
   "id": "e8951a76",
   "metadata": {},
   "outputs": [
    {
     "data": {
      "text/plain": [
       "13"
      ]
     },
     "execution_count": 149,
     "metadata": {},
     "output_type": "execute_result"
    }
   ],
   "source": [
    "result1 = object_name.addition()\n",
    "result1"
   ]
  },
  {
   "cell_type": "code",
   "execution_count": 150,
   "id": "a883b9b1",
   "metadata": {},
   "outputs": [
    {
     "data": {
      "text/plain": [
       "18"
      ]
     },
     "execution_count": 150,
     "metadata": {},
     "output_type": "execute_result"
    }
   ],
   "source": [
    "object_name.add_another(5)"
   ]
  },
  {
   "cell_type": "code",
   "execution_count": 151,
   "id": "38bd04c0",
   "metadata": {},
   "outputs": [
    {
     "data": {
      "text/plain": [
       "['__class__',\n",
       " '__delattr__',\n",
       " '__dict__',\n",
       " '__dir__',\n",
       " '__doc__',\n",
       " '__eq__',\n",
       " '__format__',\n",
       " '__ge__',\n",
       " '__getattribute__',\n",
       " '__gt__',\n",
       " '__hash__',\n",
       " '__init__',\n",
       " '__init_subclass__',\n",
       " '__le__',\n",
       " '__lt__',\n",
       " '__module__',\n",
       " '__ne__',\n",
       " '__new__',\n",
       " '__reduce__',\n",
       " '__reduce_ex__',\n",
       " '__repr__',\n",
       " '__setattr__',\n",
       " '__sizeof__',\n",
       " '__str__',\n",
       " '__subclasshook__',\n",
       " '__weakref__',\n",
       " 'add_another',\n",
       " 'addition',\n",
       " 'attribute1',\n",
       " 'attribute2',\n",
       " 'method1',\n",
       " 'method_with_extra_attribute']"
      ]
     },
     "execution_count": 151,
     "metadata": {},
     "output_type": "execute_result"
    }
   ],
   "source": [
    "dir(object_name)"
   ]
  },
  {
   "cell_type": "code",
   "execution_count": 120,
   "id": "f7697ede",
   "metadata": {},
   "outputs": [
    {
     "data": {
      "text/plain": [
       "str"
      ]
     },
     "execution_count": 120,
     "metadata": {},
     "output_type": "execute_result"
    }
   ],
   "source": [
    "type('apple')"
   ]
  },
  {
   "cell_type": "code",
   "execution_count": 160,
   "id": "89c5d14b",
   "metadata": {},
   "outputs": [],
   "source": [
    "a = []"
   ]
  },
  {
   "cell_type": "code",
   "execution_count": 161,
   "id": "c8e19ab4",
   "metadata": {},
   "outputs": [
    {
     "data": {
      "text/plain": [
       "['__add__',\n",
       " '__class__',\n",
       " '__class_getitem__',\n",
       " '__contains__',\n",
       " '__delattr__',\n",
       " '__delitem__',\n",
       " '__dir__',\n",
       " '__doc__',\n",
       " '__eq__',\n",
       " '__format__',\n",
       " '__ge__',\n",
       " '__getattribute__',\n",
       " '__getitem__',\n",
       " '__gt__',\n",
       " '__hash__',\n",
       " '__iadd__',\n",
       " '__imul__',\n",
       " '__init__',\n",
       " '__init_subclass__',\n",
       " '__iter__',\n",
       " '__le__',\n",
       " '__len__',\n",
       " '__lt__',\n",
       " '__mul__',\n",
       " '__ne__',\n",
       " '__new__',\n",
       " '__reduce__',\n",
       " '__reduce_ex__',\n",
       " '__repr__',\n",
       " '__reversed__',\n",
       " '__rmul__',\n",
       " '__setattr__',\n",
       " '__setitem__',\n",
       " '__sizeof__',\n",
       " '__str__',\n",
       " '__subclasshook__',\n",
       " 'append',\n",
       " 'clear',\n",
       " 'copy',\n",
       " 'count',\n",
       " 'extend',\n",
       " 'index',\n",
       " 'insert',\n",
       " 'pop',\n",
       " 'remove',\n",
       " 'reverse',\n",
       " 'sort']"
      ]
     },
     "execution_count": 161,
     "metadata": {},
     "output_type": "execute_result"
    }
   ],
   "source": [
    "dir(a)"
   ]
  },
  {
   "cell_type": "code",
   "execution_count": 114,
   "id": "0cee4693",
   "metadata": {},
   "outputs": [
    {
     "data": {
      "text/plain": [
       "'pencil'"
      ]
     },
     "execution_count": 114,
     "metadata": {},
     "output_type": "execute_result"
    }
   ],
   "source": [
    "# accesing attribute\n",
    "object_name.attribute1"
   ]
  },
  {
   "cell_type": "code",
   "execution_count": 115,
   "id": "e5fe0637",
   "metadata": {},
   "outputs": [
    {
     "name": "stdout",
     "output_type": "stream",
     "text": [
      "this is the given attr pencil and pen\n"
     ]
    }
   ],
   "source": [
    "# accessing methods\n",
    "object_name.method1()"
   ]
  },
  {
   "cell_type": "code",
   "execution_count": 116,
   "id": "81f60ff9",
   "metadata": {},
   "outputs": [
    {
     "name": "stdout",
     "output_type": "stream",
     "text": [
      "Along with pencil and pen, I am the extra attribute eraser\n"
     ]
    }
   ],
   "source": [
    "# accessing extra attribute method\n",
    "object_name.method_with_extra_attribute(\"eraser\")"
   ]
  },
  {
   "cell_type": "code",
   "execution_count": null,
   "id": "167e70bb",
   "metadata": {},
   "outputs": [],
   "source": []
  },
  {
   "cell_type": "code",
   "execution_count": null,
   "id": "9291c71e",
   "metadata": {},
   "outputs": [],
   "source": []
  },
  {
   "cell_type": "code",
   "execution_count": null,
   "id": "43cf8a56",
   "metadata": {},
   "outputs": [],
   "source": [
    "class BankSystem:\n",
    "    account_counter = 1000  # Static counter to generate unique account numbers\n",
    "\n",
    "    def __init__(self):\n",
    "        self.accounts = {}\n",
    "\n",
    "    def create_account(self, owner_name, initial_deposit=0):\n",
    "        account_number = BankSystem.account_counter\n",
    "        BankSystem.account_counter += 1\n",
    "        self.accounts[account_number] = {\n",
    "            \"owner_name\": owner_name,\n",
    "            \"balance\": initial_deposit,\n",
    "        }\n",
    "        print(f\"Account created successfully! Account Number: {account_number}\")\n",
    "        return account_number\n",
    "\n",
    "    def deposit(self, account_number, amount):\n",
    "        account = self.accounts.get(account_number)\n",
    "        if account:\n",
    "            if amount > 0:\n",
    "                account[\"balance\"] += amount\n",
    "                print(f\"Deposited ${amount} to {account['owner_name']}'s account.\")\n",
    "            else:\n",
    "                print(\"Deposit amount must be positive.\")\n",
    "        else:\n",
    "            print(\"Account not found.\")\n",
    "\n",
    "    def withdraw(self, account_number, amount):\n",
    "        account = self.accounts.get(account_number)\n",
    "        if account:\n",
    "            if amount > account[\"balance\"]:\n",
    "                print(\"Insufficient balance!\")\n",
    "            elif amount > 0:\n",
    "                account[\"balance\"] -= amount\n",
    "                print(f\"Withdrew ${amount} from {account['owner_name']}'s account.\")\n",
    "            else:\n",
    "                print(\"Withdrawal amount must be positive.\")\n",
    "        else:\n",
    "            print(\"Account not found.\")\n",
    "\n",
    "    def transfer(self, sender_account_number, receiver_account_number, amount):\n",
    "        sender = self.accounts.get(sender_account_number)\n",
    "        receiver = self.accounts.get(receiver_account_number)\n",
    "\n",
    "        if sender and receiver:\n",
    "            if sender[\"balance\"] >= amount:\n",
    "                sender[\"balance\"] -= amount\n",
    "                receiver[\"balance\"] += amount\n",
    "                print(\n",
    "                    f\"Transferred ${amount} from Account {sender_account_number} to Account {receiver_account_number}.\"\n",
    "                )\n",
    "            else:\n",
    "                print(\"Transfer failed due to insufficient balance.\")\n",
    "        else:\n",
    "            print(\"One or both accounts not found.\")\n",
    "\n",
    "    def display_balance(self, account_number):\n",
    "        account = self.accounts.get(account_number)\n",
    "        if account:\n",
    "            print(\n",
    "                f\"Account {account_number} - Balance: ${account['balance']}\"\n",
    "            )\n",
    "        else:\n",
    "            print(\"Account not found.\")\n",
    "\n",
    "    def show_all_accounts(self):\n",
    "        if not self.accounts:\n",
    "            print(\"No accounts found.\")\n",
    "            return\n",
    "        for account_number, details in self.accounts.items():\n",
    "            print(\n",
    "                f\"Account Number: {account_number}, Owner: {details['owner_name']}, Balance: ${details['balance']}\"\n",
    "            )\n",
    "\n",
    "\n",
    "# Testing the Program\n",
    "bank = BankSystem()\n",
    "\n",
    "# Create accounts\n",
    "acc1 = bank.create_account(\"Alice\", 500)\n",
    "acc2 = bank.create_account(\"Bob\", 1000)\n",
    "\n",
    "# Deposit, Withdraw, Transfer\n",
    "bank.deposit(acc1, 200)\n",
    "bank.withdraw(acc1, 100)\n",
    "bank.transfer(acc1, acc2, 300)\n",
    "\n",
    "# Show balances and all accounts\n",
    "bank.display_balance(acc1)\n",
    "bank.display_balance(acc2)\n",
    "bank.show_all_accounts()\n"
   ]
  }
 ],
 "metadata": {
  "kernelspec": {
   "display_name": "base",
   "language": "python",
   "name": "python3"
  },
  "language_info": {
   "codemirror_mode": {
    "name": "ipython",
    "version": 3
   },
   "file_extension": ".py",
   "mimetype": "text/x-python",
   "name": "python",
   "nbconvert_exporter": "python",
   "pygments_lexer": "ipython3",
   "version": "3.11.4"
  }
 },
 "nbformat": 4,
 "nbformat_minor": 5
}
