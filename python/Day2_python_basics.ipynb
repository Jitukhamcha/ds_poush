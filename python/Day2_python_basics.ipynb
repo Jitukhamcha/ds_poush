{
 "cells": [
  {
   "cell_type": "markdown",
   "id": "e596dadf-f605-444a-9aed-1a2209a73677",
   "metadata": {},
   "source": [
    "<h2 >Strings</h2>\n",
    "<b>Strings in python are surrounded by either single quotation marks, or double quotation marks."
   ]
  },
  {
   "cell_type": "code",
   "execution_count": 1,
   "id": "8e284b53-4f1a-4528-9f9b-ec23c68f92ed",
   "metadata": {},
   "outputs": [
    {
     "name": "stdout",
     "output_type": "stream",
     "text": [
      "Data science\n",
      "Data science\n"
     ]
    }
   ],
   "source": [
    "print(\"Data science\")\n",
    "print('Data science')"
   ]
  },
  {
   "cell_type": "markdown",
   "id": "921255e4-1825-4c45-9230-a56c2d1a0df3",
   "metadata": {},
   "source": [
    "<b>Assigning a string to a variable is done with the variable name followed by an equal sign and the string"
   ]
  },
  {
   "cell_type": "code",
   "execution_count": 2,
   "id": "54cf4fd0-20eb-42e0-ba5a-779f952992e6",
   "metadata": {},
   "outputs": [
    {
     "name": "stdout",
     "output_type": "stream",
     "text": [
      "Data science\n"
     ]
    }
   ],
   "source": [
    "a = \"Data science\"\n",
    "print(a)"
   ]
  },
  {
   "cell_type": "markdown",
   "id": "d554835d-08aa-495e-9dd0-80270eb8450a",
   "metadata": {},
   "source": [
    "<b>You can assign a multiline string to a variable by using three quotes"
   ]
  },
  {
   "cell_type": "code",
   "execution_count": 1,
   "id": "3a8a69d3-acc4-4664-b2d4-4274b8d3d022",
   "metadata": {},
   "outputs": [
    {
     "name": "stdout",
     "output_type": "stream",
     "text": [
      "This is a bsic python class.\n",
      "We start with data types, function and classes.\n",
      "After basic skills in python we learn machine learning\n"
     ]
    }
   ],
   "source": [
    "a = \"\"\"This is a bsic python class.\n",
    "We start with data types, function and classes.\n",
    "After basic skills in python we learn machine learning\"\"\"\n",
    "print(a)"
   ]
  },
  {
   "cell_type": "code",
   "execution_count": 2,
   "id": "aa8baec8-e593-46ef-9fac-82b4b65ba26b",
   "metadata": {},
   "outputs": [
    {
     "name": "stdout",
     "output_type": "stream",
     "text": [
      "This is a bsic python class.\n",
      "We start with data types, function and classes.\n",
      "After basic skills in python we learn machine learning\n"
     ]
    }
   ],
   "source": [
    "a = '''This is a bsic python class.\n",
    "We start with data types, function and classes.\n",
    "After basic skills in python we learn machine learning'''\n",
    "print(a)"
   ]
  },
  {
   "cell_type": "markdown",
   "id": "cd9b223f-200b-469e-bcb6-bae00d89f953",
   "metadata": {},
   "source": [
    "<b>Like many other popular programming languages, strings in Python are <u>arrays</u> of bytes representing unicode characters.<br>\n",
    "\n",
    "<b>However, Python does not have a character data type, a single character is simply a string with a length of 1. <br>\n",
    "\n",
    "<b><u>Square brackets</u> can be used to access elements of the string."
   ]
  },
  {
   "cell_type": "code",
   "execution_count": 4,
   "id": "061fcc39-4036-44c5-94da-9cb3d8f2513b",
   "metadata": {},
   "outputs": [
    {
     "name": "stdout",
     "output_type": "stream",
     "text": [
      "Data science\n"
     ]
    }
   ],
   "source": [
    "data = \"Data science\"\n",
    "# print(data[5:12])\n",
    "print(data)"
   ]
  },
  {
   "cell_type": "code",
   "execution_count": 10,
   "id": "d4ef38de",
   "metadata": {},
   "outputs": [
    {
     "data": {
      "text/plain": [
       "12"
      ]
     },
     "execution_count": 10,
     "metadata": {},
     "output_type": "execute_result"
    }
   ],
   "source": [
    "len(data)"
   ]
  },
  {
   "cell_type": "code",
   "execution_count": 15,
   "id": "ef11a97d",
   "metadata": {},
   "outputs": [],
   "source": [
    "# syntax : string[start_index: end_index: step]"
   ]
  },
  {
   "cell_type": "code",
   "execution_count": 11,
   "id": "a5cf0e56",
   "metadata": {},
   "outputs": [
    {
     "data": {
      "text/plain": [
       "str"
      ]
     },
     "execution_count": 11,
     "metadata": {},
     "output_type": "execute_result"
    }
   ],
   "source": [
    "type(data)"
   ]
  },
  {
   "cell_type": "code",
   "execution_count": 21,
   "id": "e00c6dae",
   "metadata": {},
   "outputs": [
    {
     "name": "stdout",
     "output_type": "stream",
     "text": [
      "si\n"
     ]
    }
   ],
   "source": [
    "print(data[5: 8: 2])"
   ]
  },
  {
   "cell_type": "markdown",
   "id": "2c0ac722-8138-4c3b-b038-26df52b3ddc0",
   "metadata": {},
   "source": [
    "<b>Since strings are arrays, we can loop through the characters in a string, with a <u>for</u> loop."
   ]
  },
  {
   "cell_type": "code",
   "execution_count": 23,
   "id": "3ad59bd2",
   "metadata": {},
   "outputs": [],
   "source": [
    "x = 'D'\n",
    "x = 'a'\n",
    "x = 't'\n",
    "x = 'a'"
   ]
  },
  {
   "cell_type": "code",
   "execution_count": 36,
   "id": "04e629f8-3a60-46f7-aa3b-aa67ce10d238",
   "metadata": {},
   "outputs": [
    {
     "name": "stdout",
     "output_type": "stream",
     "text": [
      "D\n",
      "a\n",
      "t\n",
      "a\n"
     ]
    }
   ],
   "source": [
    "for x in \"Data\":\n",
    "  print(x)\n",
    "  # break"
   ]
  },
  {
   "cell_type": "code",
   "execution_count": null,
   "id": "83693103",
   "metadata": {},
   "outputs": [],
   "source": [
    "f"
   ]
  },
  {
   "cell_type": "markdown",
   "id": "7cc75c11-aa4b-4337-acfa-d38ab217ba7b",
   "metadata": {},
   "source": [
    "<b>To get the length of a string, use the <u>len()</u> function."
   ]
  },
  {
   "cell_type": "code",
   "execution_count": 27,
   "id": "c33f490a-30ca-4328-b9e2-055a001af657",
   "metadata": {},
   "outputs": [
    {
     "name": "stdout",
     "output_type": "stream",
     "text": [
      "12\n"
     ]
    }
   ],
   "source": [
    "a = \"Data science\"\n",
    "print(len(a))"
   ]
  },
  {
   "cell_type": "code",
   "execution_count": null,
   "id": "28508e00",
   "metadata": {},
   "outputs": [],
   "source": [
    "# len()"
   ]
  },
  {
   "cell_type": "markdown",
   "id": "6b2f955c-2cfc-4aad-a254-2920a6619d48",
   "metadata": {},
   "source": [
    "<b>To check if a certain phrase or character is present in a string, we can use the keyword <u>in</u>."
   ]
  },
  {
   "cell_type": "code",
   "execution_count": 38,
   "id": "ee546284-a387-4b9c-b613-171e93c07f7b",
   "metadata": {},
   "outputs": [],
   "source": [
    "txt = \"I ate a banana  To check if a certain phrase or character is present in a string, we can use the keyword \"\n",
    "# print(\"khalkghlk'a \" not in txt)"
   ]
  },
  {
   "cell_type": "code",
   "execution_count": 40,
   "id": "e893cf13",
   "metadata": {},
   "outputs": [
    {
     "data": {
      "text/plain": [
       "False"
      ]
     },
     "execution_count": 40,
     "metadata": {},
     "output_type": "execute_result"
    }
   ],
   "source": [
    "\"apple\" in txt "
   ]
  },
  {
   "cell_type": "code",
   "execution_count": 34,
   "id": "b407ba8f",
   "metadata": {},
   "outputs": [
    {
     "data": {
      "text/plain": [
       "True"
      ]
     },
     "execution_count": 34,
     "metadata": {},
     "output_type": "execute_result"
    }
   ],
   "source": [
    "'eat' not in txt "
   ]
  },
  {
   "cell_type": "markdown",
   "id": "d7b2e8d0-b1e4-499f-92d5-f50553c3d6e4",
   "metadata": {},
   "source": [
    "<b>Use it in an <u>if</u> statement"
   ]
  },
  {
   "cell_type": "code",
   "execution_count": 30,
   "id": "bcf39fa7-6785-4244-b4a4-728e9c1594cf",
   "metadata": {},
   "outputs": [
    {
     "name": "stdout",
     "output_type": "stream",
     "text": [
      "Yes, 'banana' is present.\n"
     ]
    }
   ],
   "source": [
    "txt = \"I ate a banana\"\n",
    "if \"banana\" in txt:\n",
    "  print(\"Yes, 'banana' is present.\")\n",
    "else:\n",
    "    print(\"it is other fruit\")"
   ]
  },
  {
   "cell_type": "markdown",
   "id": "e8db4f93-7634-44b6-8513-0409f8cfca36",
   "metadata": {},
   "source": [
    "<b>To check if a certain phrase or character is NOT present in a string, we can use the keyword <u>not in</u>."
   ]
  },
  {
   "cell_type": "code",
   "execution_count": 121,
   "id": "0d83ec98-b517-4c53-bacb-589eb9930989",
   "metadata": {},
   "outputs": [
    {
     "name": "stdout",
     "output_type": "stream",
     "text": [
      "True\n"
     ]
    }
   ],
   "source": [
    "txt = \"I ate a banana\"\n",
    "print(\"expensive\" not in txt)"
   ]
  },
  {
   "cell_type": "code",
   "execution_count": 122,
   "id": "3ce765b1-d9e3-4247-918f-0c2f06b7666a",
   "metadata": {},
   "outputs": [
    {
     "name": "stdout",
     "output_type": "stream",
     "text": [
      "No, 'expensive' is NOT present.\n"
     ]
    }
   ],
   "source": [
    "txt = \"I ate a banana\"\n",
    "if \"expensive\" not in txt:\n",
    "  print(\"No, 'expensive' is NOT present.\")"
   ]
  },
  {
   "cell_type": "markdown",
   "id": "ee2475d4-3776-4d41-b203-d3596aacbf4b",
   "metadata": {},
   "source": [
    "<h3 style=\"color:Red\">Slicing Strings</h3>\n",
    "<b>You can return a range of characters by using the slice syntax.\n",
    "\n",
    "string[start:end:steps]"
   ]
  },
  {
   "cell_type": "code",
   "execution_count": 43,
   "id": "632bafe4-2632-4e10-ba58-966673dae8d5",
   "metadata": {},
   "outputs": [
    {
     "name": "stdout",
     "output_type": "stream",
     "text": [
      " science\n",
      "Data\n"
     ]
    }
   ],
   "source": [
    "b = \"Data science\"\n",
    "print(b[4:])\n",
    "print(data[:4])"
   ]
  },
  {
   "cell_type": "code",
   "execution_count": 48,
   "id": "ff75d79b",
   "metadata": {},
   "outputs": [
    {
     "name": "stdout",
     "output_type": "stream",
     "text": [
      "ta scien\n"
     ]
    }
   ],
   "source": [
    "print(b[2:-2])"
   ]
  },
  {
   "cell_type": "code",
   "execution_count": null,
   "id": "08fb1131",
   "metadata": {},
   "outputs": [],
   "source": [
    "[starting_point : end_point : steps]"
   ]
  },
  {
   "cell_type": "code",
   "execution_count": 50,
   "id": "73510e35-9521-4c80-9892-eeece881db92",
   "metadata": {},
   "outputs": [
    {
     "name": "stdout",
     "output_type": "stream",
     "text": [
      "Data sc\n"
     ]
    }
   ],
   "source": [
    "b = \"Data science\"\n",
    "print(b[:-5])"
   ]
  },
  {
   "cell_type": "code",
   "execution_count": 52,
   "id": "e7326421",
   "metadata": {},
   "outputs": [
    {
     "name": "stdout",
     "output_type": "stream",
     "text": [
      "ecneics ataD\n"
     ]
    }
   ],
   "source": [
    "# reversing\n",
    "print(b[ : :-1])"
   ]
  },
  {
   "cell_type": "code",
   "execution_count": 56,
   "id": "d8a028d0",
   "metadata": {},
   "outputs": [
    {
     "data": {
      "text/plain": [
       "True"
      ]
     },
     "execution_count": 56,
     "metadata": {},
     "output_type": "execute_result"
    }
   ],
   "source": [
    "# palindrome\n",
    "a = 'racecar'\n",
    "a[::-1] == 'racecar'"
   ]
  },
  {
   "cell_type": "code",
   "execution_count": null,
   "id": "22cba72d",
   "metadata": {},
   "outputs": [],
   "source": [
    "# function_name(value)\n",
    "# value.function_name()"
   ]
  },
  {
   "cell_type": "markdown",
   "id": "1351f09b-2589-4d40-9faf-b8f031c36420",
   "metadata": {},
   "source": [
    "Upper Case <br>\n",
    "<b>The <u>upper()</u> method returns the string in upper case:"
   ]
  },
  {
   "cell_type": "code",
   "execution_count": 37,
   "id": "7a8c03cf-d7f4-49b8-a341-7f9e308a3309",
   "metadata": {},
   "outputs": [
    {
     "name": "stdout",
     "output_type": "stream",
     "text": [
      "SCIENCE\n"
     ]
    }
   ],
   "source": [
    "a = \"science\"\n",
    "print(a.upper())"
   ]
  },
  {
   "cell_type": "code",
   "execution_count": 57,
   "id": "a0d045c7",
   "metadata": {},
   "outputs": [
    {
     "data": {
      "text/plain": [
       "'DATA'"
      ]
     },
     "execution_count": 57,
     "metadata": {},
     "output_type": "execute_result"
    }
   ],
   "source": [
    "\"data\".upper()"
   ]
  },
  {
   "cell_type": "markdown",
   "id": "02f659af-7702-43ae-81ed-dcc13365fd23",
   "metadata": {},
   "source": [
    "<b>Lower Case <br>\n",
    "The <u>lower()</u> method returns the string in lower case:"
   ]
  },
  {
   "cell_type": "code",
   "execution_count": 58,
   "id": "f76f3ec2-04b7-4dcb-87f0-9f800b0dbb1e",
   "metadata": {},
   "outputs": [
    {
     "name": "stdout",
     "output_type": "stream",
     "text": [
      "data science\n"
     ]
    }
   ],
   "source": [
    "a = \"Data scieNce\"\n",
    "print(a.lower())"
   ]
  },
  {
   "cell_type": "code",
   "execution_count": 59,
   "id": "10cccabe",
   "metadata": {},
   "outputs": [
    {
     "name": "stdout",
     "output_type": "stream",
     "text": [
      "Data Science\n"
     ]
    }
   ],
   "source": [
    "print(a.title())"
   ]
  },
  {
   "cell_type": "markdown",
   "id": "55afb49b-5574-4c5b-b78a-75eeaa30d64f",
   "metadata": {},
   "source": [
    "<b>Remove Whitespace <br>\n",
    "Whitespace is the space before and/or after the actual text, and very often you want to remove this space."
   ]
  },
  {
   "cell_type": "markdown",
   "id": "43fd75fc-cff4-427b-9def-cc6d6cad5c85",
   "metadata": {},
   "source": [
    "<b> The <u>strip()</u> method removes any whitespace from the beginning or the end"
   ]
  },
  {
   "cell_type": "code",
   "execution_count": 69,
   "id": "536602fc-0458-49f9-93a9-2748ff8d2ec0",
   "metadata": {},
   "outputs": [
    {
     "name": "stdout",
     "output_type": "stream",
     "text": [
      "19\n",
      "      Data science \n",
      "Data science\n"
     ]
    }
   ],
   "source": [
    "a = \"      Data science \"\n",
    "print(len(a))\n",
    "print(a)\n",
    "print(a.strip()) # returns \"Hello, World!\""
   ]
  },
  {
   "cell_type": "code",
   "execution_count": 70,
   "id": "c683a2a1",
   "metadata": {},
   "outputs": [
    {
     "data": {
      "text/plain": [
       "'Data science '"
      ]
     },
     "execution_count": 70,
     "metadata": {},
     "output_type": "execute_result"
    }
   ],
   "source": [
    "a.lstrip()\n"
   ]
  },
  {
   "cell_type": "code",
   "execution_count": 71,
   "id": "d74b7e83",
   "metadata": {},
   "outputs": [
    {
     "data": {
      "text/plain": [
       "'      Data science'"
      ]
     },
     "execution_count": 71,
     "metadata": {},
     "output_type": "execute_result"
    }
   ],
   "source": [
    "a.rstrip()"
   ]
  },
  {
   "cell_type": "code",
   "execution_count": 72,
   "id": "3ea0fe30",
   "metadata": {},
   "outputs": [
    {
     "data": {
      "text/plain": [
       "'Data science'"
      ]
     },
     "execution_count": 72,
     "metadata": {},
     "output_type": "execute_result"
    }
   ],
   "source": [
    "a.strip()"
   ]
  },
  {
   "cell_type": "markdown",
   "id": "39cdb398-0382-479e-8be3-9b2c70cb165f",
   "metadata": {},
   "source": [
    "<b>Replace String <br>\n",
    "The <u>replace()</u> method replaces a string with another string:"
   ]
  },
  {
   "cell_type": "code",
   "execution_count": 74,
   "id": "4666e22b-0df2-424a-84e7-7f8e22c9e19d",
   "metadata": {},
   "outputs": [
    {
     "name": "stdout",
     "output_type": "stream",
     "text": [
      "here Science\n"
     ]
    }
   ],
   "source": [
    "a = \"Data Science\"\n",
    "print(a.replace(\"Data\", \"here\"))"
   ]
  },
  {
   "cell_type": "markdown",
   "id": "c4a0b4d6-133f-4a8d-aa6d-22241d43edd6",
   "metadata": {},
   "source": [
    "<b>Split String <br>\n",
    "The <u>split()</u> method returns a list where the text between the specified separator becomes the list items."
   ]
  },
  {
   "cell_type": "code",
   "execution_count": 77,
   "id": "0b6a939d-c500-4987-a73e-0764737a686c",
   "metadata": {},
   "outputs": [
    {
     "name": "stdout",
     "output_type": "stream",
     "text": [
      "['Data', 'science', 'apple'] <class 'list'>\n",
      "Data science apple\n"
     ]
    }
   ],
   "source": [
    "a = \"  Data science          apple   \"\n",
    "# print(' '.join(a.split())) # returns ['Data', ' science!']\n",
    "splitted_text = a.split()\n",
    "print(splitted_text, type(splitted_text))\n",
    "fomated_String = ' '.join(splitted_text)\n",
    "print(fomated_String)"
   ]
  },
  {
   "cell_type": "markdown",
   "id": "3ef1b451-7045-4eee-a5ef-6cffd110be48",
   "metadata": {},
   "source": [
    "<b>String Concatenation <br>\n",
    "To concatenate, <u>or</u> combine, two strings you can use the <u>+</u> operator."
   ]
  },
  {
   "cell_type": "code",
   "execution_count": 40,
   "id": "79036c7a-b635-4359-8490-3e703182864d",
   "metadata": {},
   "outputs": [
    {
     "name": "stdout",
     "output_type": "stream",
     "text": [
      "Data Science\n"
     ]
    }
   ],
   "source": [
    "a = \"Data\"\n",
    "b = \"Science\"\n",
    "c = a+\" \"+b\n",
    "print(c)"
   ]
  },
  {
   "cell_type": "code",
   "execution_count": 41,
   "id": "dff1b3b7-83e4-414d-8041-05e66de4c595",
   "metadata": {},
   "outputs": [
    {
     "name": "stdout",
     "output_type": "stream",
     "text": [
      "Data a Science\n"
     ]
    }
   ],
   "source": [
    "a = \"Data\"\n",
    "b = \"Science\"\n",
    "c = a + \" a \" + b\n",
    "print(c)"
   ]
  },
  {
   "cell_type": "markdown",
   "id": "da471adc-a76d-4dca-8f2a-31f551a7dcdf",
   "metadata": {},
   "source": [
    "<b>String Format <br>\n",
    "we can combine strings and numbers by using the f-string method!"
   ]
  },
  {
   "cell_type": "code",
   "execution_count": 80,
   "id": "d1aa7b4c-cbd6-4fb4-931a-1f3102b79359",
   "metadata": {},
   "outputs": [
    {
     "data": {
      "text/plain": [
       "'My name is Shyam, and I am 30 years old. I live in Lalitpur'"
      ]
     },
     "execution_count": 80,
     "metadata": {},
     "output_type": "execute_result"
    }
   ],
   "source": [
    "\n",
    "name = 'Shyam'\n",
    "age = 30\n",
    "place = 'Lalitpur'\n",
    "\n",
    "txt = \"My name is {name}, and I am {age} years old. I live in {place}\"\n",
    "z= txt.format(name=name, age=age, place=place)\n",
    "z\n"
   ]
  },
  {
   "cell_type": "code",
   "execution_count": 84,
   "id": "310bb2b1",
   "metadata": {},
   "outputs": [
    {
     "data": {
      "text/plain": [
       "'My name is Shyam, and I am 30 years old. I live in Lalitpur'"
      ]
     },
     "execution_count": 84,
     "metadata": {},
     "output_type": "execute_result"
    }
   ],
   "source": [
    "# using f-string\n",
    "txt = f\"My name is {name}, and I am {age} years old. I live in {place}\"\n",
    "txt"
   ]
  },
  {
   "cell_type": "code",
   "execution_count": 85,
   "id": "e4c5f332",
   "metadata": {},
   "outputs": [
    {
     "name": "stdout",
     "output_type": "stream",
     "text": [
      "Shyam 30 Lalitpur\n"
     ]
    }
   ],
   "source": [
    "print(name, age, place)"
   ]
  },
  {
   "cell_type": "markdown",
   "id": "66cf08f9",
   "metadata": {},
   "source": [
    "## Class works \n",
    "### 1. Count the number of vowels in a string. (st = \"apple\")\n",
    "### 2. Check if a string reads the same forward and backward (palindrome).\n",
    "### 3. Replace specific character in a string"
   ]
  },
  {
   "cell_type": "code",
   "execution_count": null,
   "id": "63c5856e",
   "metadata": {},
   "outputs": [
    {
     "name": "stdout",
     "output_type": "stream",
     "text": [
      "The character is  a\n",
      "a\n",
      "The character is  p\n",
      "The character is  p\n",
      "The character is  l\n",
      "The character is  e\n",
      "e\n"
     ]
    }
   ],
   "source": [
    "st = \"apple\"\n",
    "vowels = 'aeiou'\n",
    "for i in st:\n",
    "    \n",
    "    print(\"The character is \", i)\n",
    "    if i in vowels:\n",
    "        print(i)"
   ]
  },
  {
   "cell_type": "code",
   "execution_count": 86,
   "id": "fbcf2e44",
   "metadata": {},
   "outputs": [
    {
     "data": {
      "text/plain": [
       "'i live in kathmandu'"
      ]
     },
     "execution_count": 86,
     "metadata": {},
     "output_type": "execute_result"
    }
   ],
   "source": [
    "txt = \"i live in nepal\"\n",
    "# repalce nepal with kathmandu\n",
    "txt.replace(\"nepal\", \"kathmandu\")"
   ]
  },
  {
   "cell_type": "code",
   "execution_count": null,
   "id": "7d2285e5",
   "metadata": {},
   "outputs": [],
   "source": []
  },
  {
   "cell_type": "code",
   "execution_count": null,
   "id": "921db760",
   "metadata": {},
   "outputs": [],
   "source": []
  },
  {
   "cell_type": "code",
   "execution_count": null,
   "id": "913abb26",
   "metadata": {},
   "outputs": [],
   "source": []
  },
  {
   "cell_type": "code",
   "execution_count": null,
   "id": "6d43fd9b",
   "metadata": {},
   "outputs": [],
   "source": []
  },
  {
   "cell_type": "code",
   "execution_count": 93,
   "id": "245bd6e4",
   "metadata": {},
   "outputs": [],
   "source": [
    "st = \"apple\"\n",
    "vowel_list = ['a', 'e', 'i', 'o', 'u']"
   ]
  },
  {
   "cell_type": "code",
   "execution_count": 100,
   "id": "6a043a6b",
   "metadata": {},
   "outputs": [
    {
     "name": "stdout",
     "output_type": "stream",
     "text": [
      "the char is a\n",
      "the char is p\n",
      "matched!!! 1\n",
      "the char is p\n",
      "matched!!! 2\n",
      "the char is l\n",
      "matched!!! 3\n",
      "the char is e\n"
     ]
    }
   ],
   "source": [
    "count = 0 \n",
    "for i in st:\n",
    "    print(f\"the char is {i}\")\n",
    "    if i not in vowel_list:\n",
    "        count += 1\n",
    "        print(f\"matched!!!\", count)"
   ]
  },
  {
   "cell_type": "code",
   "execution_count": 113,
   "id": "2e40e393",
   "metadata": {},
   "outputs": [
    {
     "data": {
      "text/plain": [
       "True"
      ]
     },
     "execution_count": 113,
     "metadata": {},
     "output_type": "execute_result"
    }
   ],
   "source": [
    "st = \" Appa\"\n",
    "\n",
    "st = st.strip().lower()\n",
    "\n",
    "st == st[::-1]"
   ]
  },
  {
   "cell_type": "code",
   "execution_count": 115,
   "id": "0d8c0d53",
   "metadata": {},
   "outputs": [
    {
     "data": {
      "text/plain": [
       "'bppb'"
      ]
     },
     "execution_count": 115,
     "metadata": {},
     "output_type": "execute_result"
    }
   ],
   "source": [
    "st.replace('a', 'b') # st.replace(\"which to replace\", \"with what to replace\")"
   ]
  },
  {
   "cell_type": "markdown",
   "id": "bca6db0d",
   "metadata": {},
   "source": [
    "## Escape\n",
    "### \\"
   ]
  },
  {
   "cell_type": "code",
   "execution_count": 123,
   "id": "16f7ecf6",
   "metadata": {},
   "outputs": [
    {
     "name": "stdout",
     "output_type": "stream",
     "text": [
      "he's a boy \n",
      " he\n"
     ]
    }
   ],
   "source": [
    "print('he\\'s a boy \\n \\t \\b he')  "
   ]
  },
  {
   "cell_type": "code",
   "execution_count": 127,
   "id": "c8051891",
   "metadata": {},
   "outputs": [
    {
     "name": "stdout",
     "output_type": "stream",
     "text": [
      "aple\n"
     ]
    }
   ],
   "source": [
    "print(\"app\\ble\")"
   ]
  },
  {
   "cell_type": "code",
   "execution_count": null,
   "id": "2a62018b",
   "metadata": {},
   "outputs": [],
   "source": []
  },
  {
   "cell_type": "markdown",
   "id": "599ebbfe",
   "metadata": {},
   "source": [
    "### Raw string, represented by r\" \""
   ]
  },
  {
   "cell_type": "code",
   "execution_count": 136,
   "id": "cdda5917",
   "metadata": {},
   "outputs": [
    {
     "name": "stdout",
     "output_type": "stream",
     "text": [
      "app\\\"+1+le\n"
     ]
    }
   ],
   "source": [
    "print(r\"app\\\"+1+le\")"
   ]
  },
  {
   "cell_type": "code",
   "execution_count": null,
   "id": "f4e093c2",
   "metadata": {},
   "outputs": [],
   "source": []
  },
  {
   "cell_type": "markdown",
   "id": "68bd949d-4883-4d58-9a40-727124ee6e17",
   "metadata": {},
   "source": [
    "<h3 style=\"color:red;\">Python Booleans</h3>\n",
    "<b>Booleans represent one of two values: <u>True</u> or <u>False</u>."
   ]
  },
  {
   "cell_type": "code",
   "execution_count": 41,
   "id": "0e52852f-292e-41a3-8aba-d886e42bfa37",
   "metadata": {},
   "outputs": [
    {
     "name": "stdout",
     "output_type": "stream",
     "text": [
      "True\n",
      "True\n",
      "False\n"
     ]
    }
   ],
   "source": [
    "print(10 > 9)\n",
    "print(10 == 10)\n",
    "print(10 < 9)"
   ]
  },
  {
   "cell_type": "code",
   "execution_count": 2,
   "id": "edc13561",
   "metadata": {},
   "outputs": [
    {
     "data": {
      "text/plain": [
       "False"
      ]
     },
     "execution_count": 2,
     "metadata": {},
     "output_type": "execute_result"
    }
   ],
   "source": [
    "10 > 20"
   ]
  },
  {
   "cell_type": "code",
   "execution_count": 46,
   "id": "332261f5",
   "metadata": {},
   "outputs": [
    {
     "data": {
      "text/plain": [
       "2"
      ]
     },
     "execution_count": 46,
     "metadata": {},
     "output_type": "execute_result"
    }
   ],
   "source": [
    "x=8\n",
    "y=3\n",
    "x//y"
   ]
  },
  {
   "cell_type": "markdown",
   "id": "34605a4a-133b-4a2e-af4b-9de715c43c91",
   "metadata": {},
   "source": [
    "<h3 style=\"color:red;\">Python Arithmetic Operators</h3>"
   ]
  },
  {
   "cell_type": "markdown",
   "id": "9f5c8071-7ecc-4bec-9742-fe56821970f5",
   "metadata": {},
   "source": [
    " <table>\n",
    "  <tr>\n",
    "    <th>Operator</th>\n",
    "    <th>Name</th>\n",
    "    <th>Example</th>\n",
    "  </tr>\n",
    "  <tr>\n",
    "    <td>+</td>\n",
    "    <td>Addition</td>\n",
    "    <td>x + y</td>\n",
    "  </tr>\n",
    "  <tr>\n",
    "    <td>-</td>\n",
    "    <td>Subtraction</td>\n",
    "    <td>x - y</td>\n",
    "  </tr>\n",
    "      <tr>\n",
    "    <td>*</td>\n",
    "    <td>Multiplication</td>\n",
    "    <td>x * y</td>\n",
    "  </tr>\n",
    "       <tr>\n",
    "    <td>/</td>\n",
    "    <td>Division</td>\n",
    "    <td>x / y</td>\n",
    "  </tr>\n",
    "       <tr>\n",
    "    <td>%</td>\n",
    "    <td>Modulus</td>\n",
    "    <td>x % y</td>\n",
    "  </tr>\n",
    "       <tr>\n",
    "    <td>**</td>\n",
    "    <td>Exponentiation</td>\n",
    "    <td>x ** y</td>\n",
    "  </tr>\n",
    "       <tr>\n",
    "    <td>//</td>\n",
    "    <td>Floor division\t</td>\n",
    "    <td>x // y\t</td>\n",
    "  </tr>\n",
    "     \n",
    "</table> "
   ]
  },
  {
   "cell_type": "code",
   "execution_count": 15,
   "id": "6dcc1202",
   "metadata": {},
   "outputs": [
    {
     "data": {
      "text/plain": [
       "1"
      ]
     },
     "execution_count": 15,
     "metadata": {},
     "output_type": "execute_result"
    }
   ],
   "source": [
    "(5 // 2) - (5 % 2)\n"
   ]
  },
  {
   "cell_type": "markdown",
   "id": "cea48d74-d46a-4853-b5a1-157bf2507c36",
   "metadata": {},
   "source": [
    "<h3 style=\"color:red;\"'>Python Assignment Operators </h3>\n",
    "Assignment operators are used to assign values to variables"
   ]
  },
  {
   "cell_type": "markdown",
   "id": "138f9613-98f4-42f0-ad1f-947412ea3613",
   "metadata": {},
   "source": [
    " <table>\n",
    "  <tr>\n",
    "    <th>Operator</th>\n",
    "    <th>Example</th>\n",
    "    <th>Same As</th>\n",
    "  </tr>\n",
    "  <tr>\n",
    "    <td>=</td>\n",
    "    <td>x = 5</td>\n",
    "    <td>x = 5</td>\n",
    "  </tr>\n",
    "  <tr>\n",
    "    <td>+=</td>\n",
    "    <td>x += 3</td>\n",
    "    <td>x=x+3</td>\n",
    "  </tr>\n",
    "      <tr>\n",
    "    <td>-=\t</td>\n",
    "    <td>x -= 3\t</td>\n",
    "    <td>x=x-3</td>\n",
    "  </tr>\n",
    "       <tr>\n",
    "    <td>*=</td>\n",
    "    <td>x *= 3</td>\n",
    "    <td> x=x*3</td>\n",
    "  </tr>\n",
    "       <tr>\n",
    "    <td>/=\t</td>\n",
    "    <td>x /= 3\t</td>\n",
    "    <td>x =x/3</td>\n",
    "  </tr>\n",
    "       <tr>\n",
    "    <td>%=\t</td>\n",
    "    <td>x %= 3\t</td>\n",
    "    <td>x = x % 3\t</td>\n",
    "  </tr>\n",
    "     \n",
    "</table> "
   ]
  },
  {
   "cell_type": "code",
   "execution_count": 22,
   "id": "7acead3b",
   "metadata": {},
   "outputs": [
    {
     "name": "stdout",
     "output_type": "stream",
     "text": [
      "9\n",
      "1\n"
     ]
    }
   ],
   "source": [
    "x = 5 \n",
    "x += 4\n",
    "# x = x + 3\n",
    "print(x) \n",
    "x%=2\n",
    "print(x)"
   ]
  },
  {
   "cell_type": "markdown",
   "id": "fcc8f475-8121-407e-9275-8c4bfe2e08a6",
   "metadata": {},
   "source": [
    "<h3 style=\"color:red;\">Python Comparison Operators</h3>\n",
    "Comparison operators are used to compare two values:"
   ]
  },
  {
   "cell_type": "code",
   "execution_count": 27,
   "id": "47bff848",
   "metadata": {},
   "outputs": [
    {
     "data": {
      "text/plain": [
       "True"
      ]
     },
     "execution_count": 27,
     "metadata": {},
     "output_type": "execute_result"
    }
   ],
   "source": [
    "5 != 4"
   ]
  },
  {
   "cell_type": "markdown",
   "id": "a7b71659-2c1f-45ef-bd59-b26af077da7e",
   "metadata": {},
   "source": [
    " <table>\n",
    "  <tr>\n",
    "    <th>Operator</th>\n",
    "    <th>Name</th>\n",
    "    <th>Example</th>\n",
    "  </tr>\n",
    "  <tr>\n",
    "    <td>==</td>\n",
    "    <td>Equal</td>\n",
    "    <td>x == y</td>\n",
    "  </tr>\n",
    "  <tr>\n",
    "    <td>!=</td>\n",
    "    <td>Not equal</td>\n",
    "    <td>x != y</td>\n",
    "  </tr>\n",
    "      <tr>\n",
    "    <td>></td>\n",
    "    <td>Greater than</td>\n",
    "    <td>x > y</td>\n",
    "  </tr>\n",
    "       <tr>\n",
    "    <td><</td>\n",
    "    <td>Less than</td>\n",
    "    <td>x < y</td>\n",
    "  </tr>\n",
    "       <tr>\n",
    "    <td>>=</td>\n",
    "    <td>Greater than or equal to</td>\n",
    "    <td>x >= y</td>\n",
    "  </tr>\n",
    "       <tr>\n",
    "    <td><=</td>\n",
    "    <td>Less than or equal to</td>\n",
    "    <td>x <= y</td>\n",
    "  </tr>\n",
    "     \n",
    "</table> "
   ]
  },
  {
   "cell_type": "markdown",
   "id": "6155b98d-307d-44c0-8a27-63b79a8841f3",
   "metadata": {},
   "source": [
    "<h3 style=\"color:red;\"> Python Logical Operators</h3>\n",
    "Logical operators are used to combine conditional statements"
   ]
  },
  {
   "cell_type": "markdown",
   "id": "5425adab-c160-433b-842c-980b538f6046",
   "metadata": {},
   "source": [
    " <table>\n",
    "  <tr>\n",
    "    <th>Operator</th>\n",
    "    <th>Description</th>\n",
    "    <th>Example</th>\n",
    "  </tr>\n",
    "  <tr>\n",
    "    <td>and</td>\n",
    "    <td>Returns True if both statements are true</td>\n",
    "    <td>x < 5 and  x < 10</td>\n",
    "  </tr>\n",
    "  <tr>\n",
    "    <td>or</td>\n",
    "    <td>Returns True if one of the statements is true</td>\n",
    "    <td>x < 5 or x < 4</td>\n",
    "  </tr>\n",
    "      <tr>\n",
    "    <td>not</td>\n",
    "    <td>Reverse the result, returns False if the result is true</td>\n",
    "    <td>not(x < 5 and x < 10)</td>\n",
    "  </tr>  \n",
    "</table> "
   ]
  },
  {
   "cell_type": "code",
   "execution_count": 33,
   "id": "3c20724d",
   "metadata": {},
   "outputs": [
    {
     "data": {
      "text/plain": [
       "True"
      ]
     },
     "execution_count": 33,
     "metadata": {},
     "output_type": "execute_result"
    }
   ],
   "source": [
    "not 10>50"
   ]
  },
  {
   "cell_type": "markdown",
   "id": "8ad8432b-14a1-4c01-bc82-0f346adbc060",
   "metadata": {},
   "source": [
    "<h3 style=\"color:red;\">Python Identity Operators</h3>\n",
    "Identity operators are used to compare the objects, not if they are equal, but if they are actually the same object, with the same memory location"
   ]
  },
  {
   "cell_type": "markdown",
   "id": "fd45eb41-8be6-4341-9f0d-3b8e1785f9e3",
   "metadata": {},
   "source": [
    " <table>\n",
    "  <tr>\n",
    "    <th>Operator</th>\n",
    "    <th>Description</th>\n",
    "    <th>Example</th>\n",
    "  </tr>\n",
    "  <tr>\n",
    "    <td>is</td>\n",
    "    <td>Returns True if both variables are the same object</td>\n",
    "    <td>x < x is y < 10</td>\n",
    "  </tr>\n",
    "  <tr>\n",
    "    <td>is not</td>\n",
    "    <td>Returns True if both variables are not the same object</td>\n",
    "    <td>x < x is not y< 4</td>\n",
    "  </tr>\n",
    "</table> "
   ]
  },
  {
   "cell_type": "code",
   "execution_count": 35,
   "id": "84989653",
   "metadata": {},
   "outputs": [
    {
     "name": "stdout",
     "output_type": "stream",
     "text": [
      "True\n",
      "False\n",
      "True\n"
     ]
    }
   ],
   "source": [
    "x = [\"apple\", \"banana\"]\n",
    "y = [\"apple\", \"banana\"]\n",
    "z = x\n",
    "\n",
    "print(x is z)\n",
    "\n",
    "# returns True because z is the same object as x\n",
    "\n",
    "print(x is y)\n",
    "\n",
    "# returns False because x is not the same object as y, even if they have the same content\n",
    "\n",
    "print(x == y)\n",
    "\n",
    "# to demonstrate the difference betweeen \"is\" and \"==\": this comparison returns True because x is equal to y"
   ]
  },
  {
   "cell_type": "code",
   "execution_count": 81,
   "id": "d61d1972",
   "metadata": {},
   "outputs": [
    {
     "name": "stdout",
     "output_type": "stream",
     "text": [
      "False\n",
      "True\n",
      "True\n"
     ]
    }
   ],
   "source": [
    "x = [\"apple\", \"banana\"]\n",
    "y = [\"apple\", \"car\"]\n",
    "z = x\n",
    "\n",
    "print(x is not z)\n",
    "\n",
    "# returns False because z is the same object as x\n",
    "\n",
    "print(x is not y)\n",
    "\n",
    "# returns True because x is not the same object as y, even if they have the same content\n",
    "\n",
    "print(x != y)\n",
    "\n",
    "# to demonstrate the difference betweeen \"is not\" and \"!=\": this comparison returns False because x is equal to y\n"
   ]
  },
  {
   "cell_type": "markdown",
   "id": "6ee193df",
   "metadata": {},
   "source": [
    "<b><h2>Python If ... Else</h2> <br>\n",
    " \n",
    "   Python supports the usual logical conditions from mathematics <br> \n",
    "    \n",
    " <table>\n",
    "  <tr>\n",
    "    <th>Operator</th>\n",
    "    <th>Name</th>\n",
    "    <th>Example</th>\n",
    "  </tr>\n",
    "  <tr>\n",
    "    <td>==</td>\n",
    "    <td>Equal</td>\n",
    "    <td>x == y</td>\n",
    "  </tr>\n",
    "  <tr>\n",
    "    <td>!=</td>\n",
    "    <td>Not equal</td>\n",
    "    <td>x != y</td>\n",
    "  </tr>\n",
    "      <tr>\n",
    "    <td>></td>\n",
    "    <td>Greater than</td>\n",
    "    <td>x > y</td>\n",
    "  </tr>\n",
    "       <tr>\n",
    "    <td><</td>\n",
    "    <td>Less than</td>\n",
    "    <td>x < y</td>\n",
    "  </tr>\n",
    "       <tr>\n",
    "    <td>>=</td>\n",
    "    <td>Greater than or equal to</td>\n",
    "    <td>x >= y</td>\n",
    "  </tr>\n",
    "       <tr>\n",
    "    <td><=</td>\n",
    "    <td>Less than or equal to</td>\n",
    "    <td>x <= y</td>\n",
    "  </tr>\n",
    "     \n",
    "</table> "
   ]
  },
  {
   "cell_type": "code",
   "execution_count": null,
   "id": "a30f08dd",
   "metadata": {},
   "outputs": [],
   "source": []
  },
  {
   "cell_type": "markdown",
   "id": "7fcae7bc",
   "metadata": {},
   "source": [
    "<b>If statement"
   ]
  },
  {
   "cell_type": "code",
   "execution_count": 37,
   "id": "f7613334",
   "metadata": {},
   "outputs": [],
   "source": [
    "name = 'apple'\n",
    "if name == \"jit\":\n",
    "    print(\"i am inside if block\")"
   ]
  },
  {
   "cell_type": "code",
   "execution_count": 49,
   "id": "23c4cd5e",
   "metadata": {},
   "outputs": [
    {
     "name": "stdout",
     "output_type": "stream",
     "text": [
      "False\n",
      "20 is greater than 2\n"
     ]
    }
   ],
   "source": [
    "a = 2\n",
    "b = 20\n",
    "\n",
    "print(a>b)\n",
    "\n",
    "if b > a:\n",
    "    print(f\"{b} is greater than {a}\")\n",
    "elif a == b:\n",
    "    print(f\"{b} is equal to {a}\")\n",
    "else:\n",
    "    print(\"everything not right\")\n",
    "    \n",
    "# print(\"outside\")"
   ]
  },
  {
   "cell_type": "code",
   "execution_count": 52,
   "id": "6514444e",
   "metadata": {},
   "outputs": [
    {
     "name": "stdout",
     "output_type": "stream",
     "text": [
      "here\n"
     ]
    }
   ],
   "source": [
    "abc = \"value\"\n",
    "if abc:\n",
    "    print(\"here\")\n",
    "else:\n",
    "    print(\"not here\")"
   ]
  },
  {
   "cell_type": "code",
   "execution_count": 59,
   "id": "e5cb5324",
   "metadata": {},
   "outputs": [
    {
     "name": "stdout",
     "output_type": "stream",
     "text": [
      "inside\n"
     ]
    }
   ],
   "source": [
    "maap = None\n",
    "if not maap:\n",
    "    print(\"inside\")\n",
    "else:\n",
    "    print(\"outside\")"
   ]
  },
  {
   "cell_type": "code",
   "execution_count": 61,
   "id": "1c0355d4",
   "metadata": {},
   "outputs": [
    {
     "name": "stdout",
     "output_type": "stream",
     "text": [
      "The person can vote\n"
     ]
    }
   ],
   "source": [
    "age = 20\n",
    "if age >= 18:\n",
    "    print(\"The person can vote\")\n",
    "else:\n",
    "    print(\"the person cannot vote\")"
   ]
  },
  {
   "cell_type": "markdown",
   "id": "a386e1af",
   "metadata": {},
   "source": [
    "<b>Elif <br> </b>\n",
    "    The elif keyword is Python's way of saying \"if the previous conditions were not true, then try this condition\""
   ]
  },
  {
   "cell_type": "code",
   "execution_count": 73,
   "id": "3a6510e7",
   "metadata": {},
   "outputs": [
    {
     "name": "stdout",
     "output_type": "stream",
     "text": [
      "b is greater than a\n"
     ]
    }
   ],
   "source": [
    "a = 33\n",
    "b = 34\n",
    "if b > a:\n",
    "  print(\"b is greater than a\")\n",
    "elif a == b:\n",
    "  print(\"a and b are equal\")\n",
    "# elif a!=b:\n",
    "#     print(\"this is output\")"
   ]
  },
  {
   "cell_type": "markdown",
   "id": "8038fb7b",
   "metadata": {},
   "source": [
    "<b>Else</b> <br>\n",
    "The else keyword catches anything which isn't caught by the preceding conditions."
   ]
  },
  {
   "cell_type": "code",
   "execution_count": 150,
   "id": "893443f8",
   "metadata": {},
   "outputs": [
    {
     "name": "stdout",
     "output_type": "stream",
     "text": [
      "The person can vote\n"
     ]
    }
   ],
   "source": [
    "# write elif condition for the code below\n",
    "age = 20\n",
    "if age >= 18:\n",
    "    print(\"The person can vote\")\n",
    "else:\n",
    "    print(\"The person cannot vote\")"
   ]
  },
  {
   "cell_type": "code",
   "execution_count": 151,
   "id": "93891008",
   "metadata": {},
   "outputs": [
    {
     "name": "stdout",
     "output_type": "stream",
     "text": [
      "a is greater than b\n"
     ]
    }
   ],
   "source": [
    "a = 200\n",
    "b = 33\n",
    "if b > a:\n",
    "  print(\"b is greater than a\")\n",
    "elif a == b:\n",
    "  print(\"a and b are equal\")\n",
    "elif b < a:\n",
    "# else:\n",
    "  print(\"a is greater than b\")"
   ]
  },
  {
   "cell_type": "code",
   "execution_count": 66,
   "id": "cb2d89ad",
   "metadata": {},
   "outputs": [
    {
     "name": "stdout",
     "output_type": "stream",
     "text": [
      "1 is less than 1\n"
     ]
    }
   ],
   "source": [
    "a = 1\n",
    "b = 1\n",
    "if a > b:\n",
    "    print(f\"{a} is greater than {b}\")\n",
    "else:\n",
    "    print(f\"{a} is less than {b}\")"
   ]
  },
  {
   "cell_type": "markdown",
   "id": "46992ec4",
   "metadata": {},
   "source": [
    "<h3>Python Loops</h3> <br>\n",
    "Python has two primitive loop commands:<br>\n",
    "\n",
    "* while loops<br>\n",
    "* for loops<br>"
   ]
  },
  {
   "cell_type": "markdown",
   "id": "bf69f2e9",
   "metadata": {},
   "source": [
    "<b>The while Loop</b><br>\n",
    "With the while loop we can execute a set of statements as long as a condition is true."
   ]
  },
  {
   "cell_type": "code",
   "execution_count": 69,
   "id": "4dc961e7",
   "metadata": {},
   "outputs": [
    {
     "name": "stdout",
     "output_type": "stream",
     "text": [
      "1\n",
      "2\n",
      "3\n",
      "4\n",
      "5\n",
      "6\n",
      "7\n",
      "8\n",
      "9\n",
      "10\n"
     ]
    }
   ],
   "source": [
    "# Print i as long as i is less than 6:\n",
    "i = 1\n",
    "while (i <= 10):\n",
    "  print(i)\n",
    "  i += 1    #remember to increment i, or else the loop will continue forever. \n",
    "#i=i+1"
   ]
  },
  {
   "cell_type": "markdown",
   "id": "a5096dae",
   "metadata": {},
   "source": [
    "<b>The break Statement</b><br>\n",
    "With the break statement we can stop the loop even if the while condition is true"
   ]
  },
  {
   "cell_type": "code",
   "execution_count": 75,
   "id": "1bf8bc70",
   "metadata": {},
   "outputs": [
    {
     "name": "stdout",
     "output_type": "stream",
     "text": [
      "1\n",
      "2\n"
     ]
    }
   ],
   "source": [
    "i = 0\n",
    "while i <= 6:\n",
    "  i += 1\n",
    "  if i == 3:\n",
    "    break\n",
    "  print(i)"
   ]
  },
  {
   "cell_type": "markdown",
   "id": "103585c9",
   "metadata": {},
   "source": [
    "<b>The continue Statement</b><br>\n",
    "With the continue statement we can stop the current iteration, and continue with the next"
   ]
  },
  {
   "cell_type": "code",
   "execution_count": 76,
   "id": "60ae52c2",
   "metadata": {},
   "outputs": [
    {
     "name": "stdout",
     "output_type": "stream",
     "text": [
      "1\n",
      "2\n",
      "4\n",
      "5\n",
      "6\n",
      "7\n"
     ]
    }
   ],
   "source": [
    "i = 0\n",
    "while i <= 6:\n",
    "  i += 1\n",
    "  if i == 3:\n",
    "    continue\n",
    "  print(i)"
   ]
  },
  {
   "cell_type": "code",
   "execution_count": 79,
   "id": "c57d45ec",
   "metadata": {},
   "outputs": [
    {
     "name": "stdout",
     "output_type": "stream",
     "text": [
      "1\n",
      "2\n",
      "3\n",
      "4\n",
      "5\n",
      "6\n",
      "i is no longer less than 6\n"
     ]
    }
   ],
   "source": [
    "i = 1\n",
    "while i <= 6:\n",
    "  print(i)\n",
    "  i += 1\n",
    "else:\n",
    "  print(\"i is no longer less than 6\")"
   ]
  },
  {
   "cell_type": "code",
   "execution_count": 92,
   "id": "1549f1b2",
   "metadata": {},
   "outputs": [
    {
     "name": "stdout",
     "output_type": "stream",
     "text": [
      "1\n",
      "3\n",
      "5\n",
      "7\n",
      "9\n",
      "11\n",
      "13\n",
      "15\n",
      "17\n",
      "19\n"
     ]
    }
   ],
   "source": [
    "## write a while loop to print number from 1 to 20\n",
    "\n",
    "#while condition:\n",
    "    #statement\n",
    "\n",
    "i = 1\n",
    "while i <=20:\n",
    "    print(i)\n",
    "    i = i + 2"
   ]
  },
  {
   "cell_type": "code",
   "execution_count": 89,
   "id": "6c8f999f",
   "metadata": {},
   "outputs": [
    {
     "name": "stdout",
     "output_type": "stream",
     "text": [
      "20\n",
      "19\n",
      "18\n",
      "17\n",
      "16\n",
      "15\n",
      "14\n",
      "13\n",
      "12\n",
      "11\n",
      "10\n",
      "9\n",
      "8\n",
      "7\n",
      "6\n",
      "5\n",
      "4\n",
      "3\n",
      "2\n",
      "1\n"
     ]
    }
   ],
   "source": [
    "# reverse order\n",
    "i = 20\n",
    "while i >= 1:\n",
    "    print(i)\n",
    "    i = i - 1"
   ]
  },
  {
   "cell_type": "code",
   "execution_count": null,
   "id": "e85de4df",
   "metadata": {},
   "outputs": [],
   "source": []
  },
  {
   "cell_type": "code",
   "execution_count": null,
   "id": "cca52463",
   "metadata": {},
   "outputs": [],
   "source": []
  },
  {
   "cell_type": "markdown",
   "id": "64b635c6",
   "metadata": {},
   "source": [
    "<h3>Python For Loops</h3><br>\n",
    "A for loop is used for iterating over a sequence (that is either a list, a tuple, a dictionary, a set, or a string)"
   ]
  },
  {
   "cell_type": "code",
   "execution_count": 102,
   "id": "b38d3e29",
   "metadata": {},
   "outputs": [
    {
     "name": "stdout",
     "output_type": "stream",
     "text": [
      "6\n",
      "value of i =  p\n",
      "value of i =  y\n",
      "value of i =  t\n",
      "value of i =  h\n",
      "value of i =  o\n",
      "value of i =  n\n"
     ]
    }
   ],
   "source": [
    "print(len(\"python\"))\n",
    "for i in \"python\":\n",
    "    print(\"value of i = \", i)"
   ]
  },
  {
   "cell_type": "code",
   "execution_count": 93,
   "id": "22cd7361",
   "metadata": {},
   "outputs": [
    {
     "name": "stdout",
     "output_type": "stream",
     "text": [
      "apple\n",
      "banana\n",
      "cherry\n",
      "1\n"
     ]
    }
   ],
   "source": [
    "fruits = [\"apple\", \"banana\", \"cherry\", 1]\n",
    "for x in fruits:\n",
    "    print(x)"
   ]
  },
  {
   "cell_type": "code",
   "execution_count": 113,
   "id": "fddd6203",
   "metadata": {},
   "outputs": [
    {
     "name": "stdout",
     "output_type": "stream",
     "text": [
      "4\n",
      "<class 'list'>\n",
      "the value of x = apple\n",
      "found:  banana\n"
     ]
    }
   ],
   "source": [
    "fruits = [\"apple\", \"banana\", \"cherry\", 1]\n",
    "print(len(fruits))\n",
    "print(type(fruits))\n",
    "for x in fruits:\n",
    "    # print(\"the value of x =\", x)\n",
    "    if x == \"banana\":\n",
    "        print(\"found: \", x)\n",
    "        break\n",
    "    print(\"the value of x =\", x)\n"
   ]
  },
  {
   "cell_type": "code",
   "execution_count": 40,
   "id": "35eb37e4",
   "metadata": {},
   "outputs": [
    {
     "name": "stdout",
     "output_type": "stream",
     "text": [
      "the value of x = apple\n",
      "condition true:  apple\n"
     ]
    }
   ],
   "source": [
    "fruits = [\"apple\", \"banana\", \"cherry\", 1]\n",
    "# food = \"momo\"\n",
    "for x in fruits:\n",
    "  print(\"the value of x =\", x)\n",
    "  if x=='banana' or food == 'momo':\n",
    "      print(\"condition true: \", x)\n",
    "      break\n",
    "  # print(x, type(x))"
   ]
  },
  {
   "cell_type": "code",
   "execution_count": 169,
   "id": "bc5d28fc",
   "metadata": {},
   "outputs": [
    {
     "data": {
      "text/plain": [
       "4"
      ]
     },
     "execution_count": 169,
     "metadata": {},
     "output_type": "execute_result"
    }
   ],
   "source": [
    "len(fruits)"
   ]
  },
  {
   "cell_type": "code",
   "execution_count": 37,
   "id": "8ab385cd",
   "metadata": {},
   "outputs": [
    {
     "data": {
      "text/plain": [
       "False"
      ]
     },
     "execution_count": 37,
     "metadata": {},
     "output_type": "execute_result"
    }
   ],
   "source": [
    "True and  False"
   ]
  },
  {
   "cell_type": "code",
   "execution_count": 41,
   "id": "20dcc913",
   "metadata": {},
   "outputs": [
    {
     "name": "stdout",
     "output_type": "stream",
     "text": [
      "b\n",
      "a\n",
      "n\n",
      "a\n",
      "n\n",
      "a\n"
     ]
    }
   ],
   "source": [
    "for x in \"banana\":\n",
    "  print(x)"
   ]
  },
  {
   "cell_type": "code",
   "execution_count": 42,
   "id": "6be41944",
   "metadata": {},
   "outputs": [
    {
     "name": "stdout",
     "output_type": "stream",
     "text": [
      "apple\n",
      "banana\n"
     ]
    }
   ],
   "source": [
    "fruits = [\"apple\", \"banana\", \"cherry\"]\n",
    "for x in fruits:\n",
    "  print(x)\n",
    "  if x == \"banana\":\n",
    "    break"
   ]
  },
  {
   "cell_type": "code",
   "execution_count": 163,
   "id": "394f32db",
   "metadata": {},
   "outputs": [
    {
     "name": "stdout",
     "output_type": "stream",
     "text": [
      "apple\n",
      "cherry\n"
     ]
    }
   ],
   "source": [
    "fruits = [\"apple\", \"banana\", \"cherry\"]\n",
    "for x in fruits:\n",
    "  if x == \"banana\":\n",
    "    continue\n",
    "  print(x)"
   ]
  },
  {
   "cell_type": "code",
   "execution_count": null,
   "id": "8e10bad1",
   "metadata": {},
   "outputs": [],
   "source": []
  },
  {
   "cell_type": "markdown",
   "id": "4361b794",
   "metadata": {},
   "source": [
    "## Use of range"
   ]
  },
  {
   "cell_type": "markdown",
   "id": "23d30ed4",
   "metadata": {},
   "source": [
    "# range(start: end+1: interval)"
   ]
  },
  {
   "cell_type": "code",
   "execution_count": 118,
   "id": "d830611c",
   "metadata": {},
   "outputs": [
    {
     "name": "stdout",
     "output_type": "stream",
     "text": [
      "2\n",
      "4\n",
      "6\n",
      "8\n",
      "10\n"
     ]
    }
   ],
   "source": [
    "for i in range(2,10+1,2):\n",
    "    print(i)"
   ]
  },
  {
   "cell_type": "code",
   "execution_count": 119,
   "id": "0183ea8f",
   "metadata": {},
   "outputs": [
    {
     "name": "stdout",
     "output_type": "stream",
     "text": [
      "0\n",
      "1\n",
      "2\n",
      "3\n",
      "4\n",
      "5\n",
      "6\n",
      "7\n",
      "8\n",
      "9\n"
     ]
    }
   ],
   "source": [
    "for i in range(10):\n",
    "    print(i)"
   ]
  },
  {
   "cell_type": "code",
   "execution_count": 120,
   "id": "7bcbcd5d",
   "metadata": {},
   "outputs": [
    {
     "name": "stdout",
     "output_type": "stream",
     "text": [
      "0\n",
      "1\n",
      "2\n",
      "3\n",
      "4\n",
      "5\n",
      "6\n",
      "7\n",
      "8\n",
      "9\n",
      "10\n"
     ]
    }
   ],
   "source": [
    "# print number from 0 to N, where N = 9\n",
    "for number in range(10+1):\n",
    "    print(number)"
   ]
  },
  {
   "cell_type": "code",
   "execution_count": 123,
   "id": "7b75577d",
   "metadata": {},
   "outputs": [
    {
     "name": "stdout",
     "output_type": "stream",
     "text": [
      "5\n",
      "10\n",
      "15\n",
      "20\n",
      "25\n",
      "30\n",
      "35\n",
      "40\n",
      "45\n",
      "50\n",
      "55\n",
      "60\n",
      "65\n",
      "70\n",
      "75\n",
      "80\n",
      "85\n",
      "90\n",
      "95\n"
     ]
    }
   ],
   "source": [
    "for i in range(5,100,5):\n",
    "    print(i)"
   ]
  },
  {
   "cell_type": "code",
   "execution_count": 126,
   "id": "453c616b",
   "metadata": {},
   "outputs": [
    {
     "name": "stdout",
     "output_type": "stream",
     "text": [
      "1\n",
      "2\n",
      "3\n",
      "4\n",
      "5\n",
      "6\n",
      "7\n",
      "8\n",
      "9\n",
      "10\n",
      "11\n",
      "12\n",
      "13\n",
      "14\n",
      "15\n"
     ]
    }
   ],
   "source": [
    "## use for loop to get number from 1 to 30 and break if it is divisible by 15\n",
    "\n",
    "for i in range(1,31,1):\n",
    "    print(i)\n",
    "    if i % 15 == 0:\n",
    "        break"
   ]
  },
  {
   "cell_type": "code",
   "execution_count": null,
   "id": "79837e2d",
   "metadata": {},
   "outputs": [],
   "source": [
    "## class work \n",
    "## print the number from 1 to 20 and check if it is even or odd:\n",
    "\n",
    "# output:\n",
    "#1 is odd\n",
    "#2 is even\n",
    "\n",
    "\n",
    "\n",
    "\n",
    "\n",
    " "
   ]
  },
  {
   "cell_type": "code",
   "execution_count": null,
   "id": "6134374b",
   "metadata": {},
   "outputs": [],
   "source": []
  },
  {
   "cell_type": "code",
   "execution_count": null,
   "id": "ad9087a7",
   "metadata": {},
   "outputs": [],
   "source": []
  },
  {
   "cell_type": "code",
   "execution_count": null,
   "id": "f956588f",
   "metadata": {},
   "outputs": [],
   "source": []
  },
  {
   "cell_type": "code",
   "execution_count": 61,
   "id": "44f2e360",
   "metadata": {},
   "outputs": [
    {
     "name": "stdout",
     "output_type": "stream",
     "text": [
      "3\n",
      "5\n",
      "7\n",
      "9\n"
     ]
    }
   ],
   "source": [
    "for x in range(3, 10, 2):\n",
    "  print(x)"
   ]
  },
  {
   "cell_type": "code",
   "execution_count": 62,
   "id": "18c12197",
   "metadata": {},
   "outputs": [
    {
     "name": "stdout",
     "output_type": "stream",
     "text": [
      "3\n",
      "7\n",
      "11\n"
     ]
    }
   ],
   "source": [
    "for x in range(3, 15, 4):\n",
    "  print(x)"
   ]
  },
  {
   "cell_type": "code",
   "execution_count": 173,
   "id": "761a4382",
   "metadata": {},
   "outputs": [
    {
     "name": "stdout",
     "output_type": "stream",
     "text": [
      "1 banana\n",
      "3 1\n"
     ]
    }
   ],
   "source": [
    "for i in range(1,len(fruits),2): #\n",
    "    print(i, fruits[i])"
   ]
  },
  {
   "cell_type": "code",
   "execution_count": 66,
   "id": "89451db9",
   "metadata": {},
   "outputs": [
    {
     "name": "stdout",
     "output_type": "stream",
     "text": [
      "APPLE\n",
      "Banana\n",
      "cherry\n",
      "Hello\n"
     ]
    }
   ],
   "source": [
    "fruits = [\"apple\", \"banana\", \"cherry\", \"Hello\"]\n",
    "for i in fruits:\n",
    "    if i == 'apple':\n",
    "        print(i.upper())\n",
    "    elif i == 'banana':\n",
    "        print(i.title())\n",
    "    else:\n",
    "        print(i)"
   ]
  },
  {
   "cell_type": "markdown",
   "id": "e2960af3",
   "metadata": {},
   "source": [
    "# Nested loop"
   ]
  },
  {
   "cell_type": "code",
   "execution_count": 107,
   "id": "a8ae668d",
   "metadata": {},
   "outputs": [
    {
     "name": "stdout",
     "output_type": "stream",
     "text": [
      "value of x = apple ### value of y =  red\n",
      "value of x = apple ### value of y =  big\n",
      "value of x = apple ### value of y =  tasty\n",
      "the true condition  apple tasty\n",
      "value of x = banana ### value of y =  red\n",
      "value of x = banana ### value of y =  big\n",
      "value of x = banana ### value of y =  tasty\n",
      "value of x = cherry ### value of y =  red\n",
      "the true condition  cherry red\n",
      "value of x = cherry ### value of y =  big\n",
      "value of x = cherry ### value of y =  tasty\n"
     ]
    }
   ],
   "source": [
    "adj = [\"red\", \"big\", \"TaSty\"]\n",
    "fruits = [\"Apple\", \"Banana\", \"cherry\"]\n",
    "\n",
    "for x in fruits:\n",
    "    x = x.lower()\n",
    "    for y in adj:\n",
    "        y = y.lower()\n",
    "        print(\"value of x =\",  x, \"###\", \"value of y = \", y)\n",
    "        if x == 'cherry' and y == 'red':\n",
    "            print(\"the true condition \", x, y)\n",
    "        elif x == 'apple' and y == 'tasty':\n",
    "            print(\"the true condition \", x, y)\n",
    "\n"
   ]
  },
  {
   "cell_type": "code",
   "execution_count": null,
   "id": "25a43e58",
   "metadata": {},
   "outputs": [],
   "source": []
  },
  {
   "cell_type": "code",
   "execution_count": null,
   "id": "9db267fa",
   "metadata": {},
   "outputs": [],
   "source": []
  },
  {
   "cell_type": "code",
   "execution_count": 24,
   "id": "d36b0716",
   "metadata": {},
   "outputs": [
    {
     "name": "stdout",
     "output_type": "stream",
     "text": [
      "a\n",
      "1\n",
      "2\n",
      "3\n",
      "b\n",
      "1\n",
      "2\n",
      "3\n",
      "c\n",
      "1\n",
      "2\n",
      "3\n"
     ]
    }
   ],
   "source": [
    "list1 = [1,2,3]\n",
    "list2 = ['a', 'b','c']\n",
    "for a in list2:\n",
    "    print(a)\n",
    "    for x in list1:\n",
    "        print(x)"
   ]
  },
  {
   "cell_type": "code",
   "execution_count": null,
   "id": "c47b6fab",
   "metadata": {},
   "outputs": [],
   "source": []
  },
  {
   "cell_type": "code",
   "execution_count": null,
   "id": "a3a3b162",
   "metadata": {},
   "outputs": [],
   "source": []
  },
  {
   "cell_type": "code",
   "execution_count": null,
   "id": "105947f4",
   "metadata": {},
   "outputs": [],
   "source": []
  },
  {
   "cell_type": "code",
   "execution_count": null,
   "id": "6aa3b143",
   "metadata": {},
   "outputs": [],
   "source": []
  },
  {
   "cell_type": "code",
   "execution_count": null,
   "id": "f85632f5",
   "metadata": {},
   "outputs": [],
   "source": []
  },
  {
   "cell_type": "markdown",
   "id": "e0610983",
   "metadata": {},
   "source": []
  },
  {
   "cell_type": "markdown",
   "id": "3b56ea2f",
   "metadata": {},
   "source": [
    "## Class Work\n",
    "### 1. print if given number is even or odd. use python operators and if-else condition\n",
    "### 2. print odd number between less than 20. using nested loop and control statement. "
   ]
  },
  {
   "cell_type": "code",
   "execution_count": 7,
   "id": "55248f8e",
   "metadata": {},
   "outputs": [],
   "source": [
    "# x = input(\"enter the number \")\n",
    "####hint, using module % for finding remainders"
   ]
  },
  {
   "cell_type": "code",
   "execution_count": 8,
   "id": "a518fbe3",
   "metadata": {},
   "outputs": [
    {
     "name": "stdout",
     "output_type": "stream",
     "text": [
      "1\n",
      "2\n",
      "3\n",
      "4\n",
      "5\n",
      "6\n",
      "7\n",
      "8\n",
      "9\n",
      "10\n",
      "11\n",
      "12\n",
      "13\n",
      "14\n",
      "15\n",
      "16\n",
      "17\n",
      "18\n",
      "19\n",
      "20\n"
     ]
    }
   ],
   "source": [
    "i = 1\n",
    "while i <= 20:\n",
    "    print(i)\n",
    "    i = i+1"
   ]
  },
  {
   "cell_type": "code",
   "execution_count": 9,
   "id": "06f3f6b0",
   "metadata": {},
   "outputs": [
    {
     "name": "stdout",
     "output_type": "stream",
     "text": [
      "1\n",
      "2\n",
      "3\n",
      "4\n",
      "5\n",
      "6\n",
      "7\n",
      "8\n",
      "9\n",
      "10\n",
      "11\n",
      "12\n",
      "13\n",
      "14\n",
      "15\n",
      "16\n",
      "17\n",
      "18\n",
      "19\n",
      "20\n"
     ]
    }
   ],
   "source": [
    "for i in range(1, 21, 1):\n",
    "    print(i)"
   ]
  },
  {
   "cell_type": "code",
   "execution_count": 10,
   "id": "8617bd04",
   "metadata": {},
   "outputs": [
    {
     "name": "stdout",
     "output_type": "stream",
     "text": [
      "3 is odd\n",
      "here also\n"
     ]
    }
   ],
   "source": [
    "if (x%2) == 1:\n",
    "    print(f\"{x} is odd\")\n",
    "    if x == 8:\n",
    "        print(\"equal\")\n",
    "    print(\"here also\")\n",
    "else:\n",
    "    print(f\"{x} is even\")"
   ]
  },
  {
   "cell_type": "markdown",
   "id": "f5673e98-c16b-45d2-9986-e18c074552f2",
   "metadata": {},
   "source": [
    "<h2 style=\"color:red;\">Python Lists</h2> <br>\n",
    "* Lists are used to store multiple items in a single variable. <br>\n",
    "* Lists are one of 4 built-in data types in Python used to store collections of data. <br>\n",
    "* Lists are created using square brackets. <br>\n",
    "* can change, add, and remove items in a list <br>"
   ]
  },
  {
   "cell_type": "markdown",
   "id": "44ce3285",
   "metadata": {},
   "source": [
    "# Python List Properties\n",
    "\n",
    "## 1. **Ordered**\n",
    "- Lists maintain the order of elements. The order in which elements are added is the order they are stored and accessed.\n",
    "```python\n",
    "my_list = [1, 2, 3]\n",
    "print(my_list[0])  # Output: 1\n",
    "```\n",
    "\n",
    "## 2. **Mutable**\n",
    "- Lists can be modified after creation. You can add, remove, or update elements.\n",
    "```python\n",
    "my_list = [1, 2, 3]\n",
    "my_list[1] = 4\n",
    "print(my_list)  # Output: [1, 4, 3]\n",
    "```\n",
    "\n",
    "## 3. **Dynamic**\n",
    "- Lists can grow or shrink in size. You can add or remove elements without worrying about size constraints.\n",
    "```python\n",
    "my_list = [1, 2, 3]\n",
    "my_list.append(4)  # Adds an element\n",
    "my_list.pop()      # Removes the last element\n",
    "```\n",
    "\n",
    "## 4. **Heterogeneous**\n",
    "- Lists can store elements of different types.\n",
    "```python\n",
    "my_list = [1, \"hello\", 3.14, True]\n",
    "```\n",
    "\n",
    "## 5. **Allows Duplicates**\n",
    "- Lists can contain duplicate values.\n",
    "```python\n",
    "my_list = [1, 2, 2, 3]\n",
    "```\n",
    "\n",
    "## 6. **Indexable**\n",
    "- Elements in a list can be accessed using their index (starting at 0).\n",
    "```python\n",
    "my_list = [1, 2, 3]\n",
    "print(my_list[1])  # Output: 2\n",
    "```\n",
    "\n",
    "## 7. **Slicing**\n",
    "- You can access a portion of the list using slicing.\n",
    "```python\n",
    "my_list = [1, 2, 3, 4, 5]\n",
    "print(my_list[1:4])  # Output: [2, 3, 4]\n",
    "```\n",
    "\n",
    "## 8. **Iterable**\n",
    "- Lists are iterable, meaning you can loop through them using `for` loops.\n",
    "```python\n",
    "my_list = [1, 2, 3]\n",
    "for item in my_list:\n",
    "    print(item)\n",
    "```\n",
    "\n",
    "## 9. **Supports Nesting**\n",
    "- Lists can contain other lists (or other data structures) as elements.\n",
    "```python\n",
    "my_list = [[1, 2], [3, 4]]\n",
    "print(my_list[0])  # Output: [1, 2]\n",
    "```\n",
    "\n",
    "## 10. **Comprehensive Operations**\n",
    "- Lists support a wide range of operations, including:\n",
    "  - **Adding elements**: `append()`, `extend()`, `insert()`\n",
    "  - **Removing elements**: `pop()`, `remove()`, `clear()`\n",
    "  - **Sorting**: `sort()`, `sorted()`\n",
    "  - **Reversing**: `reverse()`\n",
    "  - **Finding elements**: `index()`, `count()`\n",
    "\n",
    "### Example Summary\n",
    "```python\n",
    "my_list = [1, 2, 3, 4]\n",
    "my_list.append(5)          # Adds an element\n",
    "print(my_list)             # Output: [1, 2, 3, 4, 5]\n",
    "\n",
    "my_list.pop(2)             # Removes element at index 2\n",
    "print(my_list)             # Output: [1, 2, 4, 5]\n",
    "\n",
    "print(my_list[1:3])        # Output: [2, 4]\n",
    "my_list.sort(reverse=True) # Sorts in descending order\n",
    "print(my_list)             # Output: [5, 4, 2, 1]\n"
   ]
  },
  {
   "cell_type": "code",
   "execution_count": null,
   "id": "e7bbb8a5",
   "metadata": {},
   "outputs": [],
   "source": []
  },
  {
   "cell_type": "code",
   "execution_count": 11,
   "id": "5e8d9bab-7674-4631-b132-2fed6bce033b",
   "metadata": {},
   "outputs": [
    {
     "name": "stdout",
     "output_type": "stream",
     "text": [
      "['apple', 'banana', 'cherry']\n"
     ]
    }
   ],
   "source": [
    "fruits = [\"apple\", \"banana\", \"cherry\"]\n",
    "print(fruits)"
   ]
  },
  {
   "cell_type": "code",
   "execution_count": 12,
   "id": "6c585620-32b3-41dc-8dd1-4a7c7e83264b",
   "metadata": {},
   "outputs": [
    {
     "name": "stdout",
     "output_type": "stream",
     "text": [
      "['apple', '', 'banana', 'cherry', 'apple', 'cherry']\n",
      "length of list fruits = 6\n"
     ]
    }
   ],
   "source": [
    "#Lists allow duplicate values\n",
    "fruits = [\"apple\", \"\", \"banana\", \"cherry\", \"apple\", \"cherry\"]\n",
    "print(fruits)\n",
    "print(\"length of list fruits =\", len(fruits))"
   ]
  },
  {
   "cell_type": "code",
   "execution_count": 13,
   "id": "47b59281",
   "metadata": {},
   "outputs": [
    {
     "name": "stdout",
     "output_type": "stream",
     "text": [
      "False\n"
     ]
    }
   ],
   "source": [
    "print(bool(0))"
   ]
  },
  {
   "cell_type": "markdown",
   "id": "1de9dd99-b47e-44c6-9fac-0ea7f0ab68d4",
   "metadata": {},
   "source": [
    "<b>To determine how many items a list has, use the <u>len()</u> function"
   ]
  },
  {
   "cell_type": "code",
   "execution_count": 4,
   "id": "25284315",
   "metadata": {},
   "outputs": [
    {
     "data": {
      "text/plain": [
       "12"
      ]
     },
     "execution_count": 4,
     "metadata": {},
     "output_type": "execute_result"
    }
   ],
   "source": [
    "len('Data Science')"
   ]
  },
  {
   "cell_type": "code",
   "execution_count": 9,
   "id": "0e5fb882",
   "metadata": {},
   "outputs": [
    {
     "name": "stdout",
     "output_type": "stream",
     "text": [
      "<class 'list'>\n",
      "2\n"
     ]
    }
   ],
   "source": [
    "list_a = [\"egg\", 12]\n",
    "print(type(list_a))\n",
    "print(len(list_a))"
   ]
  },
  {
   "cell_type": "code",
   "execution_count": 10,
   "id": "26127924-7c21-457e-b150-c9e55cdfe07f",
   "metadata": {},
   "outputs": [
    {
     "name": "stdout",
     "output_type": "stream",
     "text": [
      "3\n"
     ]
    }
   ],
   "source": [
    "fruits = [\"apple\", \"banana\", \"cherry\"]\n",
    "print(len(fruits))"
   ]
  },
  {
   "cell_type": "code",
   "execution_count": null,
   "id": "c35ce62b",
   "metadata": {},
   "outputs": [],
   "source": []
  },
  {
   "cell_type": "markdown",
   "id": "67b048a5-11b8-4b48-a662-f57b788d3d75",
   "metadata": {},
   "source": [
    "<b>List items can be of any data type"
   ]
  },
  {
   "cell_type": "code",
   "execution_count": 12,
   "id": "fbdbe79e-d8e3-404a-bae1-23076538ddd0",
   "metadata": {},
   "outputs": [],
   "source": [
    "list1 = [\"apple\", \"banana\", \"cherry\"]\n",
    "list2 = [1, 5, 7, 9, 3]\n",
    "list3 = [True, False, False]"
   ]
  },
  {
   "cell_type": "code",
   "execution_count": 13,
   "id": "cf470124-614e-4115-821d-9207377c2da9",
   "metadata": {},
   "outputs": [],
   "source": [
    "#A list can contain different data types\n",
    "list1 = [\"abc\", 34, True, 40.5, \"male\"]"
   ]
  },
  {
   "cell_type": "code",
   "execution_count": 14,
   "id": "8243c67e",
   "metadata": {},
   "outputs": [],
   "source": [
    "# list creation\n",
    "listA = list()\n",
    "listB = []"
   ]
  },
  {
   "cell_type": "code",
   "execution_count": 15,
   "id": "939b6434",
   "metadata": {},
   "outputs": [
    {
     "name": "stdout",
     "output_type": "stream",
     "text": [
      "<class 'list'> <class 'list'>\n"
     ]
    }
   ],
   "source": [
    "print(type(listA), type(listB))"
   ]
  },
  {
   "cell_type": "code",
   "execution_count": 18,
   "id": "3dd7e4d4",
   "metadata": {},
   "outputs": [
    {
     "data": {
      "text/plain": [
       "[1, 2, 3]"
      ]
     },
     "execution_count": 18,
     "metadata": {},
     "output_type": "execute_result"
    }
   ],
   "source": [
    "list4 = [1,2,3]\n",
    "list5 = list((1,2,3))\n",
    "list5"
   ]
  },
  {
   "cell_type": "markdown",
   "id": "e650b8a1-7301-4dee-b90c-d74dd03b05b9",
   "metadata": {},
   "source": [
    "<b> We use the list() constructor when creating a new list."
   ]
  },
  {
   "cell_type": "code",
   "execution_count": 19,
   "id": "ae1b10e7-b4d9-4567-81ef-bc1839a0382d",
   "metadata": {},
   "outputs": [
    {
     "name": "stdout",
     "output_type": "stream",
     "text": [
      "['apple', 'banana', 'cherry']\n"
     ]
    }
   ],
   "source": [
    "fruits = list((\"apple\", \"banana\", \"cherry\")) # note the double round-brackets\n",
    "print(fruits)"
   ]
  },
  {
   "cell_type": "markdown",
   "id": "41f26f81-64ae-433b-9024-44b53422d1d4",
   "metadata": {},
   "source": [
    "<b>List items are indexed and you can access them by referring to the index number"
   ]
  },
  {
   "cell_type": "code",
   "execution_count": 22,
   "id": "555b2302-55cd-4c82-a08b-82822d7f619e",
   "metadata": {},
   "outputs": [
    {
     "name": "stdout",
     "output_type": "stream",
     "text": [
      "banana\n"
     ]
    }
   ],
   "source": [
    "fruits = [\"apple\", \"banana\", \"cherry\"]\n",
    "print(fruits[1])"
   ]
  },
  {
   "cell_type": "code",
   "execution_count": 23,
   "id": "281573f8",
   "metadata": {},
   "outputs": [
    {
     "ename": "NameError",
     "evalue": "name 'start' is not defined",
     "output_type": "error",
     "traceback": [
      "\u001b[0;31m---------------------------------------------------------------------------\u001b[0m",
      "\u001b[0;31mNameError\u001b[0m                                 Traceback (most recent call last)",
      "Cell \u001b[0;32mIn[23], line 1\u001b[0m\n\u001b[0;32m----> 1\u001b[0m list1[start:end:interval]\n",
      "\u001b[0;31mNameError\u001b[0m: name 'start' is not defined"
     ]
    }
   ],
   "source": [
    "list1[start:end:interval]"
   ]
  },
  {
   "cell_type": "code",
   "execution_count": 31,
   "id": "8199cfce-f89a-4a77-83ba-5a4593d154fa",
   "metadata": {},
   "outputs": [
    {
     "name": "stdout",
     "output_type": "stream",
     "text": [
      "['apple', 'mango']\n",
      "mango\n"
     ]
    }
   ],
   "source": [
    "fruits = [\"apple\", \"banana\", \"cherry\", \"mango\", \"papaya\"]\n",
    "print(fruits[0:5:3])\n",
    "print(fruits[-2])"
   ]
  },
  {
   "cell_type": "code",
   "execution_count": 29,
   "id": "208311b9-3d6b-46f2-bf79-2725761bbb4a",
   "metadata": {},
   "outputs": [
    {
     "name": "stdout",
     "output_type": "stream",
     "text": [
      "['banana']\n"
     ]
    }
   ],
   "source": [
    "#slicing\n",
    "fruits = [\"apple\", \"banana\", \"cherry\"]\n",
    "print(fruits[1:2])"
   ]
  },
  {
   "cell_type": "code",
   "execution_count": 33,
   "id": "4983985b-52e0-433f-ae37-a009cbc525e5",
   "metadata": {},
   "outputs": [
    {
     "name": "stdout",
     "output_type": "stream",
     "text": [
      "7\n",
      "['orange', 'kiwi', 'melon']\n"
     ]
    }
   ],
   "source": [
    "fruits = [\"apple\", \"banana\", \"cherry\", \"orange\", \"kiwi\", \"melon\", \"mango\"]\n",
    "print(len(fruits))\n",
    "print(fruits[-4:-1])"
   ]
  },
  {
   "cell_type": "markdown",
   "id": "7e8f7ae5-93d4-46ea-9f14-a014eb7acdfc",
   "metadata": {},
   "source": [
    "<b>Check if Item Exists"
   ]
  },
  {
   "cell_type": "code",
   "execution_count": 36,
   "id": "6d5c717a-ea7a-404e-a60a-159a90acf9ed",
   "metadata": {},
   "outputs": [
    {
     "name": "stdout",
     "output_type": "stream",
     "text": [
      "there is no item\n"
     ]
    }
   ],
   "source": [
    "fruit = [\"apple\", \"banana\", \"cherry\"]\n",
    "if \"APPLE\" in fruit:\n",
    "    print(\"Yes, 'cherry' is in the fruits list\")\n",
    "else:\n",
    "  print(\"there is no item\")"
   ]
  },
  {
   "cell_type": "code",
   "execution_count": 42,
   "id": "104d1eb6",
   "metadata": {},
   "outputs": [
    {
     "name": "stdout",
     "output_type": "stream",
     "text": [
      "apple\n",
      "banana\n",
      "cherry\n",
      "orange\n",
      "kiwi\n",
      "melon\n",
      "mango\n",
      "avocado\n"
     ]
    }
   ],
   "source": [
    "fruits = [\"apple\", \"banana\", \"cherry\", \"orange\", \"kiwi\", \"melon\", \"mango\", \"avocado\"]\n",
    "\n",
    "for x in fruits:\n",
    "    print(x)"
   ]
  },
  {
   "cell_type": "code",
   "execution_count": 58,
   "id": "ffd5c897",
   "metadata": {},
   "outputs": [
    {
     "name": "stdout",
     "output_type": "stream",
     "text": [
      "0 apple\n",
      "1 banana\n",
      "2 cherry\n",
      "3 orange\n",
      "4 kiwi\n",
      "5 melon\n",
      "6 mango\n"
     ]
    }
   ],
   "source": [
    "for x in range(len(fruits)):\n",
    "    print(x, fruits[x])"
   ]
  },
  {
   "cell_type": "code",
   "execution_count": 48,
   "id": "7b46a73b",
   "metadata": {},
   "outputs": [
    {
     "name": "stdout",
     "output_type": "stream",
     "text": [
      "0 apple\n",
      "1 banana\n",
      "2 cherry\n",
      "3 orange\n",
      "4 kiwi\n",
      "5 melon\n",
      "6 mango\n",
      "7 avocado\n"
     ]
    }
   ],
   "source": [
    "fruits = [\"apple\", \"banana\", \"cherry\", \"orange\", \"kiwi\", \"melon\", \"mango\", \"avocado\"]\n",
    "\n",
    "\n",
    "\n",
    "for x in range(len(fruits)):\n",
    "    print(x, fruits[x])"
   ]
  },
  {
   "cell_type": "code",
   "execution_count": null,
   "id": "e2b4ad75",
   "metadata": {},
   "outputs": [],
   "source": []
  },
  {
   "cell_type": "code",
   "execution_count": null,
   "id": "6a4d3d90",
   "metadata": {},
   "outputs": [],
   "source": []
  },
  {
   "cell_type": "code",
   "execution_count": 49,
   "id": "793d9891",
   "metadata": {},
   "outputs": [
    {
     "name": "stdout",
     "output_type": "stream",
     "text": [
      "apple\n",
      "banana\n",
      "cherry\n"
     ]
    }
   ],
   "source": [
    "for i in range(len(fruit)):\n",
    "    print(fruit[i])"
   ]
  },
  {
   "cell_type": "code",
   "execution_count": 60,
   "id": "15ec21d8",
   "metadata": {},
   "outputs": [
    {
     "name": "stdout",
     "output_type": "stream",
     "text": [
      "Yes, there is an apple\n"
     ]
    }
   ],
   "source": [
    "for i in fruit:\n",
    "    if i==\"apple\":\n",
    "        print(\"Yes, there is an apple\")"
   ]
  },
  {
   "cell_type": "markdown",
   "id": "c1ee4b2e-e8c4-4555-accc-486f59b139ca",
   "metadata": {},
   "source": [
    "<b>Change Item Value <br>\n",
    "To change the value of a specific item, refer to the index number"
   ]
  },
  {
   "cell_type": "code",
   "execution_count": 54,
   "id": "4c33be0b-2ece-4ea9-99f2-16dd46b509f9",
   "metadata": {},
   "outputs": [
    {
     "name": "stdout",
     "output_type": "stream",
     "text": [
      "apple\n",
      "['blackcurrant', 'banana', 'cherry']\n"
     ]
    }
   ],
   "source": [
    "fruit = [\"apple\", \"banana\", \"cherry\"]\n",
    "print(fruit[0])\n",
    "fruit[0] = \"blackcurrant\"\n",
    "\n",
    "print(fruit)\n"
   ]
  },
  {
   "cell_type": "code",
   "execution_count": 56,
   "id": "51d03ab3",
   "metadata": {},
   "outputs": [
    {
     "name": "stdout",
     "output_type": "stream",
     "text": [
      "['banana', 'cherry']\n",
      "['apple', 'watermelon', 'mango']\n"
     ]
    }
   ],
   "source": [
    "fruit = [\"apple\", \"banana\", \"cherry\"]\n",
    "print(fruit[1:3])\n",
    "fruit[1:3] = [\"watermelon\", \"mango\"]\n",
    "print(fruit)"
   ]
  },
  {
   "cell_type": "code",
   "execution_count": 60,
   "id": "2bd06a93-843e-43fa-bcd7-e96ca11b4a97",
   "metadata": {},
   "outputs": [
    {
     "name": "stdout",
     "output_type": "stream",
     "text": [
      "['apple', 'banana', 'cherry', 'orange', 'blackcurrant', 'watermelon', 'kiwi', 'mango']\n"
     ]
    }
   ],
   "source": [
    "# exception case!!\n",
    "\n",
    "fruit = [\"apple\", \"banana\", \"cherry\", \"orange\", \"kiwi\", \"mango\"]\n",
    "fruit[-2:-4] = [\"blackcurrant\", \"watermelon\"]\n",
    "print(fruit)"
   ]
  },
  {
   "cell_type": "markdown",
   "id": "64752d70-24f5-4b57-a9a3-07907a5a0d52",
   "metadata": {},
   "source": [
    "<b>Insert Items <br>\n",
    "To insert a new list item, without replacing any of the existing values, we can use the <u>insert()</u> method."
   ]
  },
  {
   "cell_type": "code",
   "execution_count": 62,
   "id": "995258ee-a9df-4f92-92e9-68e2ab33e867",
   "metadata": {},
   "outputs": [
    {
     "name": "stdout",
     "output_type": "stream",
     "text": [
      "['apple', 'banana', 'watermelon', 'cherry']\n"
     ]
    }
   ],
   "source": [
    "fruit = [\"apple\", \"banana\", \"cherry\"]\n",
    "fruit.insert(2, \"watermelon\")\n",
    "print(fruit)"
   ]
  },
  {
   "cell_type": "markdown",
   "id": "0381df16-5bfe-4b62-82ae-1ebc64bce190",
   "metadata": {},
   "source": [
    "<b>Append Items <br>\n",
    "To add an item to the end of the list, use the <u>append()</u> method:"
   ]
  },
  {
   "cell_type": "code",
   "execution_count": 64,
   "id": "497550b9-7590-4860-9c18-b827d2a9183d",
   "metadata": {},
   "outputs": [
    {
     "name": "stdout",
     "output_type": "stream",
     "text": [
      "['apple', 'banana', 'cherry', 'orange', 'mango']\n"
     ]
    }
   ],
   "source": [
    "fruit = [\"apple\", \"banana\", \"cherry\"]\n",
    "fruit.append(\"orange\")\n",
    "fruit.append(\"mango\")\n",
    "print(fruit)"
   ]
  },
  {
   "cell_type": "markdown",
   "id": "bddfce7f-1d98-436f-8167-65fe29494d96",
   "metadata": {},
   "source": [
    "<b>Insert Items <br>\n",
    "To insert a list item at a specified index, use the insert() method. <br>\n",
    "<b>The insert() method inserts an item at the specified index"
   ]
  },
  {
   "cell_type": "code",
   "execution_count": 38,
   "id": "8813aa3e-81a0-4b97-ba7a-786aa0fcab55",
   "metadata": {},
   "outputs": [
    {
     "name": "stdout",
     "output_type": "stream",
     "text": [
      "['apple', 'orange', 'banana', 'cherry']\n"
     ]
    }
   ],
   "source": [
    "fruit = [\"apple\", \"banana\", \"cherry\"]\n",
    "fruit.insert(1, \"orange\")\n",
    "print(fruit)"
   ]
  },
  {
   "cell_type": "code",
   "execution_count": null,
   "id": "e0eaded9",
   "metadata": {},
   "outputs": [],
   "source": []
  },
  {
   "cell_type": "code",
   "execution_count": null,
   "id": "4327a843",
   "metadata": {},
   "outputs": [],
   "source": []
  },
  {
   "cell_type": "code",
   "execution_count": null,
   "id": "a46fc04b",
   "metadata": {},
   "outputs": [],
   "source": []
  },
  {
   "cell_type": "code",
   "execution_count": null,
   "id": "c9719fa2",
   "metadata": {},
   "outputs": [],
   "source": [
    "# for i in range(3):\n",
    "#     for j in range(10):\n",
    "#         n = str(i)+str(j)\n",
    "#         n = int(n)\n",
    "#         if n % 2 == 0: \n",
    "#             continue\n",
    "#         if n >= 20:\n",
    "#             break\n",
    "#         print(n)"
   ]
  },
  {
   "cell_type": "code",
   "execution_count": null,
   "id": "2251f578",
   "metadata": {},
   "outputs": [],
   "source": []
  },
  {
   "cell_type": "code",
   "execution_count": null,
   "id": "aefe93cc",
   "metadata": {},
   "outputs": [],
   "source": []
  },
  {
   "cell_type": "code",
   "execution_count": 75,
   "id": "c38bba8e",
   "metadata": {},
   "outputs": [],
   "source": [
    "## class work"
   ]
  },
  {
   "cell_type": "code",
   "execution_count": 76,
   "id": "5a5002d8",
   "metadata": {},
   "outputs": [],
   "source": [
    "fruits = [\"apple\", \"banana\", \"cherry\", \"orange\", \"kiwi\", \"melon\", \"mango\"]\n"
   ]
  },
  {
   "cell_type": "code",
   "execution_count": null,
   "id": "9fd40e5f",
   "metadata": {},
   "outputs": [],
   "source": []
  },
  {
   "cell_type": "markdown",
   "id": "8395403b",
   "metadata": {},
   "source": [
    "## TO DO:\n",
    "1. Find length of list \n",
    "2. check if \"orange\" is present or not \n",
    "3. if \"orange\" is present replace it with \"papaya\"\n",
    "4. add \"pineapple\" on the 5th index,last index \n",
    "5. add \"pineapple\" on the last index \n",
    "7. replace the list with the length of each item \n",
    "8. merge [\"cat\", \"dog\", \"lion\"] with the list fruits \n",
    "6. empty the list\n",
    "\n"
   ]
  },
  {
   "cell_type": "code",
   "execution_count": 104,
   "id": "335ac43b",
   "metadata": {},
   "outputs": [
    {
     "name": "stdout",
     "output_type": "stream",
     "text": [
      "tiger not found\n",
      "['apple', 'banana', 'cherry', 'kiwi', 'orange', 'melon', 'mango']\n"
     ]
    }
   ],
   "source": [
    "# 3\n",
    "fruits = [\"apple\", \"banana\", \"cherry\", \"kiwi\", \"orange\", \"melon\", \"mango\"]\n",
    "\n",
    "x,y = \"tiger\", \"papaya\"\n",
    "if x in fruits:\n",
    "    a = fruits.index(x)\n",
    "    fruits[a] = y\n",
    "else:\n",
    "    print(f\"{x} not found\")\n",
    "print(fruits)"
   ]
  },
  {
   "cell_type": "code",
   "execution_count": null,
   "id": "332a1012",
   "metadata": {},
   "outputs": [],
   "source": []
  },
  {
   "cell_type": "code",
   "execution_count": 86,
   "id": "91febf18",
   "metadata": {},
   "outputs": [
    {
     "name": "stdout",
     "output_type": "stream",
     "text": [
      "7\n",
      "orange is present\n",
      "['apple', 'banana', 'cherry', 'papaye', 'kiwi', 'melon', 'mango']\n",
      "['apple', 'banana', 'cherry', 'papaye', 'kiwi', 'pineapple', 'melon', 'mango', 'pineapple']\n"
     ]
    }
   ],
   "source": [
    "fruits = [\"apple\", \"banana\", \"cherry\", \"orange\", \"kiwi\", \"melon\", \"mango\"]\n",
    "\n",
    "# 1 length using len() keyword\n",
    "print(len(fruits))\n",
    "\n",
    "\n",
    "# 2 element comparison \n",
    "if \"orange\" in fruits:\n",
    "    print(\"orange is present\")\n",
    "else:\n",
    "    print(\"not found\")\n",
    "\n",
    "\n",
    "#3 element replacement\n",
    "item_to_replace = \"orange\"\n",
    "\n",
    "if item_to_replace in fruits:\n",
    "    orange_idex = fruits.index(item_to_replace)\n",
    "    fruits[orange_idex] = \"papaye\"\n",
    "else:\n",
    "    print(f\"{item_to_replace} no in list\")\n",
    "print(fruits)\n",
    "\n",
    "\n",
    "#4 adding\n",
    "fruits.insert(5, \"pineapple\")\n",
    "fruits.insert(len(fruits), \"pineapple\")\n",
    "print(fruits)"
   ]
  },
  {
   "cell_type": "code",
   "execution_count": null,
   "id": "d6e4116c",
   "metadata": {},
   "outputs": [],
   "source": []
  },
  {
   "cell_type": "code",
   "execution_count": null,
   "id": "e146388e",
   "metadata": {},
   "outputs": [],
   "source": []
  },
  {
   "cell_type": "code",
   "execution_count": null,
   "id": "a8187175",
   "metadata": {},
   "outputs": [],
   "source": []
  },
  {
   "cell_type": "code",
   "execution_count": null,
   "id": "4fb3b300",
   "metadata": {},
   "outputs": [],
   "source": []
  },
  {
   "cell_type": "code",
   "execution_count": 90,
   "id": "dbc4a91d",
   "metadata": {},
   "outputs": [
    {
     "name": "stdout",
     "output_type": "stream",
     "text": [
      "intially:: []\n",
      "apple\n",
      "5\n",
      "[5]\n",
      "banana\n",
      "6\n",
      "[5, 6]\n",
      "cherry\n",
      "6\n",
      "[5, 6, 6]\n",
      "orange\n",
      "6\n",
      "[5, 6, 6, 6]\n",
      "kiwi\n",
      "4\n",
      "[5, 6, 6, 6, 4]\n",
      "melon\n",
      "5\n",
      "[5, 6, 6, 6, 4, 5]\n",
      "mango\n",
      "5\n",
      "[5, 6, 6, 6, 4, 5, 5]\n"
     ]
    }
   ],
   "source": [
    "## 7. replace the list with the length of each item \n",
    "fruits = [\"apple\", \"banana\", \"cherry\", \"orange\", \"kiwi\", \"melon\", \"mango\"]\n",
    "\n",
    "A = []\n",
    "print(\"intially::\", A)\n",
    "for i in fruits:\n",
    "    print(i)\n",
    "    length_of_each_item = len(i)\n",
    "    print(length_of_each_item)\n",
    "    A.append(length_of_each_item)\n",
    "    print(A)\n",
    "    "
   ]
  },
  {
   "cell_type": "code",
   "execution_count": 99,
   "id": "ca4f10f6",
   "metadata": {},
   "outputs": [],
   "source": [
    "B = []\n",
    "B.append(6)\n",
    "B.append(5)\n",
    "B.append(10)"
   ]
  },
  {
   "cell_type": "code",
   "execution_count": 100,
   "id": "f8562262",
   "metadata": {},
   "outputs": [
    {
     "data": {
      "text/plain": [
       "[6, 5, 10]"
      ]
     },
     "execution_count": 100,
     "metadata": {},
     "output_type": "execute_result"
    }
   ],
   "source": [
    "B"
   ]
  },
  {
   "cell_type": "code",
   "execution_count": 101,
   "id": "d9012390",
   "metadata": {},
   "outputs": [
    {
     "name": "stdout",
     "output_type": "stream",
     "text": [
      "['cat', 'dog', 'lion', 'apple', 'banana', 'cherry', 'orange', 'kiwi', 'melon', 'mango']\n"
     ]
    }
   ],
   "source": [
    "pet = [\"cat\", \"dog\", \"lion\"]\n",
    "print(pet+fruits)"
   ]
  },
  {
   "cell_type": "code",
   "execution_count": null,
   "id": "2a6eea75",
   "metadata": {},
   "outputs": [],
   "source": [
    "rr"
   ]
  }
 ],
 "metadata": {
  "kernelspec": {
   "display_name": "base",
   "language": "python",
   "name": "python3"
  },
  "language_info": {
   "codemirror_mode": {
    "name": "ipython",
    "version": 3
   },
   "file_extension": ".py",
   "mimetype": "text/x-python",
   "name": "python",
   "nbconvert_exporter": "python",
   "pygments_lexer": "ipython3",
   "version": "3.11.4"
  }
 },
 "nbformat": 4,
 "nbformat_minor": 5
}
