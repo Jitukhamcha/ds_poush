{
 "cells": [
  {
   "cell_type": "markdown",
   "id": "c1f399a5",
   "metadata": {},
   "source": [
    "**Done=>Ashim**"
   ]
  },
  {
   "cell_type": "markdown",
   "metadata": {},
   "source": [
    "# Python Programming Assignment: Control Statements\n",
    "\n",
    "### Task 1: For Loop - Print numbers from 1 to 20\n",
    "Write a `for` loop to print numbers from 1 to 20. If number is multiple of 3 skip that number.\n",
    "\n",
    "Output: 1,2,4,5,7,8,10,11,13,14,16,17,19,20"
   ]
  },
  {
   "cell_type": "code",
   "execution_count": 6,
   "id": "da35bc62",
   "metadata": {},
   "outputs": [
    {
     "name": "stdout",
     "output_type": "stream",
     "text": [
      "1\n",
      "2\n",
      "4\n",
      "5\n",
      "7\n",
      "8\n",
      "10\n",
      "11\n",
      "13\n",
      "14\n",
      "16\n",
      "17\n",
      "19\n",
      "20\n"
     ]
    }
   ],
   "source": [
    "# Your code here\n",
    "for i in range(1,21):\n",
    "    if i%3==0:\n",
    "        continue\n",
    "    print(i)"
   ]
  },
  {
   "cell_type": "code",
   "execution_count": 8,
   "id": "d8bb4869",
   "metadata": {},
   "outputs": [
    {
     "name": "stdout",
     "output_type": "stream",
     "text": [
      "1\n",
      "2\n",
      "4\n",
      "5\n",
      "7\n",
      "8\n",
      "10\n",
      "11\n",
      "13\n",
      "14\n",
      "16\n",
      "17\n",
      "19\n",
      "20\n"
     ]
    }
   ],
   "source": [
    "for i in range(1,21):\n",
    "    if i %3 != 0:\n",
    "        print(i)"
   ]
  },
  {
   "cell_type": "markdown",
   "id": "85b7cc26",
   "metadata": {},
   "source": [
    "### Task 2: While Loop - Print numbers from 20 down to 1\n",
    "Write a `while` loop to print numbers from 20 down to 1."
   ]
  },
  {
   "cell_type": "code",
   "execution_count": 10,
   "id": "a5c51824",
   "metadata": {},
   "outputs": [
    {
     "name": "stdout",
     "output_type": "stream",
     "text": [
      "20\n",
      "19\n",
      "18\n",
      "17\n",
      "16\n",
      "15\n",
      "14\n",
      "13\n",
      "12\n",
      "11\n",
      "10\n",
      "9\n",
      "8\n",
      "7\n",
      "6\n",
      "5\n",
      "4\n",
      "3\n",
      "2\n",
      "1\n"
     ]
    }
   ],
   "source": [
    "\n",
    "i=21\n",
    "while i>1:\n",
    "    i-=1\n",
    "    print(i)"
   ]
  },
  {
   "cell_type": "markdown",
   "id": "3fdc8b60",
   "metadata": {},
   "source": [
    "\n",
    "### Task 3: Even or Odd - Check if numbers from 1 to 20 are even or odd\n",
    "Write a program that checks if numbers from 1 to 20 are even or odd. Use an `if-else` statement."
   ]
  },
  {
   "cell_type": "code",
   "execution_count": 14,
   "id": "4c42d222",
   "metadata": {},
   "outputs": [
    {
     "name": "stdout",
     "output_type": "stream",
     "text": [
      "1 is odd\n",
      "2 is even\n",
      "3 is odd\n",
      "4 is even\n",
      "5 is odd\n",
      "6 is even\n",
      "7 is odd\n",
      "8 is even\n",
      "9 is odd\n",
      "10 is even\n",
      "11 is odd\n",
      "12 is even\n",
      "13 is odd\n",
      "14 is even\n",
      "15 is odd\n",
      "16 is even\n",
      "17 is odd\n",
      "18 is even\n",
      "19 is odd\n"
     ]
    }
   ],
   "source": [
    "for i in range(1,20):\n",
    "    if i%2==0:\n",
    "        \n",
    "        print(f'{i} is even'),\n",
    "    else:\n",
    "        print(f'{i} is odd'),"
   ]
  },
  {
   "cell_type": "markdown",
   "id": "d082ef80",
   "metadata": {},
   "source": [
    "\n",
    "### Task 4: Nested Loops - Print a multiplication table using nested loops\n",
    "Write a program that prints the multiplication table for a given number (e.g., 7).\n",
    "\n",
    "output:\n",
    "\n",
    "7x1=7\n",
    "\n",
    "7x2=14\n",
    "\n",
    "7x3=31\n",
    "\n",
    "..\n",
    "\n",
    ".."
   ]
  },
  {
   "cell_type": "code",
   "execution_count": 23,
   "id": "03eea614",
   "metadata": {},
   "outputs": [
    {
     "name": "stdout",
     "output_type": "stream",
     "text": [
      "7*1=7\n",
      "7*2=14\n",
      "7*3=21\n",
      "7*4=28\n",
      "7*5=35\n",
      "7*6=42\n",
      "7*7=49\n",
      "7*8=56\n",
      "7*9=63\n",
      "7*10=70\n"
     ]
    }
   ],
   "source": [
    "# a = input(\"enter your number\")\n",
    "a=7\n",
    "for i in range (1,11):\n",
    "    ans=a*i\n",
    "    print(f\"{a}*{i}={ans}\")"
   ]
  },
  {
   "cell_type": "markdown",
   "id": "043f8657",
   "metadata": {},
   "source": [
    "### Task 5: Break Example - Loop through numbers from 1 to 100 and break when divisible by 17\n",
    "Write a program to loop through numbers from 1 to 100 and break the loop when the number is divisible by 17."
   ]
  },
  {
   "cell_type": "code",
   "execution_count": 14,
   "id": "c03e3ae5",
   "metadata": {},
   "outputs": [
    {
     "name": "stdout",
     "output_type": "stream",
     "text": [
      "1\n",
      "2\n",
      "3\n",
      "4\n",
      "5\n",
      "6\n",
      "7\n",
      "8\n",
      "9\n",
      "10\n",
      "11\n",
      "12\n",
      "13\n",
      "14\n",
      "15\n",
      "16\n"
     ]
    }
   ],
   "source": [
    "for i in range(1,101):\n",
    "    if i %17==0:\n",
    "        break\n",
    "    print(i)"
   ]
  },
  {
   "cell_type": "markdown",
   "id": "7da07c75",
   "metadata": {},
   "source": [
    "### Task 6: Divisibility Check - Print numbers from 1 to 50 divisible by 7 but not 5\n",
    "Write a program to print numbers from 1 to 50 that are divisible by 7 but not by 5.\n",
    "\n",
    "Output: 7,14,21,28,42,49 (35 is divisible by 5 so escape it)"
   ]
  },
  {
   "cell_type": "code",
   "execution_count": 15,
   "id": "86419ffe",
   "metadata": {},
   "outputs": [
    {
     "name": "stdout",
     "output_type": "stream",
     "text": [
      "7\n",
      "14\n",
      "21\n",
      "28\n",
      "42\n",
      "49\n"
     ]
    }
   ],
   "source": [
    "for i in range(1,50):\n",
    "    if i % 7 == 0 and i % 5 !=0:\n",
    "        print(i)"
   ]
  },
  {
   "cell_type": "markdown",
   "id": "0563c9e7",
   "metadata": {},
   "source": [
    "### Task 7: Even Numbers in a Range - Print all even numbers between two user-provided numbers\n",
    "Write a program to print all even numbers between two given numbers.\n",
    "\n",
    "ask two number from user and print all the even number between them.\n",
    "\n",
    "Example: if two number are 5,10 then output are 6,8,10"
   ]
  },
  {
   "cell_type": "code",
   "execution_count": 19,
   "id": "c7788072",
   "metadata": {},
   "outputs": [
    {
     "name": "stdout",
     "output_type": "stream",
     "text": [
      "6\n",
      "8\n",
      "10\n"
     ]
    }
   ],
   "source": [
    "first_num=int(input('Enter a number'))\n",
    "second_num=int(input('Enter second number'))\n",
    "\n",
    "for a in range(first_num,second_num+1):\n",
    "    if a%2==0:\n",
    "        print(a)\n"
   ]
  }
 ],
 "metadata": {
  "kernelspec": {
   "display_name": "Python 3",
   "language": "python",
   "name": "python3"
  },
  "language_info": {
   "codemirror_mode": {
    "name": "ipython",
    "version": 3
   },
   "file_extension": ".py",
   "mimetype": "text/x-python",
   "name": "python",
   "nbconvert_exporter": "python",
   "pygments_lexer": "ipython3",
   "version": "3.12.6"
  }
 },
 "nbformat": 4,
 "nbformat_minor": 5
}
