{
 "cells": [
  {
   "cell_type": "markdown",
   "id": "45008b28",
   "metadata": {},
   "source": [
    "**Done=>Ashim**"
   ]
  },
  {
   "cell_type": "markdown",
   "metadata": {},
   "source": [
    "# Python Programming Assignment: Function\n",
    "\n",
    "### Task 1: Write a function simple_calculator(num1, num2, operation) that takes two numbers and a string specifying an operation ('add', 'subtract', 'multiply', 'divide') and returns the result of the operation.\n",
    "\n"
   ]
  },
  {
   "cell_type": "code",
   "execution_count": 1,
   "metadata": {},
   "outputs": [
    {
     "name": "stdout",
     "output_type": "stream",
     "text": [
      "50\n"
     ]
    }
   ],
   "source": [
    "num1=int(input('Enter First number:'))\n",
    "num2=int(input('Enter Second Number:'))\n",
    "operation=input('Enter an operation(+,-,*,/)')\n",
    "\n",
    "def calculator(num1,num2, operation):\n",
    "    if operation==\"+\":\n",
    "        return num1+num2\n",
    "    elif operation ==\"-\":\n",
    "        return num1-num2\n",
    "    elif operation ==\"*\":\n",
    "        return num1*num2\n",
    "    elif operation ==\"/\":\n",
    "        if num2!=0:\n",
    "            return num1/num2\n",
    "        else:\n",
    "            print('Isnt divisable by 0')\n",
    "    else:\n",
    "        print('Invalid operation')\n",
    "        return None\n",
    "\n",
    "result=calculator(num1,num2,operation)\n",
    "print(result)"
   ]
  },
  {
   "cell_type": "markdown",
   "id": "85b7cc26",
   "metadata": {},
   "source": [
    "### Task 2:Write a function print_multiplication_table(n) that takes a number n and prints its multiplication table from 1 to 10.\n",
    "\n"
   ]
  },
  {
   "cell_type": "code",
   "execution_count": 3,
   "id": "56999e42",
   "metadata": {},
   "outputs": [
    {
     "name": "stdout",
     "output_type": "stream",
     "text": [
      "7 x 1=7\n",
      "7 x 2=14\n",
      "7 x 3=21\n",
      "7 x 4=28\n",
      "7 x 5=35\n",
      "7 x 6=42\n",
      "7 x 7=49\n",
      "7 x 8=56\n",
      "7 x 9=63\n",
      "7 x 10=70\n"
     ]
    }
   ],
   "source": [
    "n=int(input('Enter a number:'))\n",
    "def multiplication_table(n):\n",
    "    for i in range(1,11):\n",
    "        print(f'{n} x {i}={n*i}')\n",
    "\n",
    "multiplication_table(n)\n"
   ]
  },
  {
   "cell_type": "markdown",
   "id": "f0832a71",
   "metadata": {},
   "source": [
    "### Task 3: Write a function is_palindrome(word) that checks if a word is a palindrome (reads the same backward as forward). Return True or False.\n"
   ]
  },
  {
   "cell_type": "code",
   "execution_count": 7,
   "id": "82969a9f",
   "metadata": {},
   "outputs": [
    {
     "name": "stdout",
     "output_type": "stream",
     "text": [
      "racecar is palindrome\n"
     ]
    }
   ],
   "source": [
    "word=input('Enter a word:')\n",
    "def is_palindrome(word):\n",
    "    if word==word[::-1]:\n",
    "        print(f'{word} is palindrome')\n",
    "    else:\n",
    "        print(f'{word} is not palindrome')\n",
    "\n",
    "is_palindrome(word)"
   ]
  },
  {
   "cell_type": "markdown",
   "id": "d082ef80",
   "metadata": {},
   "source": [
    "### Task 4: Write a function find_largest(num1, num2, num3) that takes three numbers as arguments and returns the largest number."
   ]
  },
  {
   "cell_type": "code",
   "execution_count": 9,
   "id": "18f165a1",
   "metadata": {},
   "outputs": [
    {
     "name": "stdout",
     "output_type": "stream",
     "text": [
      "num2 is the largest\n"
     ]
    }
   ],
   "source": [
    "num1=int(input('Enter num1:'))\n",
    "num2=int(input('Enter num2:'))\n",
    "num3=int(input('Enter num3:'))\n",
    "\n",
    "def find_largest(num1,num2,num3):\n",
    "    if num1>num2 and num1>num3:\n",
    "        print('num1 is largest')\n",
    "    elif num2>num1 and num2>num3:\n",
    "        print('num2 is the largest')\n",
    "    else:\n",
    "        print('num3 is the largest')\n",
    "\n",
    "find_largest(num1,num2,num3)"
   ]
  },
  {
   "cell_type": "markdown",
   "id": "043f8657",
   "metadata": {},
   "source": [
    "### Task 5: Write a function convert_seconds(seconds) that takes a number of seconds and converts it into hours, minutes, and seconds."
   ]
  },
  {
   "cell_type": "code",
   "execution_count": 15,
   "id": "8c6a4f55",
   "metadata": {},
   "outputs": [
    {
     "name": "stdout",
     "output_type": "stream",
     "text": [
      "200 is 0.05555555555555555 hours and 3.3333333333333335 minutes\n"
     ]
    }
   ],
   "source": [
    "seconds=int(input('Enter number of seconds:'))\n",
    "\n",
    "def convert_seconds(seconds):\n",
    "    hours=seconds/(60*60)\n",
    "    minutes=seconds/60\n",
    "    print(f'{seconds} is {hours} hours and {minutes} minutes')\n",
    "\n",
    "convert_seconds(seconds)"
   ]
  },
  {
   "cell_type": "markdown",
   "id": "28d671ac",
   "metadata": {},
   "source": [
    "### Task 6:Write a function remove_duplicates(items) that takes a list and returns a new list with all duplicate elements removed."
   ]
  },
  {
   "cell_type": "code",
   "execution_count": 1,
   "id": "0aa9fb6b",
   "metadata": {},
   "outputs": [
    {
     "data": {
      "text/plain": [
       "[1, 2, 3, 4, 5]"
      ]
     },
     "execution_count": 1,
     "metadata": {},
     "output_type": "execute_result"
    }
   ],
   "source": [
    "list1=[1,2,3,4,2,4,5,1]\n",
    "def remove_duplicates(items):\n",
    "    a=set(items)\n",
    "    return list(a)\n",
    "    print(a)\n",
    "remove_duplicates(list1)\n",
    "    "
   ]
  },
  {
   "cell_type": "markdown",
   "id": "703f2046",
   "metadata": {},
   "source": [
    "### Task 6: Write a function calculate_total(cart_items) that takes a dictionary where keys are item names and values are prices, then calculates the total price.\n"
   ]
  },
  {
   "cell_type": "code",
   "execution_count": 9,
   "id": "ea7a5e4f",
   "metadata": {},
   "outputs": [
    {
     "name": "stdout",
     "output_type": "stream",
     "text": [
      "Total price: 600\n"
     ]
    }
   ],
   "source": [
    "fruits = {'apple': 100, 'mango': 200, 'orange': 300}\n",
    "\n",
    "def calculate_total(cart_items):\n",
    "    total = sum(cart_items.values())\n",
    "    return total\n",
    "\n",
    "total_price = calculate_total(fruits)\n",
    "print(f'Total price: {total_price}')"
   ]
  }
 ],
 "metadata": {
  "kernelspec": {
   "display_name": "Python 3",
   "language": "python",
   "name": "python3"
  },
  "language_info": {
   "codemirror_mode": {
    "name": "ipython",
    "version": 3
   },
   "file_extension": ".py",
   "mimetype": "text/x-python",
   "name": "python",
   "nbconvert_exporter": "python",
   "pygments_lexer": "ipython3",
   "version": "3.12.6"
  }
 },
 "nbformat": 4,
 "nbformat_minor": 5
}
