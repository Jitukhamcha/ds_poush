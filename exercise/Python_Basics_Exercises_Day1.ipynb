{
 "cells": [
  {
   "cell_type": "markdown",
   "id": "2b6c8f91",
   "metadata": {},
   "source": [
    "# Python Basics Exercises"
   ]
  },
  {
   "cell_type": "markdown",
   "id": "66932d9e",
   "metadata": {},
   "source": [
    "**Done=>Ashim**"
   ]
  },
  {
   "cell_type": "markdown",
   "id": "79c0d437",
   "metadata": {},
   "source": [
    "## Exercise 1: Variable Naming\n",
    "- **Task**: Create variables using Camel Case, Pascal Case, and Snake Case naming conventions to store your favorite fruit and print them.\n",
    "\n",
    "**Example**:\n",
    "```python\n",
    "favoriteFruitCamelCase = \"Apple\"\n",
    "FavoriteFruitPascalCase = \"Banana\"\n",
    "favorite_fruit_snake_case = \"Cherry\"\n",
    "\n",
    "print(favoriteFruitCamelCase)\n",
    "print(FavoriteFruitPascalCase)\n",
    "print(favorite_fruit_snake_case)\n",
    "```"
   ]
  },
  {
   "cell_type": "code",
   "execution_count": null,
   "id": "f8e83017",
   "metadata": {},
   "outputs": [],
   "source": []
  },
  {
   "cell_type": "markdown",
   "id": "f08afc8e",
   "metadata": {},
   "source": [
    "## Exercise 2: Variable Assignment\n",
    "- **Task**: Assign the values \"Red\", 3, and \"Car\" to variables `x`, `y`, and `z` in a single line, and then print each variable."
   ]
  },
  {
   "cell_type": "code",
   "execution_count": 2,
   "id": "f63fa748",
   "metadata": {},
   "outputs": [
    {
     "name": "stdout",
     "output_type": "stream",
     "text": [
      "Red 3 Car\n"
     ]
    }
   ],
   "source": [
    "x=\"Red\"\n",
    "y=3\n",
    "z=\"Car\"\n",
    "\n",
    "print(x,y,z)"
   ]
  },
  {
   "cell_type": "markdown",
   "id": "e3ccfb87",
   "metadata": {},
   "source": [
    "## Exercise 3: Changing Variable Types\n",
    "- **Task**: Create a variable `number` with an integer value, then change it to a string, and finally to a float. Print the data type at each step using `type()`."
   ]
  },
  {
   "cell_type": "code",
   "execution_count": 4,
   "id": "323cbce6",
   "metadata": {},
   "outputs": [
    {
     "name": "stdout",
     "output_type": "stream",
     "text": [
      "<class 'int'>\n",
      "<class 'float'>\n",
      "5.0\n"
     ]
    }
   ],
   "source": [
    "a=5\n",
    "print(type(a))\n",
    "\n",
    "a=float(a)\n",
    "print(type(a))\n",
    "print(a)"
   ]
  },
  {
   "cell_type": "markdown",
   "id": "4bc1fb11",
   "metadata": {},
   "source": [
    "## Exercise 4: Multiple Variables\n",
    "- **Task**: Assign the same value \"Python\" to three variables: `a`, `b`, and `c`. Then, print each variable."
   ]
  },
  {
   "cell_type": "code",
   "execution_count": 5,
   "id": "01bf5bc5",
   "metadata": {},
   "outputs": [
    {
     "name": "stdout",
     "output_type": "stream",
     "text": [
      "4 4 4\n"
     ]
    }
   ],
   "source": [
    "a=4\n",
    "b=4\n",
    "c=4\n",
    "\n",
    "print(a,b,c)\n"
   ]
  },
  {
   "cell_type": "markdown",
   "id": "c25a6527",
   "metadata": {},
   "source": [
    "## Exercise 5: Unpacking a Collection\n",
    "- **Task**: Unpack the following list into three variables and print them: `fruits = [\"Mango\", \"Grapes\", \"Peach\"]`."
   ]
  },
  {
   "cell_type": "code",
   "execution_count": 6,
   "id": "e4299270",
   "metadata": {},
   "outputs": [
    {
     "name": "stdout",
     "output_type": "stream",
     "text": [
      "Mango\n",
      "Grapes\n",
      "Peaach\n"
     ]
    }
   ],
   "source": [
    "fruits= ['Mango',\"Grapes\",'Peaach']\n",
    "a,b,c=fruits\n",
    "\n",
    "print(a)\n",
    "print(b)\n",
    "print(c)"
   ]
  },
  {
   "cell_type": "markdown",
   "id": "75af8381",
   "metadata": {},
   "source": [
    "## Exercise 6: String Concatenation\n",
    "- **Task**: Create three string variables: `part1 = \"Python\"`, `part2 = \" is\"`, and `part3 = \" fun!\"`. Concatenate them and print the result."
   ]
  },
  {
   "cell_type": "code",
   "execution_count": 7,
   "id": "362cfe9b",
   "metadata": {},
   "outputs": [
    {
     "name": "stdout",
     "output_type": "stream",
     "text": [
      "Python is fun\n"
     ]
    }
   ],
   "source": [
    "part1='Python'\n",
    "part2='is'\n",
    "part3='fun'\n",
    "\n",
    "sentence=part1+\" \"+part2+\" \"+part3\n",
    "print(sentence)\n"
   ]
  },
  {
   "cell_type": "markdown",
   "id": "bd695f4b",
   "metadata": {},
   "source": [
    "# Data Type Exercises"
   ]
  },
  {
   "cell_type": "markdown",
   "id": "fbf34497",
   "metadata": {},
   "source": [
    "## Exercise 7: Checking Data Types\n",
    "- **Task**: Create variables with different data types: `string`, `integer`, `float`, and `boolean`. Use `type()` to print the type of each variable."
   ]
  },
  {
   "cell_type": "code",
   "execution_count": 8,
   "id": "c5258fdc",
   "metadata": {},
   "outputs": [
    {
     "name": "stdout",
     "output_type": "stream",
     "text": [
      "<class 'str'>\n",
      "<class 'int'>\n",
      "<class 'float'>\n",
      "<class 'bool'>\n"
     ]
    }
   ],
   "source": [
    "w='abcde'\n",
    "x=5\n",
    "y=3.5\n",
    "z=True\n",
    "\n",
    "print(type(w))\n",
    "print(type(x))\n",
    "print(type(y))\n",
    "print(type(z))\n",
    "\n"
   ]
  },
  {
   "cell_type": "markdown",
   "id": "32326c73",
   "metadata": {},
   "source": [
    "## Exercise 8: Numeric Types\n",
    "- **Task**: Create an integer `a`, a float `b`, and a complex number `c`. Print the data type of each."
   ]
  },
  {
   "cell_type": "code",
   "execution_count": 10,
   "id": "4bdedeb4",
   "metadata": {},
   "outputs": [
    {
     "name": "stdout",
     "output_type": "stream",
     "text": [
      "<class 'int'>\n",
      "<class 'float'>\n",
      "<class 'complex'>\n"
     ]
    }
   ],
   "source": [
    "a=5\n",
    "b=3.75\n",
    "c=5j+5\n",
    "\n",
    "print(type(a))\n",
    "print(type(b))\n",
    "print(type(c))\n"
   ]
  },
  {
   "cell_type": "markdown",
   "id": "f3f9e400",
   "metadata": {},
   "source": [
    "## Exercise 9: Type Conversion\n",
    "- **Task**: Convert the integer `10` to a float, the float `8.5` to an integer. Print the converted values and their types."
   ]
  },
  {
   "cell_type": "code",
   "execution_count": 11,
   "id": "7a62e628",
   "metadata": {},
   "outputs": [
    {
     "name": "stdout",
     "output_type": "stream",
     "text": [
      "10.0\n",
      "8\n"
     ]
    }
   ],
   "source": [
    "a=10\n",
    "a=float(a)\n",
    "print(a)\n",
    "\n",
    "b=8.5\n",
    "b=int(b)\n",
    "print(b)\n"
   ]
  }
 ],
 "metadata": {
  "kernelspec": {
   "display_name": "Python 3",
   "language": "python",
   "name": "python3"
  },
  "language_info": {
   "codemirror_mode": {
    "name": "ipython",
    "version": 3
   },
   "file_extension": ".py",
   "mimetype": "text/x-python",
   "name": "python",
   "nbconvert_exporter": "python",
   "pygments_lexer": "ipython3",
   "version": "3.12.6"
  }
 },
 "nbformat": 4,
 "nbformat_minor": 5
}
