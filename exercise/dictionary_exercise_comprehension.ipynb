{
 "cells": [
  {
   "cell_type": "markdown",
   "id": "6b77c7ac",
   "metadata": {},
   "source": [
    "# Python Programming Assignment: Dictionary\n"
   ]
  },
  {
   "cell_type": "markdown",
   "id": "0ebd682b",
   "metadata": {},
   "source": [
    "**Done=>Ashim**"
   ]
  },
  {
   "cell_type": "markdown",
   "id": "043f8657",
   "metadata": {},
   "source": [
    "## Task 1: Employee Performance Evaluation\n",
    "You are given a dictionary where the keys represent employee names, and the values represent their performance scores (out of 100). Write a Python script to perform the following tasks:\n",
    "\n",
    "### Tasks\n",
    "\n",
    "1. **Print all employee names and their scores. Like \"Alice scored 85\"**\n",
    "2. **Find and print the name(s) of the employee(s) with the highest score.**\n",
    "3. **Print the names of employees who scored above the average.**\n",
    "4. **Create a new dictionary that categorizes employees as \"Pass\" (score >= 80) or \"Fail\" (score < 80). Print the new dictionary.**\n"
   ]
  },
  {
   "cell_type": "code",
   "execution_count": 1,
   "id": "7dbf1921",
   "metadata": {},
   "outputs": [
    {
     "name": "stdout",
     "output_type": "stream",
     "text": [
      "Alice scored 85\n",
      "Bob scored 78\n",
      "Charlie scored 92\n",
      "Diana scored 88\n",
      "Eve scored 76\n"
     ]
    }
   ],
   "source": [
    "employee_scores = {\n",
    "    \"Alice\": 85,\n",
    "    \"Bob\": 78,\n",
    "    \"Charlie\": 92,\n",
    "    \"Diana\": 88,\n",
    "    \"Eve\": 76\n",
    "}\n",
    "\n",
    "for key,value in employee_scores.items():\n",
    "    print(f'{key} scored {value}')"
   ]
  },
  {
   "cell_type": "code",
   "execution_count": 2,
   "id": "88bc4e08",
   "metadata": {},
   "outputs": [
    {
     "name": "stdout",
     "output_type": "stream",
     "text": [
      "{'Charlie': 92, 'Diana': 88, 'Alice': 85, 'Bob': 78, 'Eve': 76}\n"
     ]
    }
   ],
   "source": [
    "asc=dict(sorted(employee_scores.items(), key=lambda item:item[1], reverse=True))\n",
    "print (asc)"
   ]
  },
  {
   "cell_type": "code",
   "execution_count": 3,
   "id": "f0a43491",
   "metadata": {},
   "outputs": [
    {
     "name": "stdout",
     "output_type": "stream",
     "text": [
      "83.8\n",
      "Alice:85\n",
      "Charlie:92\n",
      "Diana:88\n"
     ]
    }
   ],
   "source": [
    "avg=sum(employee_scores.values())/len(employee_scores)\n",
    "print(avg)\n",
    "for key,value in employee_scores.items():\n",
    "    if value>=avg:\n",
    "        print(f'{key}:{value}')"
   ]
  },
  {
   "cell_type": "code",
   "execution_count": 4,
   "id": "0571b250",
   "metadata": {},
   "outputs": [
    {
     "name": "stdout",
     "output_type": "stream",
     "text": [
      "{'Alice': 'pass', 'Bob': 'fail', 'Charlie': 'pass', 'Diana': 'pass', 'Eve': 'fail'}\n"
     ]
    }
   ],
   "source": [
    "new={key: 'pass' if value>80 else 'fail' for key,value in employee_scores.items()}\n",
    "print(new)"
   ]
  },
  {
   "cell_type": "markdown",
   "id": "3457dd3b",
   "metadata": {},
   "source": [
    "## Task 2: Student Grades Processing\n",
    "You are given a list of student grades. Write Python code using list comprehension to perform the following tasks:\n",
    "\n",
    "### Tasks\n",
    "1. **Create a list of grades increased by 5 points.** \n",
    "\n",
    "Output: [50, 83, 93, 97, 72, 60, 94, 81, 95, 55]\n",
    " \n",
    "2. **Create a list of grades that are passing (≥ 60).**\n",
    "\n",
    "Output: [78, 88, 92, 67, 89, 76, 90]\n",
    "\n",
    "3. **Create a list of grades converted to \"Pass\" or \"Fail\" based on a passing mark of 60.**\n",
    "\n",
    "Output: ['Fail', 'Pass', 'Pass', 'Pass', 'Pass', 'Fail', 'Pass', 'Pass', 'Pass', 'Fail']\n",
    "\n",
    "4. **Find the highest grade.**\n",
    "\n",
    "Output: Highest grade: 92\n",
    "\n",
    "5. **Create a list of tuples where each tuple contains the original grade and the grade category: \"Excellent\" (≥ 90), \"Good\" (70–89), or \"Average\" (< 70).**\n",
    "\n",
    "Output: [    (45, 'Average'),    (78, 'Good'),    (88, 'Good'),    (92, 'Excellent'),    (67, 'Average'),    (55, 'Average'),    (89, 'Good'),    (76, 'Good'),    (90, 'Excellent'),    (50, 'Average')]\n"
   ]
  },
  {
   "cell_type": "code",
   "execution_count": 5,
   "id": "6692bed0",
   "metadata": {},
   "outputs": [],
   "source": [
    "grades = [45, 78, 88, 92, 67, 55, 89, 76, 90, 50]"
   ]
  },
  {
   "cell_type": "code",
   "execution_count": 6,
   "id": "5074a40d",
   "metadata": {},
   "outputs": [
    {
     "name": "stdout",
     "output_type": "stream",
     "text": [
      "[50, 83, 93, 97, 72, 60, 94, 81, 95, 55]\n"
     ]
    }
   ],
   "source": [
    "inc= [ grade + 5 for grade in grades]\n",
    "print(inc)"
   ]
  },
  {
   "cell_type": "code",
   "execution_count": 7,
   "id": "e997eab5",
   "metadata": {},
   "outputs": [
    {
     "name": "stdout",
     "output_type": "stream",
     "text": [
      "[78, 88, 92, 67, 89, 76, 90]\n"
     ]
    }
   ],
   "source": [
    "p=[grade for grade in grades if grade>60]\n",
    "print(p)"
   ]
  },
  {
   "cell_type": "code",
   "execution_count": 8,
   "id": "cb51ca47",
   "metadata": {},
   "outputs": [
    {
     "name": "stdout",
     "output_type": "stream",
     "text": [
      "[45, 55, 50]\n"
     ]
    }
   ],
   "source": [
    "f=[grade for grade in grades if grade<=60]\n",
    "print(f)"
   ]
  },
  {
   "cell_type": "code",
   "execution_count": 9,
   "id": "cee09a33",
   "metadata": {},
   "outputs": [
    {
     "name": "stdout",
     "output_type": "stream",
     "text": [
      "92\n"
     ]
    }
   ],
   "source": [
    "grades.sort()\n",
    "highest=grades[-1]\n",
    "print(highest)"
   ]
  }
 ],
 "metadata": {
  "kernelspec": {
   "display_name": "Python 3",
   "language": "python",
   "name": "python3"
  },
  "language_info": {
   "codemirror_mode": {
    "name": "ipython",
    "version": 3
   },
   "file_extension": ".py",
   "mimetype": "text/x-python",
   "name": "python",
   "nbconvert_exporter": "python",
   "pygments_lexer": "ipython3",
   "version": "3.12.6"
  }
 },
 "nbformat": 4,
 "nbformat_minor": 5
}
