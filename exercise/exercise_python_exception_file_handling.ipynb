{
 "cells": [
  {
   "cell_type": "markdown",
   "metadata": {},
   "source": [
    "# Python Programming Assignment: Exceptional handling\n",
    "\n",
    "### Task 1: Write a function to take two numbers as input and perform division. Implement exception handling to catch a ZeroDivisionError and display a user-friendly message."
   ]
  },
  {
   "cell_type": "code",
   "execution_count": 2,
   "id": "d782a505",
   "metadata": {},
   "outputs": [
    {
     "data": {
      "text/plain": [
       "3.0"
      ]
     },
     "execution_count": 2,
     "metadata": {},
     "output_type": "execute_result"
    }
   ],
   "source": [
    "def divide_num(a,b):\n",
    "    try:\n",
    "        quo=a/b\n",
    "    except:\n",
    "        quo=\"incorrect division\"\n",
    "    return quo\n",
    "\n",
    "divide_num(6,2)"
   ]
  },
  {
   "cell_type": "markdown",
   "id": "85b7cc26",
   "metadata": {},
   "source": [
    "### Task 2: Write a function to take two number and perform addition operation. Implement exception handling to catch a TypeError and display a user-friendly message. if both number are of same type, it should return their sum as result and incase of type mismatche it should handle exception.\n",
    "#### valid condition = int + int, float + int, string + string\n",
    "\n",
    "#### invalid condition = int + string, float + string\n"
   ]
  },
  {
   "cell_type": "code",
   "execution_count": 7,
   "id": "5ef6531a",
   "metadata": {},
   "outputs": [
    {
     "data": {
      "text/plain": [
       "'Different data types cannot be added'"
      ]
     },
     "execution_count": 7,
     "metadata": {},
     "output_type": "execute_result"
    }
   ],
   "source": [
    "def addition(a,b):\n",
    "    try:\n",
    "        result = a + b \n",
    "    except:\n",
    "        return \"Different data types cannot be added\"\n",
    "    return result\n",
    "\n",
    "addition(\"apple\",3.0)"
   ]
  },
  {
   "cell_type": "markdown",
   "id": "f0832a71",
   "metadata": {},
   "source": [
    "# Python Programming Assignment: File handling\n"
   ]
  },
  {
   "cell_type": "markdown",
   "id": "d082ef80",
   "metadata": {},
   "source": [
    "### Task 3: Write a Python program to create a file called test.txt, write some text into it, and then read the contents of the file and display it."
   ]
  },
  {
   "cell_type": "code",
   "execution_count": null,
   "id": "a442dae2",
   "metadata": {},
   "outputs": [],
   "source": []
  },
  {
   "cell_type": "code",
   "execution_count": null,
   "id": "cc3ac8fe",
   "metadata": {},
   "outputs": [],
   "source": []
  },
  {
   "cell_type": "code",
   "execution_count": null,
   "id": "9923c013",
   "metadata": {},
   "outputs": [],
   "source": []
  },
  {
   "cell_type": "markdown",
   "id": "043f8657",
   "metadata": {},
   "source": [
    "### Task 4: Create a program that opens a text file, reads its contents, and counts the number of words in the file."
   ]
  },
  {
   "cell_type": "code",
   "execution_count": null,
   "id": "d11c86df",
   "metadata": {},
   "outputs": [],
   "source": []
  },
  {
   "cell_type": "markdown",
   "id": "28d671ac",
   "metadata": {},
   "source": [
    "### Task 5: Write a program to open an existing file and append new content to it. Then, read and print the entire file to verify the changes."
   ]
  },
  {
   "cell_type": "code",
   "execution_count": null,
   "id": "3935c427",
   "metadata": {},
   "outputs": [],
   "source": []
  }
 ],
 "metadata": {
  "kernelspec": {
   "display_name": "Python 3",
   "language": "python",
   "name": "python3"
  },
  "language_info": {
   "codemirror_mode": {
    "name": "ipython",
    "version": 3
   },
   "file_extension": ".py",
   "mimetype": "text/x-python",
   "name": "python",
   "nbconvert_exporter": "python",
   "pygments_lexer": "ipython3",
   "version": "3.12.6"
  }
 },
 "nbformat": 4,
 "nbformat_minor": 5
}
