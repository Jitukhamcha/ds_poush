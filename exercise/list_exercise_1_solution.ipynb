{
 "cells": [
  {
   "cell_type": "markdown",
   "id": "2da4726d",
   "metadata": {},
   "source": [
    "**Done=>Ashim**"
   ]
  },
  {
   "cell_type": "markdown",
   "metadata": {},
   "source": [
    "# Python Programming Assignment: List\n",
    "### Task 1: Get the length of each item in list\n",
    "animals = [\"Elephant\", \"Tiger\", \"Giraffe\", \"Kangaroo\", \"Dolphin\", \n",
    "           \"Panda\", \"Zebra\", \"Lion\", \"Penguin\", \"Cheetah\"]\n",
    "\n",
    "Output format:\n",
    "\n",
    "\"Elephant has length 8\"\n",
    "\n",
    "\"Tiger has length 5\"\n"
   ]
  },
  {
   "cell_type": "code",
   "execution_count": 8,
   "id": "0988cef4",
   "metadata": {},
   "outputs": [],
   "source": [
    "animals = [\"Elephant\", \"Tiger\", \"Giraffe\", \"Kangaroo\", \"Dolphin\", \n",
    "           \"Panda\", \"Zebra\", \"Lion\", \"Penguin\", \"Cheetah\"]"
   ]
  },
  {
   "cell_type": "code",
   "execution_count": 9,
   "id": "1c32b534",
   "metadata": {},
   "outputs": [
    {
     "name": "stdout",
     "output_type": "stream",
     "text": [
      "Elephant has length 8\n",
      "Tiger has length 5\n",
      "Giraffe has length 7\n",
      "Kangaroo has length 8\n",
      "Dolphin has length 7\n",
      "Panda has length 5\n",
      "Zebra has length 5\n",
      "Lion has length 4\n",
      "Penguin has length 7\n",
      "Cheetah has length 7\n"
     ]
    }
   ],
   "source": [
    "for i in animals:\n",
    "    print(f'{i} has length {len(i)}')"
   ]
  },
  {
   "cell_type": "markdown",
   "id": "85b7cc26",
   "metadata": {},
   "source": [
    "### Task 2: Separate list based on item length\n",
    "animals = [\"Elephant\", \"Tiger\", \"Giraffe\", \"Kangaroo\", \"Dolphin\", \n",
    "           \"Panda\", \"Zebra\", \"Lion\", \"Penguin\", \"Cheetah\"]\n",
    "\n",
    "Create two list a1 and a2, where a1 should store animals name with length <= 5 and a2 with length > 5"
   ]
  },
  {
   "cell_type": "code",
   "execution_count": 10,
   "id": "a5c51824",
   "metadata": {},
   "outputs": [
    {
     "name": "stdout",
     "output_type": "stream",
     "text": [
      "['Elephant', 'Tiger', 'Giraffe', 'Kangaroo', 'Dolphin', 'Panda', 'Zebra', 'Penguin', 'Cheetah']\n",
      "['Lion']\n"
     ]
    }
   ],
   "source": [
    "a1 = []\n",
    "a2 = []\n",
    "animals = [\"Elephant\", \"Tiger\", \"Giraffe\", \"Kangaroo\", \"Dolphin\", \n",
    "           \"Panda\", \"Zebra\", \"Lion\", \"Penguin\", \"Cheetah\"]\n",
    "for a in animals:\n",
    "    length=len(a)\n",
    "    if len(a)>=5:\n",
    "        a1.append(a)\n",
    "    else:\n",
    "        a2.append(a)\n",
    "\n",
    "print(a1)\n",
    "print(a2)\n",
    " "
   ]
  },
  {
   "cell_type": "markdown",
   "id": "3fdc8b60",
   "metadata": {},
   "source": [
    "\n",
    "### Task 3: Find common item between two list\n",
    "Write a program that print the common item between the given two list. Also handle for case sensitive case.\n",
    "\n",
    "animals_1 = [\"Elephant\", \"Tiger\", \"Giraffe\", \"Kangaroo\", \"Dolphin\", \n",
    "           \"Panda\", \"Zebra\", \"Lion\", \"Penguin\", \"Cheetah\"]\n",
    "           \n",
    "animals_2 = [\"Jackal\", \"tiger\",  \"LION\", \"Penguin\", \"Monkey\", \"Cheetah\"]"
   ]
  },
  {
   "cell_type": "code",
   "execution_count": 7,
   "id": "6113d301",
   "metadata": {},
   "outputs": [
    {
     "name": "stdout",
     "output_type": "stream",
     "text": [
      "['Giraffe', 'Jackal', 'Elephant', 'Tiger', 'Monkey', 'Kangaroo', 'Dolphin', 'Penguin', 'Zebra', 'Panda', 'Lion', 'Cheetah']\n"
     ]
    }
   ],
   "source": [
    "animals_1 = [\"Elephant\", \"Tiger\", \"Giraffe\", \"Kangaroo\", \"Dolphin\", \n",
    "           \"Panda\", \"Zebra\", \"Lion\", \"Penguin\", \"Cheetah\"]\n",
    "           \n",
    "animals_2 = [\"Jackal\", \"tiger\",  \"LION\", \"Penguin\", \"Monkey\", \"Cheetah\"]\n",
    "\n",
    "aa=[x.title() for x in animals_1]\n",
    "bb=[x.title() for x in animals_2]\n",
    "\n",
    "ccc=set(aa+bb)\n",
    "cc=list(ccc)\n",
    "print(cc)\n"
   ]
  },
  {
   "cell_type": "markdown",
   "id": "d082ef80",
   "metadata": {},
   "source": [
    "\n",
    "### Task 4: Item remvoal\n",
    "Write a program that removes the even number from the list \n",
    "\n",
    "list_1 = [4,2,52,81,816,66,238,386,23,33,11,78789]"
   ]
  },
  {
   "cell_type": "code",
   "execution_count": 31,
   "id": "b230ac76",
   "metadata": {},
   "outputs": [
    {
     "name": "stdout",
     "output_type": "stream",
     "text": [
      "[81, 23, 33, 11, 78789]\n"
     ]
    }
   ],
   "source": [
    "list_1 = [4,2,52,81,816,66,238,386,23,33,11,78789]\n",
    "\n",
    "\n",
    "\n",
    "\n",
    "\n",
    "\n",
    "list_2 = []\n",
    "for i in list_1:\n",
    "    if i % 2 == 0:\n",
    "        continue\n",
    "    list_2.append(i)\n",
    "\n",
    "print(list_2)     "
   ]
  },
  {
   "cell_type": "markdown",
   "id": "043f8657",
   "metadata": {},
   "source": [
    "### Task 5: Swap values given the indexes \n",
    "Write a program to swap values in a given list\n",
    "\n",
    "animals_2 = [\"Jackal\", \"tiger\",  \"LION\", \"Penguin\", \"Monkey\", \"Cheetah\"]\n",
    "\n",
    "Tasks:\n",
    "\n",
    "a. Swap first and last item in animals_2\n",
    "\n",
    "b. Swap second and second last item\n"
   ]
  },
  {
   "cell_type": "code",
   "execution_count": 39,
   "id": "0d309b7f",
   "metadata": {},
   "outputs": [
    {
     "name": "stdout",
     "output_type": "stream",
     "text": [
      "['Cheetah', 'tiger', 'LION', 'Penguin', 'Monkey', 'Jackal']\n",
      "['Cheetah', 'Monkey', 'LION', 'Penguin', 'tiger', 'Jackal']\n"
     ]
    }
   ],
   "source": [
    "animals_2 = [\"Jackal\", \"tiger\",  \"LION\", \"Penguin\", \"Monkey\", \"Cheetah\"]\n",
    "animals_2[0], animals_2[-1] = animals_2[-1], animals_2[0]\n",
    "print(animals_2)\n",
    "\n",
    "animals_2[1], animals_2[-2] = animals_2[-2], animals_2[1]\n",
    "print(animals_2)"
   ]
  },
  {
   "cell_type": "code",
   "execution_count": 34,
   "id": "d1451462",
   "metadata": {},
   "outputs": [
    {
     "name": "stdout",
     "output_type": "stream",
     "text": [
      "5 2\n"
     ]
    }
   ],
   "source": [
    "print(a,b)"
   ]
  },
  {
   "cell_type": "markdown",
   "id": "28d671ac",
   "metadata": {},
   "source": [
    "### Task 6: Casing of item \n",
    "Write a program to create three list (ANIMALS, animals, Animals) from following list with the property as given in output list name \n",
    "\n",
    "animals_names = [\"Elephant\", \"tiger\", \"GirafFe\", \"KangarOO\", \"Dolphin\", \n",
    "           \"panda\", \"ZEBRA\", \"Lion\", \"penguin\", \"Cheetah\"]\n",
    "\n",
    "#### Hint:\n",
    "ANIMALS = this should have all item in capital casing\n",
    "\n",
    "animals = this should have all item in small casing\n",
    "\n",
    "Animals = this should have all item in title casing\n"
   ]
  },
  {
   "cell_type": "code",
   "execution_count": 40,
   "id": "41e5ee19",
   "metadata": {},
   "outputs": [],
   "source": [
    "animals_names = [\"Elephant\", \"tiger\", \"GirafFe\", \"KangarOO\", \"Dolphin\", \n",
    "           \"panda\", \"ZEBRA\", \"Lion\", \"penguin\", \"Cheetah\"]"
   ]
  },
  {
   "cell_type": "code",
   "execution_count": 49,
   "id": "30516d91",
   "metadata": {},
   "outputs": [],
   "source": [
    "ANIMALS = []\n",
    "animals = []\n",
    "Animals = []\n",
    "misc = []\n",
    "for a in animals_names:\n",
    "    if a == a.upper():\n",
    "        ANIMALS.append(a)\n",
    "    elif a == a.lower():\n",
    "        animals.append(a)\n",
    "    elif a == a.title():\n",
    "        Animals.append(a)\n",
    "    else:\n",
    "        misc.append(a)\n",
    "    "
   ]
  },
  {
   "cell_type": "code",
   "execution_count": 1,
   "id": "5e3479d4",
   "metadata": {},
   "outputs": [
    {
     "ename": "NameError",
     "evalue": "name 'ANIMALS' is not defined",
     "output_type": "error",
     "traceback": [
      "\u001b[0;31m---------------------------------------------------------------------------\u001b[0m",
      "\u001b[0;31mNameError\u001b[0m                                 Traceback (most recent call last)",
      "Cell \u001b[0;32mIn[1], line 1\u001b[0m\n\u001b[0;32m----> 1\u001b[0m \u001b[43mANIMALS\u001b[49m\n",
      "\u001b[0;31mNameError\u001b[0m: name 'ANIMALS' is not defined"
     ]
    }
   ],
   "source": [
    "ANIMALS"
   ]
  },
  {
   "cell_type": "code",
   "execution_count": 50,
   "id": "65235bce",
   "metadata": {},
   "outputs": [
    {
     "name": "stdout",
     "output_type": "stream",
     "text": [
      "['ZEBRA']\n",
      "['tiger', 'panda', 'penguin']\n",
      "['Elephant', 'Dolphin', 'Lion', 'Cheetah']\n",
      "['GirafFe', 'KangarOO']\n"
     ]
    }
   ],
   "source": [
    "print(ANIMALS)\n",
    "print(animals)\n",
    "print(Animals)\n",
    "print(misc)"
   ]
  },
  {
   "cell_type": "code",
   "execution_count": null,
   "id": "aa0e9333",
   "metadata": {},
   "outputs": [],
   "source": []
  }
 ],
 "metadata": {
  "kernelspec": {
   "display_name": "Python 3",
   "language": "python",
   "name": "python3"
  },
  "language_info": {
   "codemirror_mode": {
    "name": "ipython",
    "version": 3
   },
   "file_extension": ".py",
   "mimetype": "text/x-python",
   "name": "python",
   "nbconvert_exporter": "python",
   "pygments_lexer": "ipython3",
   "version": "3.12.6"
  }
 },
 "nbformat": 4,
 "nbformat_minor": 5
}
