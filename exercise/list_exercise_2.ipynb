{
 "cells": [
  {
   "cell_type": "markdown",
   "id": "db5f9325",
   "metadata": {},
   "source": [
    "**Done=>Ashim**"
   ]
  },
  {
   "cell_type": "markdown",
   "metadata": {},
   "source": [
    "# Python Programming Assignment: List\n",
    "### Task 1: Given a list of numbers. write a program to turn every item of a list into its square. Also create a dictionary for that\n",
    "\n",
    "\n",
    "numbers = [1, 2, 3, 4, 5, 6, 7]\n"
   ]
  },
  {
   "cell_type": "code",
   "execution_count": 1,
   "id": "0988cef4",
   "metadata": {},
   "outputs": [],
   "source": [
    "number=[1,2,3,4,5,6,7]\n",
    "squared={}\n",
    "\n",
    "for i in number:\n",
    "\n",
    "    squared.update({i:i**2})\n"
   ]
  },
  {
   "cell_type": "code",
   "execution_count": 2,
   "id": "9672005d",
   "metadata": {},
   "outputs": [
    {
     "name": "stdout",
     "output_type": "stream",
     "text": [
      "{1: 1, 2: 4, 3: 9, 4: 16, 5: 25, 6: 36, 7: 49}\n"
     ]
    }
   ],
   "source": [
    "print(squared)"
   ]
  },
  {
   "cell_type": "markdown",
   "id": "85b7cc26",
   "metadata": {},
   "source": [
    "### Task 2: Add new item to list after a specified item\n",
    "\n",
    "Write a program to add item 7000 after 6000 in the following Python List\n",
    "\n",
    "list1 = [10, 20, 300, 400, 5000, 6000, 500, 30, 40]\n"
   ]
  },
  {
   "cell_type": "code",
   "execution_count": 13,
   "id": "9ae9e249",
   "metadata": {},
   "outputs": [
    {
     "name": "stdout",
     "output_type": "stream",
     "text": [
      "[10, 20, 300, 400, 5000, 6000, 7000, 500, 30, 40]\n"
     ]
    }
   ],
   "source": [
    "list1 = [10, 20, 300, 400, 5000, 6000, 500, 30, 40]\n",
    "\n",
    "a=list1.index(6000)\n",
    "list1.insert(a+1, 7000)\n",
    "print(list1)"
   ]
  },
  {
   "cell_type": "markdown",
   "id": "f0832a71",
   "metadata": {},
   "source": [
    "### Task 3: Add new item to list after a specified item\n",
    "\n",
    "Write a program to add item 7000 after 6000 in the following Python List\n",
    "\n",
    "list1 = [10, 20, [300, 400, [5000, 6000], 500], 30, 40]\n"
   ]
  },
  {
   "cell_type": "code",
   "execution_count": 20,
   "id": "a5c51824",
   "metadata": {},
   "outputs": [
    {
     "name": "stdout",
     "output_type": "stream",
     "text": [
      "[10, 20, [300, 400, [5000, 6000, 7000], 500], 30, 40]\n"
     ]
    }
   ],
   "source": [
    "list1 = [10, 20, [300, 400, [5000, 6000], 500], 30, 40]\n",
    "\n",
    "a=list1[2][2].index(6000)\n",
    "list1[2][2].insert(a+1, 7000)\n",
    "print(list1)"
   ]
  },
  {
   "cell_type": "markdown",
   "id": "d082ef80",
   "metadata": {},
   "source": [
    "\n",
    "### Task 4: Replace list’s item with new value if found\n",
    "You have given a Python list. Write a program to find value 20 in the list, and if it is present, replace it with 200. Only update the first occurrence of an item.\n",
    "\n",
    "list_1 = [5, 10, 15, 20, 25, 50, 20]"
   ]
  },
  {
   "cell_type": "code",
   "execution_count": 22,
   "id": "cef4a4a8",
   "metadata": {},
   "outputs": [
    {
     "name": "stdout",
     "output_type": "stream",
     "text": [
      "[5, 10, 15, 200, 20, 25, 50, 20]\n"
     ]
    }
   ],
   "source": [
    "list_1 = [5, 10, 15, 20, 25, 50, 20]\n",
    "a=list_1.index(20)\n",
    "list_1.insert(a,200)\n",
    "print(list_1)"
   ]
  },
  {
   "cell_type": "markdown",
   "id": "043f8657",
   "metadata": {},
   "source": [
    "### Task 5: Calculate sum of all numbers from 1 to a given number\n",
    "Write a Python program to accept a number from a user and calculate the sum of all numbers from 1 to a given number\n",
    "\n",
    "For example, if the user entered 10, the output should be 55 (1+2+3+4+5+6+7+8+9+10)\n"
   ]
  },
  {
   "cell_type": "code",
   "execution_count": 25,
   "id": "7dbf1921",
   "metadata": {},
   "outputs": [
    {
     "name": "stdout",
     "output_type": "stream",
     "text": [
      "55\n"
     ]
    }
   ],
   "source": [
    "num=int(input('Enter a number:'))\n",
    "\n",
    "total_sum = sum(range(1, num + 1))\n",
    "print(total_sum)"
   ]
  },
  {
   "cell_type": "markdown",
   "id": "28d671ac",
   "metadata": {},
   "source": [
    "### Task 6: print positive numbers in a list\n",
    "Given a list of numbers, write a Python program to count positive and negative numbers in a List. \n",
    "\n",
    "list1 = [12, -7, 5, 64, -14]"
   ]
  },
  {
   "cell_type": "code",
   "execution_count": 11,
   "id": "aa0e9333",
   "metadata": {},
   "outputs": [
    {
     "name": "stdout",
     "output_type": "stream",
     "text": [
      "count positive: 1\n",
      "12 is positive\n",
      "count negative: 1\n",
      "-7 is negative\n",
      "count positive: 2\n",
      "5 is positive\n",
      "count positive: 3\n",
      "64 is positive\n",
      "count negative: 2\n",
      "-14 is negative\n",
      "count positive: 3 \n",
      " count negative: 2\n"
     ]
    }
   ],
   "source": [
    "list1 = [12, -7, 5, 64, -14]\n",
    "cp=0\n",
    "cn=0\n",
    "\n",
    "for i in list1:\n",
    "    if i>=0:\n",
    "        cp=cp+1\n",
    "        print(\"count positive:\", cp)\n",
    "        print(f'{i} is positive')\n",
    "\n",
    "    else:\n",
    "        cn=cn+1\n",
    "        print('count negative:', cn)\n",
    "        print(f'{i} is negative')\n",
    "    \n",
    "\n",
    "print('count positive:',cp,'\\n','count negative:',cn)"
   ]
  },
  {
   "cell_type": "markdown",
   "id": "703f2046",
   "metadata": {},
   "source": [
    "<!-- ### Task 6: Get the Difference\n",
    "\n",
    "Write a program to find the range (difference between the largest and smallest element) of the list.\n",
    "\n",
    "lst = [5, 10, 15, 200, 25, 50, 20]\n",
    "\n",
    "Output: 195 -->"
   ]
  }
 ],
 "metadata": {
  "kernelspec": {
   "display_name": "Python 3",
   "language": "python",
   "name": "python3"
  },
  "language_info": {
   "codemirror_mode": {
    "name": "ipython",
    "version": 3
   },
   "file_extension": ".py",
   "mimetype": "text/x-python",
   "name": "python",
   "nbconvert_exporter": "python",
   "pygments_lexer": "ipython3",
   "version": "3.12.6"
  }
 },
 "nbformat": 4,
 "nbformat_minor": 5
}
